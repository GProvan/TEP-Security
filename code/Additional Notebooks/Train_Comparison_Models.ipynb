{
  "cells": [
    {
      "cell_type": "code",
      "execution_count": null,
      "metadata": {
        "colab": {
          "base_uri": "https://localhost:8080/"
        },
        "id": "DW_L-GZplaMH",
        "outputId": "5cb8bc86-7a30-434c-e0f9-e6d63f433bcc"
      },
      "outputs": [
        {
          "output_type": "stream",
          "name": "stdout",
          "text": [
            "Drive already mounted at /content/drive/; to attempt to forcibly remount, call drive.mount(\"/content/drive/\", force_remount=True).\n"
          ]
        }
      ],
      "source": [
        "# comment out for G25 machine\n",
        "from google.colab import drive\n",
        "drive.mount('/content/drive/')"
      ]
    },
    {
      "cell_type": "markdown",
      "metadata": {
        "id": "A92zXlKhleYu"
      },
      "source": [
        "## General Steps \n",
        "- Use hyper params \n",
        "- Use 10k training data\n",
        "- Save the models "
      ]
    },
    {
      "cell_type": "code",
      "execution_count": null,
      "metadata": {
        "id": "yr8B31S2lk8D"
      },
      "outputs": [],
      "source": [
        "# need to clean this up for G25 machines\n",
        "import numpy as np\n",
        "import pandas as pd\n",
        "import matplotlib.pyplot as plt\n",
        "import seaborn as sns\n",
        "import torch\n",
        "from sklearn.metrics import roc_curve,roc_auc_score\n",
        "from sklearn import preprocessing\n",
        "from sklearn.impute import SimpleImputer\n",
        "import logging\n",
        "import abc\n",
        "import numpy as np\n",
        "import pandas as pd\n",
        "import torch\n",
        "import random\n",
        "import torch.nn as nn\n",
        "from scipy.stats import multivariate_normal\n",
        "from torch.utils.data import DataLoader\n",
        "from torch.utils.data.sampler import SubsetRandomSampler\n",
        "from tqdm import trange\n",
        "import tqdm\n",
        "\n",
        "from torch.autograd import Variable\n",
        "\n",
        "\n",
        "import sklearn\n",
        "import itertools\n",
        "import operator\n",
        "from lightgbm import LGBMClassifier\n",
        "import warnings\n",
        "from collections import Counter\n",
        "warnings.filterwarnings(\"ignore\")\n",
        "import numpy as np\n",
        "import pandas as pd\n",
        "from sklearn import preprocessing\n",
        "from sklearn.impute import SimpleImputer\n",
        "from sklearn.metrics import precision_recall_curve\n",
        "from sklearn.metrics import accuracy_score\n",
        "from sklearn.metrics import confusion_matrix\n",
        "from sklearn.metrics import classification_report, f1_score"
      ]
    },
    {
      "cell_type": "code",
      "execution_count": null,
      "metadata": {
        "colab": {
          "base_uri": "https://localhost:8080/"
        },
        "id": "nKqKZWRupnI0",
        "outputId": "88cad742-0d2a-4efd-84e5-64773ea34bb7"
      },
      "outputs": [
        {
          "output_type": "stream",
          "name": "stdout",
          "text": [
            "Looking in indexes: https://pypi.org/simple, https://us-python.pkg.dev/colab-wheels/public/simple/\n",
            "Requirement already satisfied: pyod in /usr/local/lib/python3.8/dist-packages (1.0.7)\n",
            "Requirement already satisfied: combo in /usr/local/lib/python3.8/dist-packages (0.1.3)\n",
            "Requirement already satisfied: statsmodels in /usr/local/lib/python3.8/dist-packages (from pyod) (0.12.2)\n",
            "Requirement already satisfied: scipy>=1.5.1 in /usr/local/lib/python3.8/dist-packages (from pyod) (1.7.3)\n",
            "Requirement already satisfied: six in /usr/local/lib/python3.8/dist-packages (from pyod) (1.15.0)\n",
            "Requirement already satisfied: numpy>=1.19 in /usr/local/lib/python3.8/dist-packages (from pyod) (1.21.6)\n",
            "Requirement already satisfied: joblib in /usr/local/lib/python3.8/dist-packages (from pyod) (1.2.0)\n",
            "Requirement already satisfied: scikit-learn>=0.20.0 in /usr/local/lib/python3.8/dist-packages (from pyod) (1.0.2)\n",
            "Requirement already satisfied: matplotlib in /usr/local/lib/python3.8/dist-packages (from pyod) (3.2.2)\n",
            "Requirement already satisfied: numba>=0.51 in /usr/local/lib/python3.8/dist-packages (from pyod) (0.56.4)\n",
            "Requirement already satisfied: setuptools in /usr/local/lib/python3.8/dist-packages (from numba>=0.51->pyod) (57.4.0)\n",
            "Requirement already satisfied: llvmlite<0.40,>=0.39.0dev0 in /usr/local/lib/python3.8/dist-packages (from numba>=0.51->pyod) (0.39.1)\n",
            "Requirement already satisfied: importlib-metadata in /usr/local/lib/python3.8/dist-packages (from numba>=0.51->pyod) (6.0.0)\n",
            "Requirement already satisfied: threadpoolctl>=2.0.0 in /usr/local/lib/python3.8/dist-packages (from scikit-learn>=0.20.0->pyod) (3.1.0)\n",
            "Requirement already satisfied: pyparsing!=2.0.4,!=2.1.2,!=2.1.6,>=2.0.1 in /usr/local/lib/python3.8/dist-packages (from matplotlib->pyod) (3.0.9)\n",
            "Requirement already satisfied: kiwisolver>=1.0.1 in /usr/local/lib/python3.8/dist-packages (from matplotlib->pyod) (1.4.4)\n",
            "Requirement already satisfied: python-dateutil>=2.1 in /usr/local/lib/python3.8/dist-packages (from matplotlib->pyod) (2.8.2)\n",
            "Requirement already satisfied: cycler>=0.10 in /usr/local/lib/python3.8/dist-packages (from matplotlib->pyod) (0.11.0)\n",
            "Requirement already satisfied: patsy>=0.5 in /usr/local/lib/python3.8/dist-packages (from statsmodels->pyod) (0.5.3)\n",
            "Requirement already satisfied: pandas>=0.21 in /usr/local/lib/python3.8/dist-packages (from statsmodels->pyod) (1.3.5)\n",
            "Requirement already satisfied: pytz>=2017.3 in /usr/local/lib/python3.8/dist-packages (from pandas>=0.21->statsmodels->pyod) (2022.7)\n",
            "Requirement already satisfied: zipp>=0.5 in /usr/local/lib/python3.8/dist-packages (from importlib-metadata->numba>=0.51->pyod) (3.11.0)\n"
          ]
        }
      ],
      "source": [
        "pip install pyod combo"
      ]
    },
    {
      "cell_type": "code",
      "execution_count": null,
      "metadata": {
        "id": "Ed2t1WsQl67n"
      },
      "outputs": [],
      "source": [
        "# might be easier to add class manually in lab\n",
        "from preprocess import DataProcessor"
      ]
    },
    {
      "cell_type": "code",
      "execution_count": null,
      "metadata": {
        "id": "b5sscHcwmFtf"
      },
      "outputs": [],
      "source": [
        "# test is irrelevant as its just training\n",
        "train_link = \"/content/drive/My Drive/TEPdata/experiment_1/normal_10000.csv\"\n",
        "test_link = \"/content/drive/My Drive/TEPdata/experiment_1/df_IDV(5).csv\"\n",
        "\n",
        "\n",
        "processor = DataProcessor(train_link, test_link, \"Fault\", \"Unnamed: 0\")\n",
        "X_train = processor.X_train\n",
        "y_train = processor.y_train\n",
        "X_test = processor.X_test\n",
        "y_test = processor.y_test\n",
        "scaler = processor.scaler_function\n"
      ]
    },
    {
      "cell_type": "code",
      "execution_count": null,
      "metadata": {
        "id": "4Ej_ZN73mcSE"
      },
      "outputs": [],
      "source": [
        "from pyod.models.ecod import ECOD\n",
        "from pyod.models.abod import ABOD\n",
        "from pyod.models.lunar import LUNAR\n",
        "from pyod.models.vae import VAE\n",
        "from pyod.models.alad import ALAD\n",
        "from pyod.models.deep_svdd import DeepSVDD\n",
        "from pyod.models.knn import KNN"
      ]
    },
    {
      "cell_type": "code",
      "execution_count": null,
      "metadata": {
        "id": "BWPX3tJaqQ1n"
      },
      "outputs": [],
      "source": [
        "from joblib import dump, load\n",
        "def dump_model(path, model, name):\n",
        "    dump(model, '/{}/{}.joblib'.format(path,name))\n",
        "\n",
        "def load_model(path, name):\n",
        "    return load('/{}/{}.joblib'.format(path,name))\n",
        "\n",
        "    \n"
      ]
    },
    {
      "cell_type": "code",
      "execution_count": null,
      "metadata": {
        "id": "OsFzfcjlfQbL"
      },
      "outputs": [],
      "source": [
        "pyod_models = {\n",
        "           \"VAE\": VAE(epochs = 100)\n",
        "          }\n",
        "\n",
        "\n",
        "def train_models_pyod(x_train, methods,path):\n",
        "    '''\n",
        "    Function to train the models\n",
        "    :param x_train: train data\n",
        "    :param methods: list of models\n",
        "    :return: dictionary of the models\n",
        "\n",
        "    Usage:\n",
        "    >> models = train_models_pyod(x_train, methods)\n",
        "    '''\n",
        "    trained = {}\n",
        "    for model in methods:\n",
        "        methods[model].fit(x_train)\n",
        "        dump(methods[model], '/{}/{}.joblib'.format(path,model))\n",
        "        trained[model] = methods[model]\n",
        "        \n",
        "\n",
        "    return trained\n",
        "\n",
        "train_models_pyod(X_train,pyod_models, \"/content/\" )"
      ]
    },
    {
      "cell_type": "code",
      "execution_count": null,
      "metadata": {
        "id": "mM1gP6843GgX"
      },
      "outputs": [],
      "source": []
    }
  ],
  "metadata": {
    "colab": {
      "provenance": []
    },
    "kernelspec": {
      "display_name": "Python 3",
      "name": "python3"
    },
    "language_info": {
      "name": "python"
    }
  },
  "nbformat": 4,
  "nbformat_minor": 0
}