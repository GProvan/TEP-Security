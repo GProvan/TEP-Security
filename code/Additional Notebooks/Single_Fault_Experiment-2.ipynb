{
  "cells": [
    {
      "cell_type": "markdown",
      "metadata": {
        "id": "A2YGzGRJj5S9"
      },
      "source": [
        "# Single Fault Experiment"
      ]
    },
    {
      "cell_type": "markdown",
      "metadata": {
        "id": "4tkcrRY4j5M_"
      },
      "source": [
        "## Setup - Install / Import packages, Import files / Connect to Drive"
      ]
    },
    {
      "cell_type": "markdown",
      "metadata": {
        "id": "lEnkNdKvkZ3a"
      },
      "source": [
        "### Connect to Drive"
      ]
    },
    {
      "cell_type": "code",
      "execution_count": null,
      "metadata": {
        "colab": {
          "base_uri": "https://localhost:8080/"
        },
        "id": "WLdJRdfikGlV",
        "outputId": "f367ab23-6e7d-45ae-922a-ce098aa7b640"
      },
      "outputs": [
        {
          "output_type": "stream",
          "name": "stdout",
          "text": [
            "Mounted at /content/drive/\n"
          ]
        }
      ],
      "source": [
        "from google.colab import drive\n",
        "drive.mount('/content/drive/')"
      ]
    },
    {
      "cell_type": "markdown",
      "metadata": {
        "id": "8ASkeqEFkcb-"
      },
      "source": [
        "### Install packages"
      ]
    },
    {
      "cell_type": "code",
      "execution_count": null,
      "metadata": {
        "colab": {
          "base_uri": "https://localhost:8080/"
        },
        "id": "2fzH3HmKkNAh",
        "outputId": "b98d008a-344a-4a23-fbd6-bfee457b431c"
      },
      "outputs": [
        {
          "output_type": "stream",
          "name": "stdout",
          "text": [
            "Looking in indexes: https://pypi.org/simple, https://us-python.pkg.dev/colab-wheels/public/simple/\n",
            "Collecting ruptures\n",
            "  Downloading ruptures-1.1.7-cp38-cp38-manylinux_2_17_x86_64.manylinux2014_x86_64.whl (1.1 MB)\n",
            "\u001b[2K     \u001b[90m━━━━━━━━━━━━━━━━━━━━━━━━━━━━━━━━━━━━━━━━\u001b[0m \u001b[32m1.1/1.1 MB\u001b[0m \u001b[31m35.0 MB/s\u001b[0m eta \u001b[36m0:00:00\u001b[0m\n",
            "\u001b[?25hCollecting pyod\n",
            "  Downloading pyod-1.0.7.tar.gz (147 kB)\n",
            "\u001b[2K     \u001b[90m━━━━━━━━━━━━━━━━━━━━━━━━━━━━━━━━━━━━━━\u001b[0m \u001b[32m147.7/147.7 KB\u001b[0m \u001b[31m20.8 MB/s\u001b[0m eta \u001b[36m0:00:00\u001b[0m\n",
            "\u001b[?25h  Preparing metadata (setup.py) ... \u001b[?25l\u001b[?25hdone\n",
            "Collecting combo\n",
            "  Downloading combo-0.1.3.tar.gz (38 kB)\n",
            "  Preparing metadata (setup.py) ... \u001b[?25l\u001b[?25hdone\n",
            "Requirement already satisfied: numpy in /usr/local/lib/python3.8/dist-packages (from ruptures) (1.21.6)\n",
            "Requirement already satisfied: scipy in /usr/local/lib/python3.8/dist-packages (from ruptures) (1.7.3)\n",
            "Requirement already satisfied: joblib in /usr/local/lib/python3.8/dist-packages (from pyod) (1.2.0)\n",
            "Requirement already satisfied: matplotlib in /usr/local/lib/python3.8/dist-packages (from pyod) (3.2.2)\n",
            "Requirement already satisfied: numba>=0.51 in /usr/local/lib/python3.8/dist-packages (from pyod) (0.56.4)\n",
            "Requirement already satisfied: scikit_learn>=0.20.0 in /usr/local/lib/python3.8/dist-packages (from pyod) (1.0.2)\n",
            "Requirement already satisfied: six in /usr/local/lib/python3.8/dist-packages (from pyod) (1.15.0)\n",
            "Requirement already satisfied: statsmodels in /usr/local/lib/python3.8/dist-packages (from pyod) (0.12.2)\n",
            "Requirement already satisfied: llvmlite<0.40,>=0.39.0dev0 in /usr/local/lib/python3.8/dist-packages (from numba>=0.51->pyod) (0.39.1)\n",
            "Requirement already satisfied: importlib-metadata in /usr/local/lib/python3.8/dist-packages (from numba>=0.51->pyod) (6.0.0)\n",
            "Requirement already satisfied: setuptools in /usr/local/lib/python3.8/dist-packages (from numba>=0.51->pyod) (57.4.0)\n",
            "Requirement already satisfied: threadpoolctl>=2.0.0 in /usr/local/lib/python3.8/dist-packages (from scikit_learn>=0.20.0->pyod) (3.1.0)\n",
            "Requirement already satisfied: kiwisolver>=1.0.1 in /usr/local/lib/python3.8/dist-packages (from matplotlib->pyod) (1.4.4)\n",
            "Requirement already satisfied: python-dateutil>=2.1 in /usr/local/lib/python3.8/dist-packages (from matplotlib->pyod) (2.8.2)\n",
            "Requirement already satisfied: pyparsing!=2.0.4,!=2.1.2,!=2.1.6,>=2.0.1 in /usr/local/lib/python3.8/dist-packages (from matplotlib->pyod) (3.0.9)\n",
            "Requirement already satisfied: cycler>=0.10 in /usr/local/lib/python3.8/dist-packages (from matplotlib->pyod) (0.11.0)\n",
            "Requirement already satisfied: pandas>=0.21 in /usr/local/lib/python3.8/dist-packages (from statsmodels->pyod) (1.3.5)\n",
            "Requirement already satisfied: patsy>=0.5 in /usr/local/lib/python3.8/dist-packages (from statsmodels->pyod) (0.5.3)\n",
            "Requirement already satisfied: pytz>=2017.3 in /usr/local/lib/python3.8/dist-packages (from pandas>=0.21->statsmodels->pyod) (2022.7)\n",
            "Requirement already satisfied: zipp>=0.5 in /usr/local/lib/python3.8/dist-packages (from importlib-metadata->numba>=0.51->pyod) (3.11.0)\n",
            "Building wheels for collected packages: pyod, combo\n",
            "  Building wheel for pyod (setup.py) ... \u001b[?25l\u001b[?25hdone\n",
            "  Created wheel for pyod: filename=pyod-1.0.7-py3-none-any.whl size=181101 sha256=75137314ef6f7a2cd1b504b5dc4965e3973c2bad4da543adadd6e8cdfea8eb4d\n",
            "  Stored in directory: /root/.cache/pip/wheels/f7/e2/c1/1c7fd8b261e72411f6509afb429c84532e40ddcd96074473f4\n",
            "  Building wheel for combo (setup.py) ... \u001b[?25l\u001b[?25hdone\n",
            "  Created wheel for combo: filename=combo-0.1.3-py3-none-any.whl size=42885 sha256=8dde53bd3e37fab49bac2d4fbb41b1d931b688232e1b512a1bf2c6505d16bec7\n",
            "  Stored in directory: /root/.cache/pip/wheels/ec/44/39/0667fea44a2dfe692cc2a51f0f79ea49b9dee7def53594ef2e\n",
            "Successfully built pyod combo\n",
            "Installing collected packages: ruptures, pyod, combo\n",
            "Successfully installed combo-0.1.3 pyod-1.0.7 ruptures-1.1.7\n"
          ]
        }
      ],
      "source": [
        "pip install ruptures pyod combo"
      ]
    },
    {
      "cell_type": "markdown",
      "metadata": {
        "id": "sNOZxzG-kfIm"
      },
      "source": [
        "### Import packages"
      ]
    },
    {
      "cell_type": "code",
      "execution_count": null,
      "metadata": {
        "id": "dcBboRMnkSkp"
      },
      "outputs": [],
      "source": [
        "from sklearn.metrics import precision_recall_curve\n",
        "from sklearn.metrics import accuracy_score\n",
        "from sklearn.metrics import confusion_matrix\n",
        "from sklearn.metrics import classification_report\n",
        "from sklearn.metrics import roc_curve,roc_auc_score\n",
        "import pandas as pd\n",
        "import numpy as np\n",
        "'''\n",
        "# Pyod imports \n",
        "from pyod.models.ecod import ECOD\n",
        "from pyod.models.abod import ABOD\n",
        "from pyod.models.lunar import LUNAR\n",
        "from pyod.models.vae import VAE\n",
        "from pyod.models.alad import ALAD\n",
        "from pyod.models.deep_svdd import DeepSVDD\n",
        "from pyod.models.knn import KNN\n",
        "# Ruptures imports\n",
        "import ruptures as rpt\n",
        "'''\n",
        "# Proposed Imports\n",
        "import torch\n",
        "from tqdm import trange\n",
        "import tqdm\n",
        "from torch.autograd import Variable\n",
        "from torch.utils.data import DataLoader\n",
        "from torch.utils.data.sampler import SubsetRandomSampler\n",
        "import logging\n"
      ]
    },
    {
      "cell_type": "markdown",
      "metadata": {
        "id": "dJyhNBq-j5E7"
      },
      "source": [
        "### Import pipeline steps"
      ]
    },
    {
      "cell_type": "code",
      "execution_count": null,
      "metadata": {
        "id": "snXnHumPk0AD"
      },
      "outputs": [],
      "source": [
        "from detector import *\n",
        "from preprocess import * "
      ]
    },
    {
      "cell_type": "markdown",
      "metadata": {
        "id": "yORtNpIblQWD"
      },
      "source": [
        "### Load Proposed Model"
      ]
    },
    {
      "cell_type": "code",
      "execution_count": null,
      "metadata": {
        "id": "LfkiHWLolSPD"
      },
      "outputs": [],
      "source": [
        "model = AnomalyDetector()\n",
        "model= torch.load('/content/b256_e10000_h25.pth')\n"
      ]
    },
    {
      "cell_type": "markdown",
      "metadata": {
        "id": "L5-oAt45ms_w"
      },
      "source": [
        "## Preprocess Example"
      ]
    },
    {
      "cell_type": "code",
      "execution_count": null,
      "metadata": {
        "id": "iQvMBi_Emtlh"
      },
      "outputs": [],
      "source": [
        "train_link = \"/content/drive/My Drive/TEPdata/experiment_1/normal_10000.csv\"\n",
        "test_link = \"/content/drive/My Drive/TEPdata/experiment_1/df_IDV(8).csv\"\n",
        "\n",
        "\n",
        "processor = DataProcessor(train_link, test_link, \"Fault\", \"Unnamed: 0\")\n",
        "X_train = processor.X_train\n",
        "y_train = processor.y_train\n",
        "X_test = processor.X_test\n",
        "y_test = processor.y_test\n",
        "scaler = processor.scaler_function"
      ]
    },
    {
      "cell_type": "markdown",
      "metadata": {
        "id": "EDo-d-c3j5Ay"
      },
      "source": [
        "## Shared Functions"
      ]
    },
    {
      "cell_type": "markdown",
      "metadata": {
        "id": "vq2R9o2bliu1"
      },
      "source": [
        "### Evaluation / Helper Functions"
      ]
    },
    {
      "cell_type": "code",
      "execution_count": null,
      "metadata": {
        "id": "F5I4nFXSlkzI"
      },
      "outputs": [],
      "source": [
        "def _precision(tp, fp):\n",
        "    '''\n",
        "    Precision = TP / (TP + FP)\n",
        "    :param tp: True Positive\n",
        "    :param fp: False Positive\n",
        "    :return: precision\n",
        "    \n",
        "    Usage of the function:\n",
        "    -> _precision(10, 5)\n",
        "    '''\n",
        "    pre = tp / float(tp + fp)\n",
        "    return pre\n",
        "\n",
        "\n",
        "def _recall(tp, fn):\n",
        "    '''\n",
        "    Recall = TP / (TP + FN)\n",
        "    :param tp: True Positive\n",
        "    :param fn: False Negative\n",
        "    :return: recall\n",
        "\n",
        "    Usage of the function:\n",
        "    -> _recall(10, 5)\n",
        "    '''\n",
        "    rec = tp / float(tp + fn)\n",
        "    return rec\n",
        "\n",
        "\n",
        "def _f1(pre, rec):\n",
        "    '''\n",
        "    F1 = 2 * (Precision * Recall) / (Precision + Recall)\n",
        "    :param pre: Precision\n",
        "    :param rec: Recall\n",
        "    :return: F1 Score\n",
        "    \n",
        "    Usage of the function:\n",
        "    -> _f1(0.5, 0.5)\n",
        "    '''\n",
        "    f1 = 2 * (pre * rec) / (pre + rec)\n",
        "    return f1\n",
        "\n",
        "\n",
        "def print_results(accuracy, pre, rec, f1, roc):\n",
        "    '''\n",
        "    Print the results of the model\n",
        "    :param accuracy: Accuracy of the model\n",
        "    :param pre: Precision of the model\n",
        "    :param rec: Recall of the model\n",
        "    :param f1: F1 Score of the model\n",
        "    :param roc: ROC AUC Score of the model\n",
        "    :return: None\n",
        "    \n",
        "    Usage of the function:\n",
        "    -> print_results(0.5, 0.5, 0.5, 0.5, 0.5)\n",
        "    '''\n",
        "    print(\"Accuracy: {}%\".format(round(accuracy * 100, 2)))\n",
        "    print(\"Precision: {}%\".format(round(pre * 100, 2)))\n",
        "    print(\"Recall: {}%\".format(round(rec * 100, 2)))\n",
        "    print(\"F1 Score: {}%\".format(round(f1 * 100, 2)))\n",
        "    print(\"ROCAUC: {}%\".format(round(roc * 100, 2)))\n",
        "\n",
        "def _results(accuracy, pre, rec, f1,roc):\n",
        "    '''\n",
        "    Function to calculate the results\n",
        "    :param accuracy: accuracy score\n",
        "    :param pre: precision score\n",
        "    :param rec: recall score\n",
        "    :param f1: f1 score\n",
        "    :param roc: roc_auc score\n",
        "    :return: accuracy, precision, recall, f1, roc_auc\n",
        "    \n",
        "    Usage:\n",
        "    >> acc,precision, recall, f1_score, roc_auc = _results(accuracy, precision, recall , f1, roc)\n",
        "    '''\n",
        "    acc = round(accuracy*100,2)\n",
        "    precision = round(pre*100,2)\n",
        "    recall = round(rec*100,2)\n",
        "    f1_score = round(f1*100,2)\n",
        "    roc_auc = round(roc*100,2)\n",
        "    return [acc,precision, recall, f1_score, roc_auc]\n",
        "\n",
        "def calculate_results_return(y_test, y_pred):\n",
        "    '''\n",
        "    Function to calculate the results\n",
        "    :param y_test: test data\n",
        "    :param y_pred: predicted data\n",
        "    :return: accuracy, precision, recall, f1, roc_auc\n",
        "    \n",
        "    Usage:\n",
        "    >> acc,precision, recall, f1_score, roc_auc = calculate_results(y_test, y_pred)\n",
        "    '''\n",
        "    cm = confusion_matrix(y_test, y_pred)\n",
        "    TP = cm[0,0]\n",
        "    TN = cm[1,1]\n",
        "    FP = cm[0,1]\n",
        "    FN = cm[1,0]\n",
        "    accuracy = accuracy_score(y_test, y_pred)\n",
        "    precision = _precision(TP,FP)\n",
        "    recall = _recall(TP,FN)\n",
        "    f1 = _f1(precision,recall)\n",
        "    roc = roc_auc_score(y_test, y_pred)\n",
        "    acc,precision, recall, f1_score, roc_auc = _results(accuracy, precision, recall , f1, roc)\n",
        "    return [acc,precision, recall, f1_score, roc_auc]\n",
        "\n",
        "def result_dataframe(result_dict, y_test,fault):\n",
        "    '''\n",
        "    Function to create a dataframe of the results\n",
        "    :param result_dict: dictionary of the results\n",
        "    :param y_test: test data\n",
        "    :param fault: fault type\n",
        "    :return: dataframe of the results\n",
        "    \n",
        "    Usage:\n",
        "    >> df = result_dataframe(result_dict, y_test, fault)\n",
        "    '''\n",
        "    df = pd.DataFrame()\n",
        "    for model in result_dict:\n",
        "        res = calculate_results_return(y_test,  result_dict[model])\n",
        "        df = df.append({\"Fault\": fault,'Model' : model, 'Accuracy': res[0], 'Precision': res[1], 'Recall': res[2], 'F1 Score': res[3], 'ROCAUC': res[4]}, ignore_index=True)\n",
        "    return df\n",
        "\n",
        "def join_df(df_list):\n",
        "    '''\n",
        "    Function to join the dataframes\n",
        "    :param df_list: list of dataframes\n",
        "    :return: joined dataframe\n",
        "    \n",
        "    Usage:\n",
        "    >> df = join_df(df_list)\n",
        "    '''\n",
        "    df = pd.concat(df_list, ignore_index=True)\n",
        "    return df\n",
        "\n",
        "def fault_name(link):\n",
        "    '''\n",
        "    Function to get the fault name\n",
        "    :param link: link to the fault\n",
        "    :return: fault name\n",
        "    \n",
        "    Usage:\n",
        "    >> fault = fault_name(link)\n",
        "    '''\n",
        "    parts = link.split('/')\n",
        "    filename = parts[-1]  # get the last part of the split string, which is the file name\n",
        "    idv = filename.split('_')[-1].split('.')[0]  # get the last part before the '.'\n",
        "    return idv\n",
        "\n",
        "def convert_dict_to_df(dictionary,y_true, fault):\n",
        "    '''\n",
        "    Function to convert the dictionary to a dataframe\n",
        "    :param dictionary: dictionary of the results\n",
        "    :param y_true: true labels\n",
        "    :param fault: fault name\n",
        "    :return: dataframe of the results\n",
        "    \n",
        "    Usage:\n",
        "    >> df = convert_dict_to_df(dictionary,y_true, fault)\n",
        "    '''\n",
        "    dictionary[\"y_true\"] = y_true\n",
        "    df=pd.DataFrame.from_dict(dictionary,orient='index').transpose()\n",
        "    df[\"Fault\"] = fault\n",
        "    return df\n",
        "\n",
        "from joblib import dump, load\n",
        "def dump_model(path, model, name):\n",
        "    dump(model, '/{}/{}.joblib'.format(path,name))\n",
        "\n",
        "def load_model(path, name):\n",
        "    return load('/{}/{}.joblib'.format(path,name))\n",
        "\n",
        "    "
      ]
    },
    {
      "cell_type": "markdown",
      "metadata": {
        "id": "HVOOjcFOnjcP"
      },
      "source": [
        "## Pipelines"
      ]
    },
    {
      "cell_type": "markdown",
      "metadata": {
        "id": "z_LHtTqrj48_"
      },
      "source": [
        "### Proposed Model Pipeline"
      ]
    },
    {
      "cell_type": "code",
      "execution_count": null,
      "metadata": {
        "id": "B6fjEzIymiOU"
      },
      "outputs": [],
      "source": [
        "def find_optimal_threshold(y_test, y_pred):\n",
        "        '''\n",
        "        :param y_test: test target variable\n",
        "        :param y_pred: predicted target variable\n",
        "        :return: optimal threshold\n",
        "        '''\n",
        "        # get the false positive rate, true positive rate and thresholds\n",
        "        fpr, tpr, thresholds = roc_curve(y_test, y_pred)\n",
        "        # get the optimal threshold based on the maximum tpr - fpr\n",
        "        optimal_idx = np.argmax(tpr - fpr)\n",
        "        # get the optimal threshold\n",
        "        optimal_threshold = thresholds[optimal_idx]\n",
        "        return optimal_threshold\n",
        "\n",
        "def convert_scores_to_label(array, threshold):\n",
        "    '''\n",
        "    The function converts the scores to labels based on the threshold, if the score is greater than the threshold,\n",
        "    the label is 1, else 0\n",
        "    :param array: array of scores\n",
        "    :param threshold: threshold to use for converting the scores to labels\n",
        "    :return: array of labels\n",
        "    '''\n",
        "    binary = []\n",
        "    for i in array:\n",
        "        if i < threshold:\n",
        "            binary.append(0)\n",
        "        else:\n",
        "            binary.append(1)\n",
        "    return binary\n",
        "\n",
        "\n",
        "\n",
        "def run_experiment_lstm(link_test, y_test):\n",
        "    '''\n",
        "    Function to run the experiment\n",
        "    :param link_test: link to the test data\n",
        "    :param y_test: test data\n",
        "    :return: dataframe of the results\n",
        "    '''\n",
        "    # get the fault name\n",
        "    fname = fault_name(link_test) \n",
        "    # create a DataProcessor object\n",
        "    processor = DataProcessor(train_link, link_test, \"Fault\", \"Unnamed: 0\") \n",
        "    X_train = processor.X_train\n",
        "    y_train = processor.y_train\n",
        "    x_test = processor.X_test\n",
        "    y_test = processor.y_test\n",
        "\n",
        "    def test_models(x_test):\n",
        "        # predict the data\n",
        "        yp, det = model.predict(x_test)\n",
        "        # find the optimal threshold\n",
        "        optimal = find_optimal_threshold(y_test, yp)\n",
        "        # convert the scores to labels\n",
        "        y_pred = convert_scores_to_label(yp, optimal) \n",
        "        results = {}\n",
        "        results[\"Proposed Model\"] = y_pred\n",
        "        return results\n",
        "\n",
        "    # get the results\n",
        "    result_dict = test_models(x_test)\n",
        "    # get the predictions\n",
        "    predictions = result_dict \n",
        "    # get the true labels\n",
        "    predictions[\"y_true\"] = list(y_test)\n",
        "    # get the dataframe of the results\n",
        "    result = result_dataframe(result_dict, y_test, fname)\n",
        "    return result, result_dict "
      ]
    },
    {
      "cell_type": "markdown",
      "metadata": {
        "id": "xDriVCgCj4xd"
      },
      "source": [
        "### PYOD Pipelines"
      ]
    },
    {
      "cell_type": "code",
      "execution_count": null,
      "metadata": {
        "id": "WXP7IlcljqzT"
      },
      "outputs": [],
      "source": [
        "pyod_models = {\"ECOD\": ECOD(),\n",
        "           \"ABOD\":ABOD(),\n",
        "           \"LUNAR\": LUNAR(n_epochs = 400),\n",
        "           \"VAE\": VAE(epochs = 200), \n",
        "           \"ALAD\": ALAD(epochs = 1000),\n",
        "           \"DeepSVDD\" : DeepSVDD(epochs = 200),\n",
        "           \"KNN\": KNN(method = \"mean\") }\n",
        "\n",
        "ecod = load_model(\"/content/\", \"ECOD\")\n",
        "abod = load_model(\"/content/\", \"ABOD\")\n",
        "lunar = load_model(\"/content/\", \"LUNAR\")\n",
        "#vae = load_model(\"/content/\", \"ECOD\")\n",
        "alad = load_model(\"/content/\", \"ALAD\")\n",
        "deepsvdd = load_model(\"/content/\", \"DeepSVDD\")\n",
        "knn = load_model(\"/content/\", \"KNN\")\n",
        "\n",
        "\n",
        "trained_pyod = {\"ECOD\": ecod,\n",
        "           \"ABOD\":abod,\n",
        "           \"LUNAR\": lunar, \n",
        "           \"ALAD\": alad,\n",
        "           \"DeepSVDD\" : deepsvdd,\n",
        "           \"KNN\": knn}\n",
        "\n",
        "\n",
        "def train_models_pyod(x_train, methods):\n",
        "    '''\n",
        "    Function to train the models\n",
        "    :param x_train: train data\n",
        "    :param methods: list of models\n",
        "    :return: dictionary of the models\n",
        "\n",
        "    Usage:\n",
        "    >> models = train_models_pyod(x_train, methods)\n",
        "    '''\n",
        "    trained = {}\n",
        "    for model in methods:\n",
        "        methods[model].fit(x_train)\n",
        "        trained[model] = methods[model]\n",
        "    return trained\n",
        "\n",
        "\n",
        "import pandas as pd\n",
        "\n",
        "\n",
        "def run_experiment_pyod(link_test, y_test, models):\n",
        "    '''\n",
        "    Function to run the experiment\n",
        "    :param link_test: link to the test data\n",
        "    :param y_test: test data\n",
        "    :param models: list of models\n",
        "    :return: dataframe of the results\n",
        "\n",
        "    Usage:\n",
        "    >> df = run_experiment_pyod(link_test, y_test, models)\n",
        "    '''\n",
        "    # get the fault name\n",
        "    fname = fault_name(link_test)\n",
        "    # create a DataProcessor object\n",
        "    processor = DataProcessor(train_link, link_test, \"Fault\", \"Unnamed: 0\")\n",
        "    X_train = processor.X_train\n",
        "    y_train = processor.y_train\n",
        "    x_test = processor.X_test\n",
        "    y_test = processor.y_test\n",
        "\n",
        "    def test_models(x_test, models):\n",
        "        '''\n",
        "        Function to test the models\n",
        "        :param x_test: test data\n",
        "        :param models: list of models\n",
        "        :return: dictionary of the results\n",
        "\n",
        "        Usage:\n",
        "        >> results = test_models(x_test, models)\n",
        "        '''\n",
        "        results = {}\n",
        "        for model in models:\n",
        "            y_pred = models[model].predict(x_test)\n",
        "            results[model] = list(y_pred)\n",
        "\n",
        "        return results\n",
        "\n",
        "    result_dict = test_models(x_test, models)\n",
        "    predictions = result_dict\n",
        "    predictions[\"y_true\"] = list(y_test)\n",
        "    result = result_dataframe(result_dict, y_test, fname)\n",
        "    return result, predictions"
      ]
    },
    {
      "cell_type": "markdown",
      "metadata": {
        "id": "FoZWpC4ToPu6"
      },
      "source": [
        "### Ruptures Pipeline"
      ]
    },
    {
      "cell_type": "code",
      "execution_count": null,
      "metadata": {
        "id": "-7YUzjqAoRAk"
      },
      "outputs": [],
      "source": [
        "\n",
        "models_cp = {'PELT': rpt.KernelCPD(kernel=\"rbf\", min_size=2),\n",
        "             \"BottomUp\": rpt.detection.bottomup.BottomUp(model = \"rbf\")}\n",
        "\n",
        "\n",
        "def run_experiment_ruptures(link_test, y_test, models, penalty):\n",
        "    '''\n",
        "    Function to run the experiment\n",
        "    :param link_test: link to the test data\n",
        "    :param y_test: test data\n",
        "    :param models: list of models\n",
        "    :param penalty: penalty\n",
        "    :return: dataframe of the results\n",
        "    \n",
        "    Usage:\n",
        "    >> df = run_experiment_ruptures(link_test, y_test, models, penalty)\n",
        "    '''\n",
        "    fname = fault_name(link_test)\n",
        "    processor = DataProcessor(train_link, link_test, \"Fault\", \"Unnamed: 0\")\n",
        "    X_train = processor.X_train\n",
        "    y_train = processor.y_train\n",
        "    x_test = processor.X_test\n",
        "    y_test = processor.y_test\n",
        "\n",
        "    def train_models(x_test, models, penalty):\n",
        "        '''\n",
        "        Function to train the models\n",
        "        :param x_test: test data\n",
        "        :param models: list of models\n",
        "        :param penalty: penalty\n",
        "        \n",
        "        Usage:\n",
        "        >> trained = train_models(x_test, models, penalty)\n",
        "        :return: \n",
        "        '''\n",
        "        test_length = len(x_test)\n",
        "        results = {}\n",
        "        for model in models:\n",
        "            models[model].fit(x_test.values)\n",
        "            bkps = models[model].predict(pen=penalty)\n",
        "            if len(bkps) % 2 != 0:\n",
        "                bkps.pop()\n",
        "            y_pred = [0] * test_length\n",
        "            for i in range(0, len(bkps), 2):\n",
        "                for j in range(bkps[i], bkps[i + 1] + 1):\n",
        "                    if j < test_length:\n",
        "                        y_pred[j] = 1\n",
        "\n",
        "            results[model] = y_pred\n",
        "        return results\n",
        "\n",
        "    result_dict = train_models(x_test, models, penalty)\n",
        "    predictions = result_dict\n",
        "    predictions[\"y_true\"] = list(y_test)\n",
        "    result = result_dataframe(result_dict, y_test, fname)\n",
        "    return result, predictions"
      ]
    },
    {
      "cell_type": "markdown",
      "metadata": {
        "id": "MFN9Y_4KpGOq"
      },
      "source": [
        "## Call Functions"
      ]
    },
    {
      "cell_type": "markdown",
      "metadata": {
        "id": "XKzoCxnFpIpF"
      },
      "source": [
        "### Proposed Model Calls"
      ]
    },
    {
      "cell_type": "code",
      "execution_count": null,
      "metadata": {
        "id": "mc2pcZZhpLQJ"
      },
      "outputs": [],
      "source": [
        "# Run experiment on each Test Set\n",
        "results_lstm_idv1,y_preds_idv1 = run_experiment_lstm(\"/content/drive/My Drive/TEPdata/experiment_1/df_IDV(1).csv\",y_test)\n",
        "results_lstm_idv2,y_preds_idv2 = run_experiment_lstm(\"/content/drive/My Drive/TEPdata/experiment_1/df_IDV(2).csv\",y_test)\n",
        "results_lstm_idv3,y_preds_idv3 = run_experiment_lstm(\"/content/drive/My Drive/TEPdata/experiment_1/df_IDV(3).csv\",y_test)\n",
        "results_lstm_idv4,y_preds_idv4 = run_experiment_lstm(\"/content/drive/My Drive/TEPdata/experiment_1/df_IDV(4).csv\",y_test)\n",
        "results_lstm_idv5,y_preds_idv5 = run_experiment_lstm(\"/content/drive/My Drive/TEPdata/experiment_1/df_IDV(5).csv\",y_test)\n",
        "results_lstm_idv6,y_preds_idv6 = run_experiment_lstm(\"/content/drive/My Drive/TEPdata/experiment_1/df_IDV(6).csv\",y_test)\n",
        "results_lstm_idv7,y_preds_idv7 = run_experiment_lstm(\"/content/drive/My Drive/TEPdata/experiment_1/df_IDV(7).csv\",y_test)\n",
        "results_lstm_idv8,y_preds_idv8 = run_experiment_lstm(\"/content/drive/My Drive/TEPdata/experiment_1/df_IDV(8).csv\",y_test)\n",
        "results_lstm_idv9,y_preds_idv9 = run_experiment_lstm(\"/content/drive/My Drive/TEPdata/experiment_1/df_IDV(9).csv\",y_test)\n",
        "results_lstm_idv10,y_preds_idv10 = run_experiment_lstm(\"/content/drive/My Drive/TEPdata/experiment_1/df_IDV(10).csv\",y_test)\n",
        "results_lstm_idv11,y_preds_idv11 = run_experiment_lstm(\"/content/drive/My Drive/TEPdata/experiment_1/df_IDV(11).csv\",y_test)\n",
        "results_lstm_idv12,y_preds_idv12 = run_experiment_lstm(\"/content/drive/My Drive/TEPdata/experiment_1/df_IDV(12).csv\",y_test)\n",
        "results_lstm_idv13,y_preds_idv13 = run_experiment_lstm(\"/content/drive/My Drive/TEPdata/experiment_1/df_IDV(13).csv\",y_test)\n",
        "results_lstm_idv14,y_preds_idv14 = run_experiment_lstm(\"/content/drive/My Drive/TEPdata/experiment_1/df_IDV(14).csv\",y_test)\n",
        "results_lstm_idv15,y_preds_idv15 = run_experiment_lstm(\"/content/drive/My Drive/TEPdata/experiment_1/df_IDV(15).csv\",y_test)\n",
        "results_lstm_idv16,y_preds_idv16 = run_experiment_lstm(\"/content/drive/My Drive/TEPdata/experiment_1/df_IDV(16).csv\",y_test)\n",
        "results_lstm_idv17,y_preds_idv17 = run_experiment_lstm(\"/content/drive/My Drive/TEPdata/experiment_1/df_IDV(17).csv\",y_test)\n",
        "results_lstm_idv18,y_preds_idv18 = run_experiment_lstm(\"/content/drive/My Drive/TEPdata/experiment_1/df_IDV(18).csv\",y_test)\n",
        "results_lstm_idv19,y_preds_idv19 = run_experiment_lstm(\"/content/drive/My Drive/TEPdata/experiment_1/df_IDV(19).csv\",y_test)\n",
        "results_lstm_idv20,y_preds_idv20 = run_experiment_lstm(\"/content/drive/My Drive/TEPdata/experiment_1/df_IDV(20).csv\",y_test)\n",
        "\n",
        "# Convert Labels to a Dataframe\n",
        "y_preds_idv1 = convert_dict_to_df(y_preds_idv1,y_test, \"IDV(1)\")\n",
        "y_preds_idv2 = convert_dict_to_df(y_preds_idv2,y_test, \"IDV(2)\")\n",
        "y_preds_idv3 = convert_dict_to_df(y_preds_idv3,y_test, \"IDV(3)\")\n",
        "y_preds_idv4 = convert_dict_to_df(y_preds_idv4,y_test, \"IDV(4)\")\n",
        "y_preds_idv5 = convert_dict_to_df(y_preds_idv5,y_test, \"IDV(5)\")\n",
        "y_preds_idv6 = convert_dict_to_df(y_preds_idv6,y_test, \"IDV(6)\")\n",
        "y_preds_idv7 = convert_dict_to_df(y_preds_idv7,y_test, \"IDV(7)\")\n",
        "y_preds_idv8 = convert_dict_to_df(y_preds_idv8,y_test, \"IDV(8)\")\n",
        "y_preds_idv9 = convert_dict_to_df(y_preds_idv9,y_test, \"IDV(9)\")\n",
        "y_preds_idv10 = convert_dict_to_df(y_preds_idv10,y_test, \"IDV(10)\")\n",
        "y_preds_idv11 = convert_dict_to_df(y_preds_idv11,y_test, \"IDV(11)\")\n",
        "y_preds_idv12 = convert_dict_to_df(y_preds_idv12,y_test, \"IDV(12)\")\n",
        "y_preds_idv13 = convert_dict_to_df(y_preds_idv13,y_test, \"IDV(13)\")\n",
        "y_preds_idv14 = convert_dict_to_df(y_preds_idv14,y_test, \"IDV(14)\")\n",
        "y_preds_idv15 = convert_dict_to_df(y_preds_idv15,y_test, \"IDV(15)\")\n",
        "y_preds_idv16 = convert_dict_to_df(y_preds_idv16,y_test, \"IDV(16)\")\n",
        "y_preds_idv17 = convert_dict_to_df(y_preds_idv17,y_test, \"IDV(17)\")\n",
        "y_preds_idv18 = convert_dict_to_df(y_preds_idv18,y_test, \"IDV(18)\")\n",
        "y_preds_idv19 = convert_dict_to_df(y_preds_idv19,y_test, \"IDV(19)\")\n",
        "y_preds_idv20 = convert_dict_to_df(y_preds_idv20,y_test, \"IDV(20)\")"
      ]
    },
    {
      "cell_type": "markdown",
      "metadata": {
        "id": "cqzZ4s2Updph"
      },
      "source": [
        "### PYOD Calls"
      ]
    },
    {
      "cell_type": "code",
      "execution_count": null,
      "metadata": {
        "id": "nDnoQ8OIopr1",
        "colab": {
          "base_uri": "https://localhost:8080/"
        },
        "outputId": "3e349c32-7e85-47c6-d119-e56e9de6ae9d"
      },
      "outputs": [
        {
          "output_type": "stream",
          "name": "stdout",
          "text": [
            "313/313 [==============================] - 1s 2ms/step\n",
            "313/313 [==============================] - 1s 2ms/step\n",
            "313/313 [==============================] - 0s 1ms/step\n",
            "313/313 [==============================] - 0s 2ms/step\n",
            "313/313 [==============================] - 0s 1ms/step\n",
            "313/313 [==============================] - 0s 1ms/step\n",
            "313/313 [==============================] - 0s 2ms/step\n",
            "313/313 [==============================] - 0s 2ms/step\n",
            "313/313 [==============================] - 0s 1ms/step\n",
            "313/313 [==============================] - 0s 1ms/step\n",
            "313/313 [==============================] - 0s 1ms/step\n",
            "313/313 [==============================] - 0s 1ms/step\n",
            "313/313 [==============================] - 0s 2ms/step\n",
            "313/313 [==============================] - 0s 1ms/step\n",
            "313/313 [==============================] - 0s 2ms/step\n",
            "313/313 [==============================] - 1s 2ms/step\n",
            "313/313 [==============================] - 0s 1ms/step\n",
            "313/313 [==============================] - 0s 1ms/step\n",
            "313/313 [==============================] - 0s 1ms/step\n",
            "313/313 [==============================] - 0s 1ms/step\n"
          ]
        }
      ],
      "source": [
        "results_pyod_idv1,pyod_idv1 = run_experiment_pyod(\"/content/drive/My Drive/TEPdata/experiment_1/df_IDV(1).csv\",y_test, trained_pyod)\n",
        "results_pyod_idv2,pyod_idv2 = run_experiment_pyod(\"/content/drive/My Drive/TEPdata/experiment_1/df_IDV(2).csv\",y_test, trained_pyod)\n",
        "results_pyod_idv3,pyod_idv3 = run_experiment_pyod(\"/content/drive/My Drive/TEPdata/experiment_1/df_IDV(3).csv\",y_test, trained_pyod)\n",
        "results_pyod_idv4,pyod_idv4 = run_experiment_pyod(\"/content/drive/My Drive/TEPdata/experiment_1/df_IDV(4).csv\",y_test, trained_pyod)\n",
        "results_pyod_idv5,pyod_idv5 = run_experiment_pyod(\"/content/drive/My Drive/TEPdata/experiment_1/df_IDV(5).csv\",y_test, trained_pyod)\n",
        "results_pyod_idv6,pyod_idv6 = run_experiment_pyod(\"/content/drive/My Drive/TEPdata/experiment_1/df_IDV(6).csv\",y_test, trained_pyod)\n",
        "results_pyod_idv7,pyod_idv7 = run_experiment_pyod(\"/content/drive/My Drive/TEPdata/experiment_1/df_IDV(7).csv\",y_test, trained_pyod)\n",
        "results_pyod_idv8,pyod_idv8 = run_experiment_pyod(\"/content/drive/My Drive/TEPdata/experiment_1/df_IDV(8).csv\",y_test, trained_pyod)\n",
        "results_pyod_idv9,pyod_idv9 = run_experiment_pyod(\"/content/drive/My Drive/TEPdata/experiment_1/df_IDV(9).csv\",y_test, trained_pyod)\n",
        "results_pyod_idv10,pyod_idv10 = run_experiment_pyod(\"/content/drive/My Drive/TEPdata/experiment_1/df_IDV(10).csv\",y_test, trained_pyod)\n",
        "results_pyod_idv11,pyod_idv11 = run_experiment_pyod(\"/content/drive/My Drive/TEPdata/experiment_1/df_IDV(11).csv\",y_test, trained_pyod)\n",
        "results_pyod_idv12,pyod_idv12 = run_experiment_pyod(\"/content/drive/My Drive/TEPdata/experiment_1/df_IDV(12).csv\",y_test, trained_pyod)\n",
        "results_pyod_idv13,pyod_idv13 = run_experiment_pyod(\"/content/drive/My Drive/TEPdata/experiment_1/df_IDV(13).csv\",y_test, trained_pyod)\n",
        "results_pyod_idv14,pyod_idv14 = run_experiment_pyod(\"/content/drive/My Drive/TEPdata/experiment_1/df_IDV(14).csv\",y_test, trained_pyod)\n",
        "results_pyod_idv15,pyod_idv15 = run_experiment_pyod(\"/content/drive/My Drive/TEPdata/experiment_1/df_IDV(15).csv\",y_test, trained_pyod)\n",
        "results_pyod_idv16,pyod_idv16 = run_experiment_pyod(\"/content/drive/My Drive/TEPdata/experiment_1/df_IDV(16).csv\",y_test, trained_pyod)\n",
        "results_pyod_idv17,pyod_idv17 = run_experiment_pyod(\"/content/drive/My Drive/TEPdata/experiment_1/df_IDV(17).csv\",y_test, trained_pyod)\n",
        "results_pyod_idv18,pyod_idv18 = run_experiment_pyod(\"/content/drive/My Drive/TEPdata/experiment_1/df_IDV(18).csv\",y_test, trained_pyod)\n",
        "results_pyod_idv19,pyod_idv19 = run_experiment_pyod(\"/content/drive/My Drive/TEPdata/experiment_1/df_IDV(19).csv\",y_test, trained_pyod)\n",
        "results_pyod_idv20,pyod_idv20 = run_experiment_pyod(\"/content/drive/My Drive/TEPdata/experiment_1/df_IDV(20).csv\",y_test, trained_pyod)\n",
        "\n",
        "\n",
        "pyod_idv1 = convert_dict_to_df(pyod_idv1,y_test, \"IDV(1)\")\n",
        "pyod_idv2 = convert_dict_to_df(pyod_idv2,y_test, \"IDV(2)\")\n",
        "pyod_idv3 = convert_dict_to_df(pyod_idv3,y_test, \"IDV(3)\")\n",
        "pyod_idv4 = convert_dict_to_df(pyod_idv4,y_test, \"IDV(4)\")\n",
        "pyod_idv5 = convert_dict_to_df(pyod_idv5,y_test, \"IDV(5)\")\n",
        "pyod_idv6 = convert_dict_to_df(pyod_idv6,y_test, \"IDV(6)\")\n",
        "pyod_idv7 = convert_dict_to_df(pyod_idv7,y_test, \"IDV(7)\")\n",
        "pyod_idv8 = convert_dict_to_df(pyod_idv8,y_test, \"IDV(8)\")\n",
        "pyod_idv9 = convert_dict_to_df(pyod_idv9,y_test, \"IDV(9)\")\n",
        "pyod_idv10 = convert_dict_to_df(pyod_idv10,y_test, \"IDV(10)\")\n",
        "pyod_idv11 = convert_dict_to_df(pyod_idv11,y_test, \"IDV(11)\")\n",
        "pyod_idv12 = convert_dict_to_df(pyod_idv12,y_test, \"IDV(12)\")\n",
        "pyod_idv13 = convert_dict_to_df(pyod_idv13,y_test, \"IDV(13)\")\n",
        "pyod_idv14 = convert_dict_to_df(pyod_idv14,y_test, \"IDV(14)\")\n",
        "pyod_idv15 = convert_dict_to_df(pyod_idv15,y_test, \"IDV(15)\")\n",
        "pyod_idv16 = convert_dict_to_df(pyod_idv16,y_test, \"IDV(16)\")\n",
        "pyod_idv17 = convert_dict_to_df(pyod_idv17,y_test, \"IDV(17)\")\n",
        "pyod_idv18 = convert_dict_to_df(pyod_idv18,y_test, \"IDV(18)\")\n",
        "pyod_idv19 = convert_dict_to_df(pyod_idv19,y_test, \"IDV(19)\")\n",
        "pyod_idv20 = convert_dict_to_df(pyod_idv20,y_test, \"IDV(20)\")"
      ]
    },
    {
      "cell_type": "markdown",
      "metadata": {
        "id": "rvviRgMWpnBX"
      },
      "source": [
        "### Ruptures Calls"
      ]
    },
    {
      "cell_type": "code",
      "execution_count": null,
      "metadata": {
        "id": "Zj68Kiq5poTm"
      },
      "outputs": [],
      "source": [
        "results_rpt_idv1, rpt_idv1 = run_experiment_ruptures(\"/content/drive/My Drive/TEPdata/experiment_1/df_IDV(1).csv\",y_test, models_cp,20)\n",
        "results_rpt_idv2, rpt_idv2 = run_experiment_ruptures(\"/content/drive/My Drive/TEPdata/experiment_1/df_IDV(2).csv\",y_test, models_cp,20)\n",
        "results_rpt_idv3, rpt_idv3 = run_experiment_ruptures(\"/content/drive/My Drive/TEPdata/experiment_1/df_IDV(3).csv\",y_test, models_cp,20)\n",
        "results_rpt_idv4, rpt_idv4 = run_experiment_ruptures(\"/content/drive/My Drive/TEPdata/experiment_1/df_IDV(4).csv\",y_test, models_cp,20)\n",
        "results_rpt_idv5, rpt_idv5 = run_experiment_ruptures(\"/content/drive/My Drive/TEPdata/experiment_1/df_IDV(5).csv\",y_test, models_cp,20)\n",
        "results_rpt_idv6, rpt_idv6 = run_experiment_ruptures(\"/content/drive/My Drive/TEPdata/experiment_1/df_IDV(6).csv\",y_test, models_cp,20)\n",
        "results_rpt_idv7, rpt_idv7 = run_experiment_ruptures(\"/content/drive/My Drive/TEPdata/experiment_1/df_IDV(7).csv\",y_test, models_cp,20)\n",
        "results_rpt_idv8, rpt_idv8 = run_experiment_ruptures(\"/content/drive/My Drive/TEPdata/experiment_1/df_IDV(8).csv\",y_test, models_cp,20)\n",
        "results_rpt_idv9, rpt_idv9 = run_experiment_ruptures(\"/content/drive/My Drive/TEPdata/experiment_1/df_IDV(9).csv\",y_test, models_cp,20)\n",
        "results_rpt_idv10, rpt_idv10 = run_experiment_ruptures(\"/content/drive/My Drive/TEPdata/experiment_1/df_IDV(10).csv\",y_test, models_cp,20)\n",
        "results_rpt_idv11, rpt_idv11 = run_experiment_ruptures(\"/content/drive/My Drive/TEPdata/experiment_1/df_IDV(11).csv\",y_test, models_cp,20)\n",
        "results_rpt_idv12, rpt_idv12 = run_experiment_ruptures(\"/content/drive/My Drive/TEPdata/experiment_1/df_IDV(12).csv\",y_test, models_cp,20)\n",
        "results_rpt_idv13, rpt_idv13 = run_experiment_ruptures(\"/content/drive/My Drive/TEPdata/experiment_1/df_IDV(13).csv\",y_test, models_cp,20)\n",
        "results_rpt_idv14, rpt_idv14 = run_experiment_ruptures(\"/content/drive/My Drive/TEPdata/experiment_1/df_IDV(14).csv\",y_test, models_cp,20)\n",
        "results_rpt_idv15, rpt_idv15 = run_experiment_ruptures(\"/content/drive/My Drive/TEPdata/experiment_1/df_IDV(15).csv\",y_test, models_cp,20)\n",
        "results_rpt_idv16, rpt_idv16 = run_experiment_ruptures(\"/content/drive/My Drive/TEPdata/experiment_1/df_IDV(16).csv\",y_test, models_cp,20)\n",
        "results_rpt_idv17, rpt_idv17 = run_experiment_ruptures(\"/content/drive/My Drive/TEPdata/experiment_1/df_IDV(17).csv\",y_test, models_cp,20)\n",
        "results_rpt_idv18, rpt_idv18 = run_experiment_ruptures(\"/content/drive/My Drive/TEPdata/experiment_1/df_IDV(18).csv\",y_test, models_cp,20)\n",
        "results_rpt_idv19, rpt_idv19 = run_experiment_ruptures(\"/content/drive/My Drive/TEPdata/experiment_1/df_IDV(19).csv\",y_test, models_cp,20)\n",
        "results_rpt_idv20, rpt_idv20 = run_experiment_ruptures(\"/content/drive/My Drive/TEPdata/experiment_1/df_IDV(20).csv\",y_test, models_cp,20)\n",
        "\n",
        "rpt_idv1 = convert_dict_to_df(rpt_idv1,y_test, \"IDV(1)\")\n",
        "rpt_idv2 = convert_dict_to_df(rpt_idv2,y_test, \"IDV(2)\")\n",
        "rpt_idv3 = convert_dict_to_df(rpt_idv3,y_test, \"IDV(3)\")\n",
        "rpt_idv4 = convert_dict_to_df(rpt_idv4,y_test, \"IDV(4)\")\n",
        "rpt_idv5 = convert_dict_to_df(rpt_idv5,y_test, \"IDV(5)\")\n",
        "rpt_idv6 = convert_dict_to_df(rpt_idv6,y_test, \"IDV(6)\")\n",
        "rpt_idv7 = convert_dict_to_df(rpt_idv7,y_test, \"IDV(7)\")\n",
        "rpt_idv8 = convert_dict_to_df(rpt_idv8,y_test, \"IDV(8)\")\n",
        "rpt_idv9 = convert_dict_to_df(rpt_idv9,y_test, \"IDV(9)\")\n",
        "rpt_idv10 = convert_dict_to_df(rpt_idv10,y_test, \"IDV(10)\")\n",
        "rpt_idv11 = convert_dict_to_df(rpt_idv11,y_test, \"IDV(11)\")\n",
        "rpt_idv12 = convert_dict_to_df(rpt_idv12,y_test, \"IDV(12)\")\n",
        "rpt_idv13 = convert_dict_to_df(rpt_idv13,y_test, \"IDV(13)\")\n",
        "rpt_idv14 = convert_dict_to_df(rpt_idv14,y_test, \"IDV(14)\")\n",
        "rpt_idv15 = convert_dict_to_df(rpt_idv15,y_test, \"IDV(15)\")\n",
        "rpt_idv16 = convert_dict_to_df(rpt_idv16,y_test, \"IDV(16)\")\n",
        "rpt_idv17 = convert_dict_to_df(rpt_idv17,y_test, \"IDV(17)\")\n",
        "rpt_idv18 = convert_dict_to_df(rpt_idv18,y_test, \"IDV(18)\")\n",
        "rpt_idv19 = convert_dict_to_df(rpt_idv19,y_test, \"IDV(19)\")\n",
        "rpt_idv20 = convert_dict_to_df(rpt_idv20,y_test, \"IDV(20)\")"
      ]
    },
    {
      "cell_type": "markdown",
      "metadata": {
        "id": "RPPAsr-6pvFh"
      },
      "source": [
        "## Make Dataframes"
      ]
    },
    {
      "cell_type": "markdown",
      "metadata": {
        "id": "yvmhWmj2pxfm"
      },
      "source": [
        "### Proposed Model Dataframes"
      ]
    },
    {
      "cell_type": "markdown",
      "metadata": {
        "id": "FS2zsBR9qHoV"
      },
      "source": [
        "#### Aggregated Results"
      ]
    },
    {
      "cell_type": "code",
      "execution_count": null,
      "metadata": {
        "id": "zpCbe_anqGdQ"
      },
      "outputs": [],
      "source": [
        "results_all_lstm = join_df([results_lstm_idv1, results_lstm_idv2, results_lstm_idv3, results_lstm_idv4, results_lstm_idv5,\n",
        "                            results_lstm_idv6, results_lstm_idv7, results_lstm_idv8, results_lstm_idv9, results_lstm_idv10,\n",
        "                            results_lstm_idv11, results_lstm_idv12, results_lstm_idv13, results_lstm_idv14, results_lstm_idv15,\n",
        "                            results_lstm_idv16, results_lstm_idv17, results_lstm_idv18, results_lstm_idv19, results_lstm_idv20\n",
        "                            ])\n",
        "\n",
        "\n",
        "results_lstm_15_types = join_df([results_lstm_idv1, results_lstm_idv2, results_lstm_idv4, results_lstm_idv5,\n",
        "                            results_lstm_idv6, results_lstm_idv8, results_lstm_idv10,\n",
        "                            results_lstm_idv11, results_lstm_idv13, results_lstm_idv14,\n",
        "                            results_lstm_idv16, results_lstm_idv17, results_lstm_idv19, results_lstm_idv20\n",
        "                            ])"
      ]
    },
    {
      "cell_type": "markdown",
      "metadata": {
        "id": "DjW7d1vcqJxG"
      },
      "source": [
        "#### Raw Results"
      ]
    },
    {
      "cell_type": "code",
      "execution_count": null,
      "metadata": {
        "id": "IxTSzeYHp0Xn"
      },
      "outputs": [],
      "source": [
        "results_pred_lstm_all = join_df([y_preds_idv1, y_preds_idv2, y_preds_idv3, y_preds_idv4, y_preds_idv5,\n",
        "                                 y_preds_idv6, y_preds_idv7, y_preds_idv8, y_preds_idv9, y_preds_idv10,\n",
        "                                 y_preds_idv11, y_preds_idv12, y_preds_idv13, y_preds_idv14, y_preds_idv15,\n",
        "                                 y_preds_idv16, y_preds_idv17, y_preds_idv18, y_preds_idv19, y_preds_idv20])\n",
        "\n",
        "results_pred_lstm_15 = join_df([y_preds_idv1, y_preds_idv2, y_preds_idv4, y_preds_idv5,\n",
        "                                 y_preds_idv6, y_preds_idv8, y_preds_idv10,\n",
        "                                 y_preds_idv11, y_preds_idv13, y_preds_idv14,\n",
        "                                 y_preds_idv16, y_preds_idv17, y_preds_idv19, y_preds_idv20])"
      ]
    },
    {
      "cell_type": "markdown",
      "metadata": {
        "id": "naM4cnSep4Iv"
      },
      "source": [
        "### PYOD Dataframes"
      ]
    },
    {
      "cell_type": "markdown",
      "metadata": {
        "id": "PMSNY5b7qMhM"
      },
      "source": [
        "#### Aggregated Results"
      ]
    },
    {
      "cell_type": "code",
      "execution_count": null,
      "metadata": {
        "id": "sZFC_MJUpwn3"
      },
      "outputs": [],
      "source": [
        "result_pyod_all = join_df([results_pyod_idv1, results_pyod_idv2, results_pyod_idv3, results_pyod_idv4, results_pyod_idv5,\n",
        "                  results_pyod_idv6, results_pyod_idv7, results_pyod_idv8, results_pyod_idv9, results_pyod_idv10,\n",
        "                  results_pyod_idv11, results_pyod_idv12, results_pyod_idv13, results_pyod_idv14, results_pyod_idv15,\n",
        "                  results_pyod_idv16, results_pyod_idv17, results_pyod_idv18, results_pyod_idv19, results_pyod_idv20,\n",
        "                  ])\n",
        "\n",
        "result_pyod_15 = join_df([results_pyod_idv1, results_pyod_idv2, results_pyod_idv4, results_pyod_idv5,\n",
        "                  results_pyod_idv6, results_pyod_idv8, results_pyod_idv10,\n",
        "                  results_pyod_idv11, results_pyod_idv13, results_pyod_idv14,\n",
        "                  results_pyod_idv16, results_pyod_idv17, results_pyod_idv19, results_pyod_idv20,\n",
        "                  ])"
      ]
    },
    {
      "cell_type": "markdown",
      "metadata": {
        "id": "9AWpXYgpqQJv"
      },
      "source": [
        "#### Raw Results"
      ]
    },
    {
      "cell_type": "code",
      "execution_count": null,
      "metadata": {
        "id": "24FuSlv_qQTi"
      },
      "outputs": [],
      "source": [
        "result_pyod_pred_all = join_df([pyod_idv1, pyod_idv2, pyod_idv3, pyod_idv4, pyod_idv5,\n",
        "                  pyod_idv6, pyod_idv7, pyod_idv8, pyod_idv9, pyod_idv10,\n",
        "                  pyod_idv11, pyod_idv12, pyod_idv13, pyod_idv14, pyod_idv15,\n",
        "                  pyod_idv16, pyod_idv17,pyod_idv18, pyod_idv19, pyod_idv20,\n",
        "                  ])\n",
        "\n",
        "result_pyod_pred_15 = join_df([pyod_idv1, pyod_idv2, pyod_idv4, pyod_idv5,\n",
        "                  pyod_idv6, pyod_idv8, pyod_idv10,\n",
        "                  pyod_idv11, pyod_idv13, pyod_idv14,\n",
        "                  pyod_idv16, pyod_idv17, pyod_idv19, pyod_idv20,\n",
        "                  ])"
      ]
    },
    {
      "cell_type": "markdown",
      "metadata": {
        "id": "PaPmNlJiqVDo"
      },
      "source": [
        "### Ruptures Dataframes"
      ]
    },
    {
      "cell_type": "markdown",
      "metadata": {
        "id": "1_mJF8FRqZca"
      },
      "source": [
        "#### Aggregated Results"
      ]
    },
    {
      "cell_type": "code",
      "execution_count": null,
      "metadata": {
        "id": "X3t-o_9LqZEn"
      },
      "outputs": [],
      "source": [
        "results_rpt_all = join_df([results_rpt_idv1, results_rpt_idv2, results_rpt_idv3, results_rpt_idv4, results_rpt_idv5, \n",
        "                   results_rpt_idv6, results_rpt_idv7, results_rpt_idv8, results_rpt_idv9, results_rpt_idv10, \n",
        "                   results_rpt_idv11, results_rpt_idv12, results_rpt_idv13, results_rpt_idv14, results_rpt_idv15, \n",
        "                   results_rpt_idv16, results_rpt_idv17, results_rpt_idv18, results_rpt_idv19, results_rpt_idv20])\n",
        "\n",
        "results_rpt_15 = join_df([results_rpt_idv1, results_rpt_idv2, results_rpt_idv4, results_rpt_idv5, \n",
        "                   results_rpt_idv6, results_rpt_idv8, results_rpt_idv10, \n",
        "                   results_rpt_idv11, results_rpt_idv13, results_rpt_idv14, \n",
        "                   results_rpt_idv16, results_rpt_idv17, results_rpt_idv19, results_rpt_idv20])"
      ]
    },
    {
      "cell_type": "markdown",
      "metadata": {
        "id": "wBBx_Ab6qZTl"
      },
      "source": [
        "#### Raw Results"
      ]
    },
    {
      "cell_type": "code",
      "execution_count": null,
      "metadata": {
        "id": "UsoPPhP1qWck"
      },
      "outputs": [],
      "source": [
        "results_rpt_pred_all = join_df([rpt_idv1, rpt_idv2, rpt_idv3, rpt_idv4, rpt_idv5, \n",
        "                   rpt_idv6, rpt_idv7, rpt_idv8, rpt_idv9, rpt_idv10, \n",
        "                   rpt_idv11, rpt_idv12, rpt_idv13, rpt_idv14, rpt_idv15, \n",
        "                   rpt_idv16, rpt_idv17, rpt_idv18, rpt_idv19, rpt_idv20])\n",
        "\n",
        "results_rpt_pred_15 = join_df([rpt_idv1, rpt_idv2, rpt_idv4, rpt_idv5, \n",
        "                   rpt_idv6, rpt_idv8, rpt_idv10, \n",
        "                   rpt_idv11, rpt_idv13, rpt_idv14, \n",
        "                   rpt_idv16, rpt_idv17, rpt_idv19, rpt_idv20])"
      ]
    },
    {
      "cell_type": "code",
      "source": [
        "results_rpt_15"
      ],
      "metadata": {
        "colab": {
          "base_uri": "https://localhost:8080/",
          "height": 1000
        },
        "id": "VEB9bZiVpO0R",
        "outputId": "a757d6ae-1caf-4f04-9295-83a296f5917d"
      },
      "execution_count": null,
      "outputs": [
        {
          "output_type": "execute_result",
          "data": {
            "text/plain": [
              "      Fault     Model  Accuracy  Precision  Recall  F1 Score  ROCAUC\n",
              "0    IDV(1)      PELT     48.30      47.36   89.05     61.83   51.42\n",
              "1    IDV(1)  BottomUp     57.16      57.11   91.14     70.22   57.33\n",
              "2    IDV(1)    y_true    100.00     100.00  100.00    100.00  100.00\n",
              "3    IDV(2)      PELT     61.11      62.91   90.13     74.10   55.14\n",
              "4    IDV(2)  BottomUp     57.16      57.11   91.14     70.22   57.33\n",
              "5    IDV(2)    y_true    100.00     100.00  100.00    100.00  100.00\n",
              "6    IDV(4)      PELT     99.03      99.89   99.02     99.45   96.18\n",
              "7    IDV(4)  BottomUp     57.16      57.11   91.14     70.22   57.33\n",
              "8    IDV(4)    y_true    100.00     100.00  100.00    100.00  100.00\n",
              "9    IDV(5)      PELT     86.37      87.50   96.77     91.91   82.60\n",
              "10   IDV(5)  BottomUp     57.16      57.11   91.14     70.22   57.33\n",
              "11   IDV(5)    y_true    100.00     100.00  100.00    100.00  100.00\n",
              "12   IDV(6)      PELT     83.59      83.43   97.67     89.99   84.11\n",
              "13   IDV(6)  BottomUp     57.16      57.11   91.14     70.22   57.33\n",
              "14   IDV(6)    y_true    100.00     100.00  100.00    100.00  100.00\n",
              "15   IDV(8)      PELT     16.97      15.90   61.88     25.30   20.53\n",
              "16   IDV(8)  BottomUp     57.16      57.11   91.14     70.22   57.33\n",
              "17   IDV(8)    y_true    100.00     100.00  100.00    100.00  100.00\n",
              "18  IDV(10)      PELT     88.43     100.00   88.43     93.86   50.00\n",
              "19  IDV(10)  BottomUp     57.16      57.11   91.14     70.22   57.33\n",
              "20  IDV(10)    y_true    100.00     100.00  100.00    100.00  100.00\n",
              "21  IDV(11)      PELT     88.43     100.00   88.43     93.86   50.00\n",
              "22  IDV(11)  BottomUp     57.16      57.11   91.14     70.22   57.33\n",
              "23  IDV(11)    y_true    100.00     100.00  100.00    100.00  100.00\n",
              "24  IDV(13)      PELT     47.79      47.98   87.23     61.91   47.15\n",
              "25  IDV(13)  BottomUp     57.16      57.11   91.14     70.22   57.33\n",
              "26  IDV(13)    y_true    100.00     100.00  100.00    100.00  100.00\n",
              "27  IDV(14)      PELT     98.83      99.75   98.93     99.34   95.77\n",
              "28  IDV(14)  BottomUp     57.16      57.11   91.14     70.22   57.33\n",
              "29  IDV(14)    y_true    100.00     100.00  100.00    100.00  100.00\n",
              "30  IDV(16)      PELT     88.43     100.00   88.43     93.86   50.00\n",
              "31  IDV(16)  BottomUp     57.16      57.11   91.14     70.22   57.33\n",
              "32  IDV(16)    y_true    100.00     100.00  100.00    100.00  100.00\n",
              "33  IDV(17)      PELT     95.97      97.89   97.57     97.73   89.61\n",
              "34  IDV(17)  BottomUp     57.16      57.11   91.14     70.22   57.33\n",
              "35  IDV(17)    y_true    100.00     100.00  100.00    100.00  100.00\n",
              "36  IDV(19)      PELT     88.43     100.00   88.43     93.86   50.00\n",
              "37  IDV(19)  BottomUp     57.16      57.11   91.14     70.22   57.33\n",
              "38  IDV(19)    y_true    100.00     100.00  100.00    100.00  100.00\n",
              "39  IDV(20)      PELT     88.43     100.00   88.43     93.86   50.00\n",
              "40  IDV(20)  BottomUp     57.16      57.11   91.14     70.22   57.33\n",
              "41  IDV(20)    y_true    100.00     100.00  100.00    100.00  100.00"
            ],
            "text/html": [
              "\n",
              "  <div id=\"df-c33f0f10-36ce-4582-899b-045ac351d697\">\n",
              "    <div class=\"colab-df-container\">\n",
              "      <div>\n",
              "<style scoped>\n",
              "    .dataframe tbody tr th:only-of-type {\n",
              "        vertical-align: middle;\n",
              "    }\n",
              "\n",
              "    .dataframe tbody tr th {\n",
              "        vertical-align: top;\n",
              "    }\n",
              "\n",
              "    .dataframe thead th {\n",
              "        text-align: right;\n",
              "    }\n",
              "</style>\n",
              "<table border=\"1\" class=\"dataframe\">\n",
              "  <thead>\n",
              "    <tr style=\"text-align: right;\">\n",
              "      <th></th>\n",
              "      <th>Fault</th>\n",
              "      <th>Model</th>\n",
              "      <th>Accuracy</th>\n",
              "      <th>Precision</th>\n",
              "      <th>Recall</th>\n",
              "      <th>F1 Score</th>\n",
              "      <th>ROCAUC</th>\n",
              "    </tr>\n",
              "  </thead>\n",
              "  <tbody>\n",
              "    <tr>\n",
              "      <th>0</th>\n",
              "      <td>IDV(1)</td>\n",
              "      <td>PELT</td>\n",
              "      <td>48.30</td>\n",
              "      <td>47.36</td>\n",
              "      <td>89.05</td>\n",
              "      <td>61.83</td>\n",
              "      <td>51.42</td>\n",
              "    </tr>\n",
              "    <tr>\n",
              "      <th>1</th>\n",
              "      <td>IDV(1)</td>\n",
              "      <td>BottomUp</td>\n",
              "      <td>57.16</td>\n",
              "      <td>57.11</td>\n",
              "      <td>91.14</td>\n",
              "      <td>70.22</td>\n",
              "      <td>57.33</td>\n",
              "    </tr>\n",
              "    <tr>\n",
              "      <th>2</th>\n",
              "      <td>IDV(1)</td>\n",
              "      <td>y_true</td>\n",
              "      <td>100.00</td>\n",
              "      <td>100.00</td>\n",
              "      <td>100.00</td>\n",
              "      <td>100.00</td>\n",
              "      <td>100.00</td>\n",
              "    </tr>\n",
              "    <tr>\n",
              "      <th>3</th>\n",
              "      <td>IDV(2)</td>\n",
              "      <td>PELT</td>\n",
              "      <td>61.11</td>\n",
              "      <td>62.91</td>\n",
              "      <td>90.13</td>\n",
              "      <td>74.10</td>\n",
              "      <td>55.14</td>\n",
              "    </tr>\n",
              "    <tr>\n",
              "      <th>4</th>\n",
              "      <td>IDV(2)</td>\n",
              "      <td>BottomUp</td>\n",
              "      <td>57.16</td>\n",
              "      <td>57.11</td>\n",
              "      <td>91.14</td>\n",
              "      <td>70.22</td>\n",
              "      <td>57.33</td>\n",
              "    </tr>\n",
              "    <tr>\n",
              "      <th>5</th>\n",
              "      <td>IDV(2)</td>\n",
              "      <td>y_true</td>\n",
              "      <td>100.00</td>\n",
              "      <td>100.00</td>\n",
              "      <td>100.00</td>\n",
              "      <td>100.00</td>\n",
              "      <td>100.00</td>\n",
              "    </tr>\n",
              "    <tr>\n",
              "      <th>6</th>\n",
              "      <td>IDV(4)</td>\n",
              "      <td>PELT</td>\n",
              "      <td>99.03</td>\n",
              "      <td>99.89</td>\n",
              "      <td>99.02</td>\n",
              "      <td>99.45</td>\n",
              "      <td>96.18</td>\n",
              "    </tr>\n",
              "    <tr>\n",
              "      <th>7</th>\n",
              "      <td>IDV(4)</td>\n",
              "      <td>BottomUp</td>\n",
              "      <td>57.16</td>\n",
              "      <td>57.11</td>\n",
              "      <td>91.14</td>\n",
              "      <td>70.22</td>\n",
              "      <td>57.33</td>\n",
              "    </tr>\n",
              "    <tr>\n",
              "      <th>8</th>\n",
              "      <td>IDV(4)</td>\n",
              "      <td>y_true</td>\n",
              "      <td>100.00</td>\n",
              "      <td>100.00</td>\n",
              "      <td>100.00</td>\n",
              "      <td>100.00</td>\n",
              "      <td>100.00</td>\n",
              "    </tr>\n",
              "    <tr>\n",
              "      <th>9</th>\n",
              "      <td>IDV(5)</td>\n",
              "      <td>PELT</td>\n",
              "      <td>86.37</td>\n",
              "      <td>87.50</td>\n",
              "      <td>96.77</td>\n",
              "      <td>91.91</td>\n",
              "      <td>82.60</td>\n",
              "    </tr>\n",
              "    <tr>\n",
              "      <th>10</th>\n",
              "      <td>IDV(5)</td>\n",
              "      <td>BottomUp</td>\n",
              "      <td>57.16</td>\n",
              "      <td>57.11</td>\n",
              "      <td>91.14</td>\n",
              "      <td>70.22</td>\n",
              "      <td>57.33</td>\n",
              "    </tr>\n",
              "    <tr>\n",
              "      <th>11</th>\n",
              "      <td>IDV(5)</td>\n",
              "      <td>y_true</td>\n",
              "      <td>100.00</td>\n",
              "      <td>100.00</td>\n",
              "      <td>100.00</td>\n",
              "      <td>100.00</td>\n",
              "      <td>100.00</td>\n",
              "    </tr>\n",
              "    <tr>\n",
              "      <th>12</th>\n",
              "      <td>IDV(6)</td>\n",
              "      <td>PELT</td>\n",
              "      <td>83.59</td>\n",
              "      <td>83.43</td>\n",
              "      <td>97.67</td>\n",
              "      <td>89.99</td>\n",
              "      <td>84.11</td>\n",
              "    </tr>\n",
              "    <tr>\n",
              "      <th>13</th>\n",
              "      <td>IDV(6)</td>\n",
              "      <td>BottomUp</td>\n",
              "      <td>57.16</td>\n",
              "      <td>57.11</td>\n",
              "      <td>91.14</td>\n",
              "      <td>70.22</td>\n",
              "      <td>57.33</td>\n",
              "    </tr>\n",
              "    <tr>\n",
              "      <th>14</th>\n",
              "      <td>IDV(6)</td>\n",
              "      <td>y_true</td>\n",
              "      <td>100.00</td>\n",
              "      <td>100.00</td>\n",
              "      <td>100.00</td>\n",
              "      <td>100.00</td>\n",
              "      <td>100.00</td>\n",
              "    </tr>\n",
              "    <tr>\n",
              "      <th>15</th>\n",
              "      <td>IDV(8)</td>\n",
              "      <td>PELT</td>\n",
              "      <td>16.97</td>\n",
              "      <td>15.90</td>\n",
              "      <td>61.88</td>\n",
              "      <td>25.30</td>\n",
              "      <td>20.53</td>\n",
              "    </tr>\n",
              "    <tr>\n",
              "      <th>16</th>\n",
              "      <td>IDV(8)</td>\n",
              "      <td>BottomUp</td>\n",
              "      <td>57.16</td>\n",
              "      <td>57.11</td>\n",
              "      <td>91.14</td>\n",
              "      <td>70.22</td>\n",
              "      <td>57.33</td>\n",
              "    </tr>\n",
              "    <tr>\n",
              "      <th>17</th>\n",
              "      <td>IDV(8)</td>\n",
              "      <td>y_true</td>\n",
              "      <td>100.00</td>\n",
              "      <td>100.00</td>\n",
              "      <td>100.00</td>\n",
              "      <td>100.00</td>\n",
              "      <td>100.00</td>\n",
              "    </tr>\n",
              "    <tr>\n",
              "      <th>18</th>\n",
              "      <td>IDV(10)</td>\n",
              "      <td>PELT</td>\n",
              "      <td>88.43</td>\n",
              "      <td>100.00</td>\n",
              "      <td>88.43</td>\n",
              "      <td>93.86</td>\n",
              "      <td>50.00</td>\n",
              "    </tr>\n",
              "    <tr>\n",
              "      <th>19</th>\n",
              "      <td>IDV(10)</td>\n",
              "      <td>BottomUp</td>\n",
              "      <td>57.16</td>\n",
              "      <td>57.11</td>\n",
              "      <td>91.14</td>\n",
              "      <td>70.22</td>\n",
              "      <td>57.33</td>\n",
              "    </tr>\n",
              "    <tr>\n",
              "      <th>20</th>\n",
              "      <td>IDV(10)</td>\n",
              "      <td>y_true</td>\n",
              "      <td>100.00</td>\n",
              "      <td>100.00</td>\n",
              "      <td>100.00</td>\n",
              "      <td>100.00</td>\n",
              "      <td>100.00</td>\n",
              "    </tr>\n",
              "    <tr>\n",
              "      <th>21</th>\n",
              "      <td>IDV(11)</td>\n",
              "      <td>PELT</td>\n",
              "      <td>88.43</td>\n",
              "      <td>100.00</td>\n",
              "      <td>88.43</td>\n",
              "      <td>93.86</td>\n",
              "      <td>50.00</td>\n",
              "    </tr>\n",
              "    <tr>\n",
              "      <th>22</th>\n",
              "      <td>IDV(11)</td>\n",
              "      <td>BottomUp</td>\n",
              "      <td>57.16</td>\n",
              "      <td>57.11</td>\n",
              "      <td>91.14</td>\n",
              "      <td>70.22</td>\n",
              "      <td>57.33</td>\n",
              "    </tr>\n",
              "    <tr>\n",
              "      <th>23</th>\n",
              "      <td>IDV(11)</td>\n",
              "      <td>y_true</td>\n",
              "      <td>100.00</td>\n",
              "      <td>100.00</td>\n",
              "      <td>100.00</td>\n",
              "      <td>100.00</td>\n",
              "      <td>100.00</td>\n",
              "    </tr>\n",
              "    <tr>\n",
              "      <th>24</th>\n",
              "      <td>IDV(13)</td>\n",
              "      <td>PELT</td>\n",
              "      <td>47.79</td>\n",
              "      <td>47.98</td>\n",
              "      <td>87.23</td>\n",
              "      <td>61.91</td>\n",
              "      <td>47.15</td>\n",
              "    </tr>\n",
              "    <tr>\n",
              "      <th>25</th>\n",
              "      <td>IDV(13)</td>\n",
              "      <td>BottomUp</td>\n",
              "      <td>57.16</td>\n",
              "      <td>57.11</td>\n",
              "      <td>91.14</td>\n",
              "      <td>70.22</td>\n",
              "      <td>57.33</td>\n",
              "    </tr>\n",
              "    <tr>\n",
              "      <th>26</th>\n",
              "      <td>IDV(13)</td>\n",
              "      <td>y_true</td>\n",
              "      <td>100.00</td>\n",
              "      <td>100.00</td>\n",
              "      <td>100.00</td>\n",
              "      <td>100.00</td>\n",
              "      <td>100.00</td>\n",
              "    </tr>\n",
              "    <tr>\n",
              "      <th>27</th>\n",
              "      <td>IDV(14)</td>\n",
              "      <td>PELT</td>\n",
              "      <td>98.83</td>\n",
              "      <td>99.75</td>\n",
              "      <td>98.93</td>\n",
              "      <td>99.34</td>\n",
              "      <td>95.77</td>\n",
              "    </tr>\n",
              "    <tr>\n",
              "      <th>28</th>\n",
              "      <td>IDV(14)</td>\n",
              "      <td>BottomUp</td>\n",
              "      <td>57.16</td>\n",
              "      <td>57.11</td>\n",
              "      <td>91.14</td>\n",
              "      <td>70.22</td>\n",
              "      <td>57.33</td>\n",
              "    </tr>\n",
              "    <tr>\n",
              "      <th>29</th>\n",
              "      <td>IDV(14)</td>\n",
              "      <td>y_true</td>\n",
              "      <td>100.00</td>\n",
              "      <td>100.00</td>\n",
              "      <td>100.00</td>\n",
              "      <td>100.00</td>\n",
              "      <td>100.00</td>\n",
              "    </tr>\n",
              "    <tr>\n",
              "      <th>30</th>\n",
              "      <td>IDV(16)</td>\n",
              "      <td>PELT</td>\n",
              "      <td>88.43</td>\n",
              "      <td>100.00</td>\n",
              "      <td>88.43</td>\n",
              "      <td>93.86</td>\n",
              "      <td>50.00</td>\n",
              "    </tr>\n",
              "    <tr>\n",
              "      <th>31</th>\n",
              "      <td>IDV(16)</td>\n",
              "      <td>BottomUp</td>\n",
              "      <td>57.16</td>\n",
              "      <td>57.11</td>\n",
              "      <td>91.14</td>\n",
              "      <td>70.22</td>\n",
              "      <td>57.33</td>\n",
              "    </tr>\n",
              "    <tr>\n",
              "      <th>32</th>\n",
              "      <td>IDV(16)</td>\n",
              "      <td>y_true</td>\n",
              "      <td>100.00</td>\n",
              "      <td>100.00</td>\n",
              "      <td>100.00</td>\n",
              "      <td>100.00</td>\n",
              "      <td>100.00</td>\n",
              "    </tr>\n",
              "    <tr>\n",
              "      <th>33</th>\n",
              "      <td>IDV(17)</td>\n",
              "      <td>PELT</td>\n",
              "      <td>95.97</td>\n",
              "      <td>97.89</td>\n",
              "      <td>97.57</td>\n",
              "      <td>97.73</td>\n",
              "      <td>89.61</td>\n",
              "    </tr>\n",
              "    <tr>\n",
              "      <th>34</th>\n",
              "      <td>IDV(17)</td>\n",
              "      <td>BottomUp</td>\n",
              "      <td>57.16</td>\n",
              "      <td>57.11</td>\n",
              "      <td>91.14</td>\n",
              "      <td>70.22</td>\n",
              "      <td>57.33</td>\n",
              "    </tr>\n",
              "    <tr>\n",
              "      <th>35</th>\n",
              "      <td>IDV(17)</td>\n",
              "      <td>y_true</td>\n",
              "      <td>100.00</td>\n",
              "      <td>100.00</td>\n",
              "      <td>100.00</td>\n",
              "      <td>100.00</td>\n",
              "      <td>100.00</td>\n",
              "    </tr>\n",
              "    <tr>\n",
              "      <th>36</th>\n",
              "      <td>IDV(19)</td>\n",
              "      <td>PELT</td>\n",
              "      <td>88.43</td>\n",
              "      <td>100.00</td>\n",
              "      <td>88.43</td>\n",
              "      <td>93.86</td>\n",
              "      <td>50.00</td>\n",
              "    </tr>\n",
              "    <tr>\n",
              "      <th>37</th>\n",
              "      <td>IDV(19)</td>\n",
              "      <td>BottomUp</td>\n",
              "      <td>57.16</td>\n",
              "      <td>57.11</td>\n",
              "      <td>91.14</td>\n",
              "      <td>70.22</td>\n",
              "      <td>57.33</td>\n",
              "    </tr>\n",
              "    <tr>\n",
              "      <th>38</th>\n",
              "      <td>IDV(19)</td>\n",
              "      <td>y_true</td>\n",
              "      <td>100.00</td>\n",
              "      <td>100.00</td>\n",
              "      <td>100.00</td>\n",
              "      <td>100.00</td>\n",
              "      <td>100.00</td>\n",
              "    </tr>\n",
              "    <tr>\n",
              "      <th>39</th>\n",
              "      <td>IDV(20)</td>\n",
              "      <td>PELT</td>\n",
              "      <td>88.43</td>\n",
              "      <td>100.00</td>\n",
              "      <td>88.43</td>\n",
              "      <td>93.86</td>\n",
              "      <td>50.00</td>\n",
              "    </tr>\n",
              "    <tr>\n",
              "      <th>40</th>\n",
              "      <td>IDV(20)</td>\n",
              "      <td>BottomUp</td>\n",
              "      <td>57.16</td>\n",
              "      <td>57.11</td>\n",
              "      <td>91.14</td>\n",
              "      <td>70.22</td>\n",
              "      <td>57.33</td>\n",
              "    </tr>\n",
              "    <tr>\n",
              "      <th>41</th>\n",
              "      <td>IDV(20)</td>\n",
              "      <td>y_true</td>\n",
              "      <td>100.00</td>\n",
              "      <td>100.00</td>\n",
              "      <td>100.00</td>\n",
              "      <td>100.00</td>\n",
              "      <td>100.00</td>\n",
              "    </tr>\n",
              "  </tbody>\n",
              "</table>\n",
              "</div>\n",
              "      <button class=\"colab-df-convert\" onclick=\"convertToInteractive('df-c33f0f10-36ce-4582-899b-045ac351d697')\"\n",
              "              title=\"Convert this dataframe to an interactive table.\"\n",
              "              style=\"display:none;\">\n",
              "        \n",
              "  <svg xmlns=\"http://www.w3.org/2000/svg\" height=\"24px\"viewBox=\"0 0 24 24\"\n",
              "       width=\"24px\">\n",
              "    <path d=\"M0 0h24v24H0V0z\" fill=\"none\"/>\n",
              "    <path d=\"M18.56 5.44l.94 2.06.94-2.06 2.06-.94-2.06-.94-.94-2.06-.94 2.06-2.06.94zm-11 1L8.5 8.5l.94-2.06 2.06-.94-2.06-.94L8.5 2.5l-.94 2.06-2.06.94zm10 10l.94 2.06.94-2.06 2.06-.94-2.06-.94-.94-2.06-.94 2.06-2.06.94z\"/><path d=\"M17.41 7.96l-1.37-1.37c-.4-.4-.92-.59-1.43-.59-.52 0-1.04.2-1.43.59L10.3 9.45l-7.72 7.72c-.78.78-.78 2.05 0 2.83L4 21.41c.39.39.9.59 1.41.59.51 0 1.02-.2 1.41-.59l7.78-7.78 2.81-2.81c.8-.78.8-2.07 0-2.86zM5.41 20L4 18.59l7.72-7.72 1.47 1.35L5.41 20z\"/>\n",
              "  </svg>\n",
              "      </button>\n",
              "      \n",
              "  <style>\n",
              "    .colab-df-container {\n",
              "      display:flex;\n",
              "      flex-wrap:wrap;\n",
              "      gap: 12px;\n",
              "    }\n",
              "\n",
              "    .colab-df-convert {\n",
              "      background-color: #E8F0FE;\n",
              "      border: none;\n",
              "      border-radius: 50%;\n",
              "      cursor: pointer;\n",
              "      display: none;\n",
              "      fill: #1967D2;\n",
              "      height: 32px;\n",
              "      padding: 0 0 0 0;\n",
              "      width: 32px;\n",
              "    }\n",
              "\n",
              "    .colab-df-convert:hover {\n",
              "      background-color: #E2EBFA;\n",
              "      box-shadow: 0px 1px 2px rgba(60, 64, 67, 0.3), 0px 1px 3px 1px rgba(60, 64, 67, 0.15);\n",
              "      fill: #174EA6;\n",
              "    }\n",
              "\n",
              "    [theme=dark] .colab-df-convert {\n",
              "      background-color: #3B4455;\n",
              "      fill: #D2E3FC;\n",
              "    }\n",
              "\n",
              "    [theme=dark] .colab-df-convert:hover {\n",
              "      background-color: #434B5C;\n",
              "      box-shadow: 0px 1px 3px 1px rgba(0, 0, 0, 0.15);\n",
              "      filter: drop-shadow(0px 1px 2px rgba(0, 0, 0, 0.3));\n",
              "      fill: #FFFFFF;\n",
              "    }\n",
              "  </style>\n",
              "\n",
              "      <script>\n",
              "        const buttonEl =\n",
              "          document.querySelector('#df-c33f0f10-36ce-4582-899b-045ac351d697 button.colab-df-convert');\n",
              "        buttonEl.style.display =\n",
              "          google.colab.kernel.accessAllowed ? 'block' : 'none';\n",
              "\n",
              "        async function convertToInteractive(key) {\n",
              "          const element = document.querySelector('#df-c33f0f10-36ce-4582-899b-045ac351d697');\n",
              "          const dataTable =\n",
              "            await google.colab.kernel.invokeFunction('convertToInteractive',\n",
              "                                                     [key], {});\n",
              "          if (!dataTable) return;\n",
              "\n",
              "          const docLinkHtml = 'Like what you see? Visit the ' +\n",
              "            '<a target=\"_blank\" href=https://colab.research.google.com/notebooks/data_table.ipynb>data table notebook</a>'\n",
              "            + ' to learn more about interactive tables.';\n",
              "          element.innerHTML = '';\n",
              "          dataTable['output_type'] = 'display_data';\n",
              "          await google.colab.output.renderOutput(dataTable, element);\n",
              "          const docLink = document.createElement('div');\n",
              "          docLink.innerHTML = docLinkHtml;\n",
              "          element.appendChild(docLink);\n",
              "        }\n",
              "      </script>\n",
              "    </div>\n",
              "  </div>\n",
              "  "
            ]
          },
          "metadata": {},
          "execution_count": 28
        }
      ]
    },
    {
      "cell_type": "markdown",
      "metadata": {
        "id": "7n6MVU3jqkwg"
      },
      "source": [
        "## Save Results"
      ]
    },
    {
      "cell_type": "code",
      "source": [
        "results_rpt_all.to_csv(\"experiment_results_rpt_all.csv\")\n",
        "results_rpt_15.to_csv(\"experiment_results_rpt_15.csv\")"
      ],
      "metadata": {
        "id": "EKOFPGGLmMIz"
      },
      "execution_count": null,
      "outputs": []
    },
    {
      "cell_type": "code",
      "execution_count": null,
      "metadata": {
        "id": "7iCnXdorqmDE"
      },
      "outputs": [],
      "source": [
        "# Proposed Model Results\n",
        "\n",
        "\n",
        "\n",
        "results_lstm_15_types.to_csv(\"experiment_results_lstm_15_types.csv\")\n",
        "results_all_lstm.to_csv(\"experiment_results_all_lstm.csv\")\n",
        "results_pred_lstm_15.to_csv(\"experiment_results_lstm_15_pred.csv\")\n",
        "results_all_lstm.to_csv(\"experiment_results_pred_lstm_all.csv\")\n",
        "\n",
        "\n",
        "# PYOD Results\n",
        "result_pyod_all.to_csv(\"experiment_result_pyod_all.csv\")\n",
        "result_pyod_15.to_csv(\"experiment_result_pyod_15.csv\")\n",
        "result_pyod_pred_all.to_csv(\"experiment_result_pyod_pred_all.csv\")\n",
        "result_pyod_all.to_csv(\"experiment_result_pyod_pred_15.csv\")\n",
        "\n",
        "# Ruptures Results\n",
        "results_rpt_all.to_csv(\"experiment_results_rpt_all.csv\")\n",
        "results_rpt_15.to_csv(\"experiment_results_rpt_15.csv\")\n",
        "results_rpt_pred_all.to_csv(\"experiment_results_rpt_pred_all.csv\")\n",
        "results_rpt_pred_15.to_csv(\"experiment_results_rpt_pred_15.csv\")"
      ]
    },
    {
      "cell_type": "markdown",
      "source": [
        "# Multi Fault"
      ],
      "metadata": {
        "id": "SSFZqvuoTSWZ"
      }
    },
    {
      "cell_type": "code",
      "source": [
        "train_link = \"/content/drive/My Drive/TEPdata/experiment_1/normal_10000.csv\"\n",
        "test_link = \"/content/drive/My Drive/TEPdata/experiment_2/TEP_multi_attack_offical.csv\"\n",
        "\n",
        "\n",
        "processor = DataProcessor(train_link, test_link, \"Fault\", \"Unnamed: 0\")\n",
        "X_train = processor.X_train\n",
        "y_train = processor.y_train\n",
        "X_test = processor.X_test\n",
        "y_test = processor.y_test\n",
        "scaler = processor.scaler_function"
      ],
      "metadata": {
        "id": "j69LU8JyTT1t"
      },
      "execution_count": null,
      "outputs": []
    },
    {
      "cell_type": "code",
      "source": [
        "y_pred, det = model.predict(X_test)\n"
      ],
      "metadata": {
        "colab": {
          "base_uri": "https://localhost:8080/"
        },
        "id": "hnepIZ64IqIc",
        "outputId": "90e1c849-e617-4a06-8aef-a61fe30d875a"
      },
      "execution_count": null,
      "outputs": [
        {
          "output_type": "stream",
          "name": "stderr",
          "text": [
            "/usr/local/lib/python3.8/dist-packages/torch/nn/_reduction.py:42: UserWarning: size_average and reduce args will be deprecated, please use reduction='none' instead.\n",
            "  warnings.warn(warning.format(ret))\n"
          ]
        }
      ]
    },
    {
      "cell_type": "code",
      "source": [
        "import numpy as np\n",
        "import pandas as pd\n",
        "import matplotlib.pyplot as plt\n",
        "from sklearn.metrics import roc_curve,roc_auc_score\n",
        "import seaborn as sns"
      ],
      "metadata": {
        "id": "dVvOOZqDYfSt"
      },
      "execution_count": null,
      "outputs": []
    },
    {
      "cell_type": "code",
      "source": [
        "def ROC(y_test,y_pred):\n",
        "    fpr,tpr,tr=roc_curve(y_test,y_pred)\n",
        "    auc=roc_auc_score(y_test,y_pred)\n",
        "    idx=np.argwhere(np.diff(np.sign(tpr-(1-fpr)))).flatten()\n",
        "\n",
        "    plt.xlabel(\"FPR\")\n",
        "    plt.ylabel(\"TPR\")\n",
        "    plt.plot(fpr,tpr,label=\"AUC=\"+str(auc))\n",
        "    plt.plot(fpr,1-fpr,'r:')\n",
        "    plt.plot(fpr[idx],tpr[idx], 'ro')\n",
        "    plt.legend(loc=4)\n",
        "    plt.grid()\n",
        "    plt.show()\n",
        "    return tr[idx]\n",
        "\n",
        "ROC(y_test,y_pred)"
      ],
      "metadata": {
        "id": "jgGzTZl_IrLq",
        "colab": {
          "base_uri": "https://localhost:8080/",
          "height": 296
        },
        "outputId": "d7e7bb27-1aab-4b52-b690-d670673020cf"
      },
      "execution_count": null,
      "outputs": [
        {
          "output_type": "display_data",
          "data": {
            "text/plain": [
              "<Figure size 432x288 with 1 Axes>"
            ],
            "image/png": "[encoded data removed]"
          },
          "metadata": {
            "needs_background": "light"
          }
        },
        {
          "output_type": "execute_result",
          "data": {
            "text/plain": [
              "array([42.43748211])"
            ]
          },
          "metadata": {},
          "execution_count": 16
        }
      ]
    },
    {
      "cell_type": "code",
      "source": [
        "def plot_roc_curve(fpr, tpr):\n",
        "    plt.plot(fpr, tpr, color='orange', label='ROC')\n",
        "    plt.plot([0, 1], [0, 1], color='darkblue', linestyle='--')\n",
        "    plt.xlabel('False Positive Rate')\n",
        "    plt.ylabel('True Positive Rate')\n",
        "    plt.title('Receiver Operating Characteristic (ROC) Curve')\n",
        "    plt.legend()\n",
        "    plt.show()"
      ],
      "metadata": {
        "id": "vkXAS7u-YWS6"
      },
      "execution_count": null,
      "outputs": []
    },
    {
      "cell_type": "code",
      "source": [
        "def plot_roc_curve(fpr, tpr):\n",
        "    plt.plot(fpr, tpr, color='orange', label='ROC')\n",
        "    plt.plot([0, 1], [0, 1], color='darkblue', linestyle='--')\n",
        "    plt.xlabel('False Positive Rate')\n",
        "    plt.ylabel('True Positive Rate')\n",
        "    plt.title('Receiver Operating Characteristic (ROC) Curve')\n",
        "    plt.legend()\n",
        "    plt.savefig(\"roc_multi.png\", transparent  = False)\n",
        "    plt.show()\n",
        "\n",
        "#y_true = y_test[10:len(aa)]\n",
        "#y_scores = aa[10:len(aa)]\n",
        "y_true = y_test\n",
        "y_scores = y_pred\n",
        "\n",
        "fpr, tpr, thresholds = roc_curve(y_true, y_scores)\n",
        "print(roc_auc_score(y_true, y_scores))\n",
        "optimal_idx = np.argmax(tpr - fpr)\n",
        "optimal_threshold = thresholds[optimal_idx]\n",
        "print(\"Threshold value is:\", optimal_threshold)\n",
        "plot_roc_curve(fpr, tpr)"
      ],
      "metadata": {
        "colab": {
          "base_uri": "https://localhost:8080/",
          "height": 329
        },
        "id": "T7tl0z9LYl1k",
        "outputId": "8fc3d845-e4f6-462f-dec7-94c5a4b8aebf"
      },
      "execution_count": null,
      "outputs": [
        {
          "output_type": "stream",
          "name": "stdout",
          "text": [
            "0.9345860040963673\n",
            "Threshold value is: 43.16794142061655\n"
          ]
        },
        {
          "output_type": "display_data",
          "data": {
            "text/plain": [
              "<Figure size 432x288 with 1 Axes>"
            ],
            "image/png": "[encoded data removed]"
          },
          "metadata": {
            "needs_background": "light"
          }
        }
      ]
    },
    {
      "cell_type": "markdown",
      "source": [
        "# CVAE"
      ],
      "metadata": {
        "id": "CKVNTdRSVubR"
      }
    },
    {
      "cell_type": "code",
      "source": [
        "from typing import Sequence\n",
        "\n",
        "import numpy as np\n",
        "import pandas as pd\n",
        "\n",
        "\n",
        "import torch\n",
        "import torch.nn as nn\n",
        "from torch.utils.data import DataLoader"
      ],
      "metadata": {
        "id": "3Nv1oGooV4JF"
      },
      "execution_count": null,
      "outputs": []
    },
    {
      "cell_type": "code",
      "source": [
        "pip install salesforce-merlion"
      ],
      "metadata": {
        "colab": {
          "base_uri": "https://localhost:8080/"
        },
        "id": "K3QnGvC9WRzR",
        "outputId": "cc19d060-5e0f-4a3e-929d-f93f03654b81"
      },
      "execution_count": null,
      "outputs": [
        {
          "output_type": "stream",
          "name": "stdout",
          "text": [
            "Looking in indexes: https://pypi.org/simple, https://us-python.pkg.dev/colab-wheels/public/simple/\n",
            "Collecting salesforce-merlion\n",
            "  Downloading salesforce_merlion-2.0.0-py3-none-any.whl (1.3 MB)\n",
            "\u001b[2K     \u001b[90m━━━━━━━━━━━━━━━━━━━━━━━━━━━━━━━━━━━━━━━━\u001b[0m \u001b[32m1.3/1.3 MB\u001b[0m \u001b[31m3.6 MB/s\u001b[0m eta \u001b[36m0:00:00\u001b[0m\n",
            "\u001b[?25hCollecting py4j\n",
            "  Downloading py4j-0.10.9.7-py2.py3-none-any.whl (200 kB)\n",
            "\u001b[2K     \u001b[90m━━━━━━━━━━━━━━━━━━━━━━━━━━━━━━━━━━━━━━\u001b[0m \u001b[32m200.5/200.5 KB\u001b[0m \u001b[31m27.0 MB/s\u001b[0m eta \u001b[36m0:00:00\u001b[0m\n",
            "\u001b[?25hRequirement already satisfied: plotly>=4.13 in /usr/local/lib/python3.8/dist-packages (from salesforce-merlion) (5.5.0)\n",
            "Requirement already satisfied: prophet>=1.1 in /usr/local/lib/python3.8/dist-packages (from salesforce-merlion) (1.1.1)\n",
            "Requirement already satisfied: lightgbm in /usr/local/lib/python3.8/dist-packages (from salesforce-merlion) (2.2.3)\n",
            "Requirement already satisfied: statsmodels>=0.12.2 in /usr/local/lib/python3.8/dist-packages (from salesforce-merlion) (0.12.2)\n",
            "Requirement already satisfied: numpy>=1.21 in /usr/local/lib/python3.8/dist-packages (from salesforce-merlion) (1.21.6)\n",
            "Requirement already satisfied: dill in /usr/local/lib/python3.8/dist-packages (from salesforce-merlion) (0.3.6)\n",
            "Requirement already satisfied: scikit-learn>=0.22 in /usr/local/lib/python3.8/dist-packages (from salesforce-merlion) (1.0.2)\n",
            "Requirement already satisfied: pandas>=1.1.0 in /usr/local/lib/python3.8/dist-packages (from salesforce-merlion) (1.3.5)\n",
            "Requirement already satisfied: cython in /usr/local/lib/python3.8/dist-packages (from salesforce-merlion) (0.29.33)\n",
            "Collecting GitPython\n",
            "  Downloading GitPython-3.1.30-py3-none-any.whl (184 kB)\n",
            "\u001b[2K     \u001b[90m━━━━━━━━━━━━━━━━━━━━━━━━━━━━━━━━━━━━━━\u001b[0m \u001b[32m184.0/184.0 KB\u001b[0m \u001b[31m24.1 MB/s\u001b[0m eta \u001b[36m0:00:00\u001b[0m\n",
            "\u001b[?25hRequirement already satisfied: scipy>=1.6.0 in /usr/local/lib/python3.8/dist-packages (from salesforce-merlion) (1.7.3)\n",
            "Requirement already satisfied: matplotlib in /usr/local/lib/python3.8/dist-packages (from salesforce-merlion) (3.2.2)\n",
            "Requirement already satisfied: packaging in /usr/local/lib/python3.8/dist-packages (from salesforce-merlion) (21.3)\n",
            "Requirement already satisfied: tqdm in /usr/local/lib/python3.8/dist-packages (from salesforce-merlion) (4.64.1)\n",
            "Requirement already satisfied: python-dateutil>=2.7.3 in /usr/local/lib/python3.8/dist-packages (from pandas>=1.1.0->salesforce-merlion) (2.8.2)\n",
            "Requirement already satisfied: pytz>=2017.3 in /usr/local/lib/python3.8/dist-packages (from pandas>=1.1.0->salesforce-merlion) (2022.7)\n",
            "Requirement already satisfied: six in /usr/local/lib/python3.8/dist-packages (from plotly>=4.13->salesforce-merlion) (1.15.0)\n",
            "Requirement already satisfied: tenacity>=6.2.0 in /usr/local/lib/python3.8/dist-packages (from plotly>=4.13->salesforce-merlion) (8.1.0)\n",
            "Requirement already satisfied: setuptools>=42 in /usr/local/lib/python3.8/dist-packages (from prophet>=1.1->salesforce-merlion) (57.4.0)\n",
            "Requirement already satisfied: setuptools-git>=1.2 in /usr/local/lib/python3.8/dist-packages (from prophet>=1.1->salesforce-merlion) (1.2)\n",
            "Requirement already satisfied: wheel>=0.37.0 in /usr/local/lib/python3.8/dist-packages (from prophet>=1.1->salesforce-merlion) (0.38.4)\n",
            "Requirement already satisfied: convertdate>=2.1.2 in /usr/local/lib/python3.8/dist-packages (from prophet>=1.1->salesforce-merlion) (2.4.0)\n",
            "Requirement already satisfied: cmdstanpy>=1.0.4 in /usr/local/lib/python3.8/dist-packages (from prophet>=1.1->salesforce-merlion) (1.0.8)\n",
            "Requirement already satisfied: LunarCalendar>=0.0.9 in /usr/local/lib/python3.8/dist-packages (from prophet>=1.1->salesforce-merlion) (0.0.9)\n",
            "Requirement already satisfied: holidays>=0.14.2 in /usr/local/lib/python3.8/dist-packages (from prophet>=1.1->salesforce-merlion) (0.18)\n",
            "Requirement already satisfied: cycler>=0.10 in /usr/local/lib/python3.8/dist-packages (from matplotlib->salesforce-merlion) (0.11.0)\n",
            "Requirement already satisfied: kiwisolver>=1.0.1 in /usr/local/lib/python3.8/dist-packages (from matplotlib->salesforce-merlion) (1.4.4)\n",
            "Requirement already satisfied: pyparsing!=2.0.4,!=2.1.2,!=2.1.6,>=2.0.1 in /usr/local/lib/python3.8/dist-packages (from matplotlib->salesforce-merlion) (3.0.9)\n",
            "Requirement already satisfied: joblib>=0.11 in /usr/local/lib/python3.8/dist-packages (from scikit-learn>=0.22->salesforce-merlion) (1.2.0)\n",
            "Requirement already satisfied: threadpoolctl>=2.0.0 in /usr/local/lib/python3.8/dist-packages (from scikit-learn>=0.22->salesforce-merlion) (3.1.0)\n",
            "Requirement already satisfied: patsy>=0.5 in /usr/local/lib/python3.8/dist-packages (from statsmodels>=0.12.2->salesforce-merlion) (0.5.3)\n",
            "Collecting gitdb<5,>=4.0.1\n",
            "  Downloading gitdb-4.0.10-py3-none-any.whl (62 kB)\n",
            "\u001b[2K     \u001b[90m━━━━━━━━━━━━━━━━━━━━━━━━━━━━━━━━━━━━━━━━\u001b[0m \u001b[32m62.7/62.7 KB\u001b[0m \u001b[31m9.8 MB/s\u001b[0m eta \u001b[36m0:00:00\u001b[0m\n",
            "\u001b[?25hRequirement already satisfied: pymeeus<=1,>=0.3.13 in /usr/local/lib/python3.8/dist-packages (from convertdate>=2.1.2->prophet>=1.1->salesforce-merlion) (0.5.12)\n",
            "Collecting smmap<6,>=3.0.1\n",
            "  Downloading smmap-5.0.0-py3-none-any.whl (24 kB)\n",
            "Requirement already satisfied: hijri-converter in /usr/local/lib/python3.8/dist-packages (from holidays>=0.14.2->prophet>=1.1->salesforce-merlion) (2.2.4)\n",
            "Requirement already satisfied: korean-lunar-calendar in /usr/local/lib/python3.8/dist-packages (from holidays>=0.14.2->prophet>=1.1->salesforce-merlion) (0.3.1)\n",
            "Requirement already satisfied: ephem>=3.7.5.3 in /usr/local/lib/python3.8/dist-packages (from LunarCalendar>=0.0.9->prophet>=1.1->salesforce-merlion) (4.1.4)\n",
            "Installing collected packages: py4j, smmap, gitdb, GitPython, salesforce-merlion\n",
            "Successfully installed GitPython-3.1.30 gitdb-4.0.10 py4j-0.10.9.7 salesforce-merlion-2.0.0 smmap-5.0.0\n"
          ]
        }
      ]
    },
    {
      "cell_type": "code",
      "source": [
        "from salesforce_merlion import ts_datasets\n"
      ],
      "metadata": {
        "colab": {
          "base_uri": "https://localhost:8080/",
          "height": 300
        },
        "id": "RT0xWDxtXZv9",
        "outputId": "470b5492-96bb-4dcd-e6fc-d5615ef16ebc"
      },
      "execution_count": null,
      "outputs": [
        {
          "output_type": "error",
          "ename": "ModuleNotFoundError",
          "evalue": "ignored",
          "traceback": [
            "\u001b[0;31m---------------------------------------------------------------------------\u001b[0m",
            "\u001b[0;31mModuleNotFoundError\u001b[0m                       Traceback (most recent call last)",
            "\u001b[0;32m<ipython-input-10-e1fdd3d1da38>\u001b[0m in \u001b[0;36m<module>\u001b[0;34m\u001b[0m\n\u001b[0;32m----> 1\u001b[0;31m \u001b[0;32mfrom\u001b[0m \u001b[0msalesforce_merlion\u001b[0m \u001b[0;32mimport\u001b[0m \u001b[0mts_datasets\u001b[0m\u001b[0;34m\u001b[0m\u001b[0;34m\u001b[0m\u001b[0m\n\u001b[0m",
            "\u001b[0;31mModuleNotFoundError\u001b[0m: No module named 'salesforce_merlion'",
            "",
            "\u001b[0;31m---------------------------------------------------------------------------\u001b[0;32m\nNOTE: If your import is failing due to a missing package, you can\nmanually install dependencies using either !pip or !apt.\n\nTo view examples of installing some common dependencies, click the\n\"Open Examples\" button below.\n\u001b[0;31m---------------------------------------------------------------------------\u001b[0m\n"
          ],
          "errorDetails": {
            "actions": [
              {
                "action": "open_url",
                "actionText": "Open Examples",
                "url": "/notebooks/snippets/importing_libraries.ipynb"
              }
            ]
          }
        }
      ]
    },
    {
      "cell_type": "code",
      "source": [
        "from merlion.utils import TimeSeries\n",
        "from ts_datasets.anomaly import NAB"
      ],
      "metadata": {
        "colab": {
          "base_uri": "https://localhost:8080/",
          "height": 317
        },
        "id": "2aa3skvXYLF4",
        "outputId": "e8d1adb8-7449-48c3-c886-49dce217c0f3"
      },
      "execution_count": null,
      "outputs": [
        {
          "output_type": "error",
          "ename": "ModuleNotFoundError",
          "evalue": "ignored",
          "traceback": [
            "\u001b[0;31m---------------------------------------------------------------------------\u001b[0m",
            "\u001b[0;31mModuleNotFoundError\u001b[0m                       Traceback (most recent call last)",
            "\u001b[0;32m<ipython-input-11-bc6c780065a4>\u001b[0m in \u001b[0;36m<module>\u001b[0;34m\u001b[0m\n\u001b[1;32m      1\u001b[0m \u001b[0;32mfrom\u001b[0m \u001b[0mmerlion\u001b[0m\u001b[0;34m.\u001b[0m\u001b[0mutils\u001b[0m \u001b[0;32mimport\u001b[0m \u001b[0mTimeSeries\u001b[0m\u001b[0;34m\u001b[0m\u001b[0;34m\u001b[0m\u001b[0m\n\u001b[0;32m----> 2\u001b[0;31m \u001b[0;32mfrom\u001b[0m \u001b[0mts_datasets\u001b[0m\u001b[0;34m.\u001b[0m\u001b[0manomaly\u001b[0m \u001b[0;32mimport\u001b[0m \u001b[0mNAB\u001b[0m\u001b[0;34m\u001b[0m\u001b[0;34m\u001b[0m\u001b[0m\n\u001b[0m",
            "\u001b[0;31mModuleNotFoundError\u001b[0m: No module named 'ts_datasets'",
            "",
            "\u001b[0;31m---------------------------------------------------------------------------\u001b[0;32m\nNOTE: If your import is failing due to a missing package, you can\nmanually install dependencies using either !pip or !apt.\n\nTo view examples of installing some common dependencies, click the\n\"Open Examples\" button below.\n\u001b[0;31m---------------------------------------------------------------------------\u001b[0m\n"
          ],
          "errorDetails": {
            "actions": [
              {
                "action": "open_url",
                "actionText": "Open Examples",
                "url": "/notebooks/snippets/importing_libraries.ipynb"
              }
            ]
          }
        }
      ]
    },
    {
      "cell_type": "code",
      "source": [
        "from merlion.evaluate.anomaly import NAB"
      ],
      "metadata": {
        "colab": {
          "base_uri": "https://localhost:8080/",
          "height": 300
        },
        "id": "JHKbJF87YfkK",
        "outputId": "d092382d-1226-406c-f70e-2ce67dd0bf67"
      },
      "execution_count": null,
      "outputs": [
        {
          "output_type": "error",
          "ename": "ImportError",
          "evalue": "ignored",
          "traceback": [
            "\u001b[0;31m---------------------------------------------------------------------------\u001b[0m",
            "\u001b[0;31mImportError\u001b[0m                               Traceback (most recent call last)",
            "\u001b[0;32m<ipython-input-12-159a3f6c6c3b>\u001b[0m in \u001b[0;36m<module>\u001b[0;34m\u001b[0m\n\u001b[0;32m----> 1\u001b[0;31m \u001b[0;32mfrom\u001b[0m \u001b[0mmerlion\u001b[0m\u001b[0;34m.\u001b[0m\u001b[0mevaluate\u001b[0m\u001b[0;34m.\u001b[0m\u001b[0manomaly\u001b[0m \u001b[0;32mimport\u001b[0m \u001b[0mNAB\u001b[0m\u001b[0;34m\u001b[0m\u001b[0;34m\u001b[0m\u001b[0m\n\u001b[0m",
            "\u001b[0;31mImportError\u001b[0m: cannot import name 'NAB' from 'merlion.evaluate.anomaly' (/usr/local/lib/python3.8/dist-packages/merlion/evaluate/anomaly.py)",
            "",
            "\u001b[0;31m---------------------------------------------------------------------------\u001b[0;32m\nNOTE: If your import is failing due to a missing package, you can\nmanually install dependencies using either !pip or !apt.\n\nTo view examples of installing some common dependencies, click the\n\"Open Examples\" button below.\n\u001b[0;31m---------------------------------------------------------------------------\u001b[0m\n"
          ],
          "errorDetails": {
            "actions": [
              {
                "action": "open_url",
                "actionText": "Open Examples",
                "url": "/notebooks/snippets/importing_libraries.ipynb"
              }
            ]
          }
        }
      ]
    },
    {
      "cell_type": "code",
      "source": [
        "import ts_datasets"
      ],
      "metadata": {
        "colab": {
          "base_uri": "https://localhost:8080/",
          "height": 300
        },
        "id": "e4lWDl5SY4BP",
        "outputId": "87915648-44ad-4778-8024-c8d928520172"
      },
      "execution_count": null,
      "outputs": [
        {
          "output_type": "error",
          "ename": "ModuleNotFoundError",
          "evalue": "ignored",
          "traceback": [
            "\u001b[0;31m---------------------------------------------------------------------------\u001b[0m",
            "\u001b[0;31mModuleNotFoundError\u001b[0m                       Traceback (most recent call last)",
            "\u001b[0;32m<ipython-input-13-f292914c4cd1>\u001b[0m in \u001b[0;36m<module>\u001b[0;34m\u001b[0m\n\u001b[0;32m----> 1\u001b[0;31m \u001b[0;32mimport\u001b[0m \u001b[0mts_datasets\u001b[0m\u001b[0;34m\u001b[0m\u001b[0;34m\u001b[0m\u001b[0m\n\u001b[0m",
            "\u001b[0;31mModuleNotFoundError\u001b[0m: No module named 'ts_datasets'",
            "",
            "\u001b[0;31m---------------------------------------------------------------------------\u001b[0;32m\nNOTE: If your import is failing due to a missing package, you can\nmanually install dependencies using either !pip or !apt.\n\nTo view examples of installing some common dependencies, click the\n\"Open Examples\" button below.\n\u001b[0;31m---------------------------------------------------------------------------\u001b[0m\n"
          ],
          "errorDetails": {
            "actions": [
              {
                "action": "open_url",
                "actionText": "Open Examples",
                "url": "/notebooks/snippets/importing_libraries.ipynb"
              }
            ]
          }
        }
      ]
    },
    {
      "cell_type": "code",
      "source": [
        "pip install ts-datasets"
      ],
      "metadata": {
        "id": "xmBKLvcKZHf_",
        "outputId": "4284cbde-3f37-4a1a-fcf1-67daf12a90fa",
        "colab": {
          "base_uri": "https://localhost:8080/"
        }
      },
      "execution_count": null,
      "outputs": [
        {
          "output_type": "stream",
          "name": "stdout",
          "text": [
            "Looking in indexes: https://pypi.org/simple, https://us-python.pkg.dev/colab-wheels/public/simple/\n",
            "\u001b[31mERROR: Could not find a version that satisfies the requirement ts-datasets (from versions: none)\u001b[0m\u001b[31m\n",
            "\u001b[0m\u001b[31mERROR: No matching distribution found for ts-datasets\u001b[0m\u001b[31m\n",
            "\u001b[0m"
          ]
        }
      ]
    },
    {
      "cell_type": "code",
      "source": [],
      "metadata": {
        "id": "iVXxlcKHZJda"
      },
      "execution_count": null,
      "outputs": []
    }
  ],
  "metadata": {
    "colab": {
      "collapsed_sections": [
        "4tkcrRY4j5M_",
        "L5-oAt45ms_w",
        "EDo-d-c3j5Ay",
        "HVOOjcFOnjcP",
        "MFN9Y_4KpGOq",
        "RPPAsr-6pvFh",
        "7n6MVU3jqkwg"
      ],
      "provenance": []
    },
    "kernelspec": {
      "display_name": "Python 3",
      "name": "python3"
    },
    "language_info": {
      "name": "python"
    },
    "accelerator": "GPU",
    "gpuClass": "standard"
  },
  "nbformat": 4,
  "nbformat_minor": 0
}