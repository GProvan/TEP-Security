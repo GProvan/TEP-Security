{
  "nbformat": 4,
  "nbformat_minor": 0,
  "metadata": {
    "colab": {
      "provenance": []
    },
    "kernelspec": {
      "name": "python3",
      "display_name": "Python 3"
    },
    "language_info": {
      "name": "python"
    },
    "gpuClass": "standard"
  },
  "cells": [
    {
      "cell_type": "code",
      "execution_count": null,
      "metadata": {
        "colab": {
          "base_uri": "https://localhost:8080/"
        },
        "id": "jznUqok0oJ3_",
        "outputId": "056b007e-0978-4dc1-949b-1f5b96c0971e"
      },
      "outputs": [
        {
          "output_type": "stream",
          "name": "stdout",
          "text": [
            "Mounted at /content/drive/\n"
          ]
        }
      ],
      "source": [
        "from google.colab import drive\n",
        "drive.mount('/content/drive/')"
      ]
    },
    {
      "cell_type": "code",
      "source": [
        "\n",
        "import numpy as np\n",
        "import pandas as pd\n",
        "import matplotlib.pyplot as plt\n",
        "import seaborn as sns\n",
        "import torch\n",
        "from sklearn.metrics import roc_curve,roc_auc_score\n",
        "from sklearn import preprocessing\n",
        "from sklearn.impute import SimpleImputer\n",
        "import logging\n",
        "import abc\n",
        "import numpy as np\n",
        "import pandas as pd\n",
        "import torch\n",
        "import random\n",
        "import torch.nn as nn\n",
        "from scipy.stats import multivariate_normal\n",
        "from torch.utils.data import DataLoader\n",
        "from torch.utils.data.sampler import SubsetRandomSampler\n",
        "from tqdm import trange\n",
        "import tqdm\n",
        "\n",
        "from torch.autograd import Variable\n",
        "\n",
        "\n",
        "import sklearn\n",
        "import itertools\n",
        "import operator\n",
        "from lightgbm import LGBMClassifier\n",
        "import warnings\n",
        "from collections import Counter\n",
        "warnings.filterwarnings(\"ignore\")\n",
        "import numpy as np\n",
        "import pandas as pd\n",
        "from sklearn import preprocessing\n",
        "from sklearn.impute import SimpleImputer\n",
        "from sklearn.metrics import precision_recall_curve\n",
        "from sklearn.metrics import accuracy_score\n",
        "from sklearn.metrics import confusion_matrix\n",
        "from sklearn.metrics import classification_report\n"
      ],
      "metadata": {
        "id": "G8FazMfuoPm5"
      },
      "execution_count": null,
      "outputs": []
    },
    {
      "cell_type": "code",
      "source": [
        "import torch\n",
        "from tqdm import trange\n",
        "import tqdm\n",
        "from torch.autograd import Variable\n",
        "from torch.utils.data import DataLoader\n",
        "from torch.utils.data.sampler import SubsetRandomSampler\n",
        "import logging\n",
        "\n",
        "\n",
        "class DataProcessor:\n",
        "    def __init__(self, train_link, test_link, y_var, drop_cols, scaler=None, imputer=None):\n",
        "        '''\n",
        "        :param train_link: link to the training data\n",
        "        :param test_link: link to the test data\n",
        "        :param y_var: name of the target variable\n",
        "        :param drop_cols: list of columns to drop\n",
        "        :param scaler: scaler to use for scaling the data\n",
        "        :param imputer: imputer to use for imputing missing values\n",
        "        '''\n",
        "        df_normal = pd.read_csv(train_link)\n",
        "        df_test = pd.read_csv(test_link)\n",
        "        self.X_train, self.y_train = self.drop_y(df_normal, y_var)\n",
        "        self.X_test, self.y_test = self.drop_y(df_test, y_var)\n",
        "        self.X_train = self.drop_cols(self.X_train, drop_cols)\n",
        "        self.X_test = self.drop_cols(self.X_test, drop_cols)\n",
        "        self.col_names = self.get_colnames(self.X_train)\n",
        "        self.X_train = self.check_and_impute_missing(self.X_train, imputer)\n",
        "        self.X_test = self.check_and_impute_missing(self.X_test, imputer)\n",
        "        self.X_train, self.X_test, self.scaler_function = self.scale_data(self.X_train, self.X_test, self.col_names,\n",
        "                                                                          scaler)\n",
        "\n",
        "    def drop_y(self, df, y_var):\n",
        "        '''\n",
        "        :param df: dataframe to drop the target variable from\n",
        "        :param y_var: name of the target variable\n",
        "        :return: dataframe with the target variable dropped\n",
        "        '''\n",
        "        y = df[y_var]\n",
        "        x_data = df.drop(columns=[y_var], axis=1)\n",
        "        return x_data, y\n",
        "\n",
        "    def drop_cols(self, df, cols):\n",
        "        '''\n",
        "        :param df: dataframe to drop the columns from\n",
        "        :param cols: list of columns to drop\n",
        "        :return: dataframe with the columns dropped\n",
        "        '''\n",
        "        data = df.drop(columns=cols, axis=1)\n",
        "        return data\n",
        "\n",
        "    def get_colnames(self, df):\n",
        "        '''\n",
        "        :param df: dataframe to get the column names from \n",
        "        :return: list of column names\n",
        "        '''\n",
        "        return list(df.columns)\n",
        "\n",
        "    def check_and_impute_missing(self, df, imputer):\n",
        "        '''\n",
        "        :param df: dataframe to check for missing values\n",
        "        :param imputer: imputer to use for imputing missing values\n",
        "        :return: dataframe with missing values imputed\n",
        "        '''\n",
        "        # Check for missing values\n",
        "        if imputer is None:\n",
        "            imputer = SimpleImputer(strategy='mean')\n",
        "        missing = df.isnull().sum()\n",
        "        if missing.sum() == 0:\n",
        "            # No missing values, return the original dataframe\n",
        "            return df\n",
        "        else:\n",
        "            # Impute missing values with the mean of the column\n",
        "            imputed_df = imputer.fit_transform(df)\n",
        "            imputed_df = pd.DataFrame(imputed_df, columns=self.col_names)\n",
        "            return imputed_df\n",
        "\n",
        "    def scale_data(self, train_df, test_df, colnames, scaler):\n",
        "        '''\n",
        "        :param train_df: training dataframe to scale\n",
        "        :param test_df: test dataframe to scale\n",
        "        :param colnames: list of column names\n",
        "        :param scaler: scaler to use for scaling the data\n",
        "        :return: scaled training and test dataframes\n",
        "        '''\n",
        "         # if no scaler is passed, use the standard scaler\n",
        "        if scaler is None: \n",
        "            scaler = preprocessing.StandardScaler()\n",
        "        x_scaled_train = scaler.fit_transform(train_df)\n",
        "        # fit and transform the training data\n",
        "        df_train = pd.DataFrame(x_scaled_train, columns=self.col_names)\n",
        "        # transform the test data\n",
        "        x_scaled_test = scaler.transform(test_df)\n",
        "        df_test = pd.DataFrame(x_scaled_test, columns=self.col_names)\n",
        "        return df_train, df_test, scaler\n",
        "\n"
      ],
      "metadata": {
        "id": "7lVCWobMoRxW"
      },
      "execution_count": null,
      "outputs": []
    },
    {
      "cell_type": "code",
      "source": [
        "train_link = \"/content/drive/My Drive/TEPdata/experiment_1/normal_10000.csv\"\n",
        "\n",
        "test_link = \"/content/drive/My Drive/TEPdata/experiment_1/df_IDV(5).csv\""
      ],
      "metadata": {
        "id": "q37UNZmZoTTa"
      },
      "execution_count": null,
      "outputs": []
    },
    {
      "cell_type": "code",
      "source": [
        "processor = DataProcessor(train_link, test_link, \"Fault\", \"Unnamed: 0\")\n",
        "X_train = processor.X_train\n",
        "y_train = processor.y_train\n",
        "X_test = processor.X_test\n",
        "y_test = processor.y_test\n",
        "scaler = processor.scaler_function"
      ],
      "metadata": {
        "id": "R1d06r1poUsg"
      },
      "execution_count": null,
      "outputs": []
    },
    {
      "cell_type": "code",
      "source": [
        "class LSTMED():\n",
        "    def __init__(self, num_epochs: int = 5, batch_size: int = 20, lr: float = 1e-3,\n",
        "                 hidden_size: int = 5, sequence_length: int = 30, train_gaussian_percentage: float = 0.25,\n",
        "                 n_layers: int = 1, use_bias: bool = True, dropout: float = 0.2):\n",
        "        \n",
        "\n",
        "\n",
        "        # set the random seed\n",
        "        self.device = torch.device(\"cuda:0\" if torch.cuda.is_available() else \"cpu\")\n",
        "        self.prediction_details = {}\n",
        "        self.num_epochs = num_epochs\n",
        "        self.batch_size = batch_size\n",
        "        self.lr = lr\n",
        "        self.hidden_size = hidden_size\n",
        "        self.sequence_length = sequence_length\n",
        "        self.train_gaussian_percentage = train_gaussian_percentage\n",
        "        self.n_layers = n_layers\n",
        "        self.use_bias = use_bias\n",
        "        self.dropout = dropout\n",
        "\n",
        "        # will be used to store the trained LSTM model\n",
        "        self.lstmed = None\n",
        "        # will be used to store the mean and covariance of the Gaussian distribution\n",
        "        self.mean, self.cov = None, None\n",
        "\n",
        "    def to_device(self, model):\n",
        "        '''\n",
        "        Move the model to the device specified by the user\n",
        "        :param model: model to move to the device\n",
        "        '''\n",
        "        model.to(self.device)\n",
        "\n",
        "    def fit(self, X: pd.DataFrame):\n",
        "      \n",
        "        data = X.values\n",
        "        # create sequences of data by taking self.sequence_length consecutive rows\n",
        "        sequences = [data[i:i + self.sequence_length] for i in range(data.shape[0] - self.sequence_length + 1)]\n",
        "        # shuffle the sequences\n",
        "        indices = np.random.permutation(len(sequences))\n",
        "        # split the sequences into a training set and a \"train Gaussian\" set\n",
        "        split_point = int(self.train_gaussian_percentage * len(sequences))\n",
        "        # training set\n",
        "        train_loader = DataLoader(dataset=sequences, batch_size=self.batch_size, drop_last=True,\n",
        "                                  sampler=SubsetRandomSampler(indices[:-split_point]), pin_memory=True)\n",
        "        train_gaussian_loader = DataLoader(dataset=sequences, batch_size=self.batch_size, drop_last=True,\n",
        "                                           sampler=SubsetRandomSampler(indices[-split_point:]), pin_memory=True)\n",
        "\n",
        "        # create the LSTM model using the LSTMEDModule class\n",
        "        self.lstmed = LSTMEDModule(X.shape[1], self.hidden_size,\n",
        "                                   self.n_layers, self.use_bias, self.dropout)\n",
        "        # move the model to the device specified by the user\n",
        "        self.to_device(self.lstmed)\n",
        "        # create an Adam optimizer\n",
        "        optimizer = torch.optim.Adam(self.lstmed.parameters(), lr=self.lr)\n",
        "        # set the model to training mode\n",
        "        # In PyTorch, the training mode of a model refers to whether the model's parameters are being updated\n",
        "        # during the forward pass or not. When a model is in training mode, its parameters are being updated\n",
        "        # based on the gradients computed during the backward pass. When a model is in evaluation mode,\n",
        "        # its parameters are not updated and certain layers (e.g. dropout layers) may behave differently.\n",
        "        self.lstmed.train()\n",
        "        # trange is a wrapper around the range function to provide a smart progress meter\n",
        "        # when looping over an iterable. It can also be used as a context manager\n",
        "        for epoch in trange(self.num_epochs):\n",
        "            # log the epoch number\n",
        "            logging.debug(f'Epoch {epoch + 1}/{self.num_epochs}.')\n",
        "            # iterate over the training set\n",
        "            for ts_batch in train_loader:\n",
        "                # move the batch to the device specified by the user\n",
        "                output = self.lstmed(self.to_var(ts_batch))\n",
        "                # compute the loss between the model's predictions and the actual values using the MSE loss function\n",
        "                loss = nn.MSELoss(size_average=False)(output, self.to_var(ts_batch.float()))\n",
        "                # clear the gradients\n",
        "                self.lstmed.zero_grad()\n",
        "                # compute the gradients\n",
        "                loss.backward()\n",
        "                # update the model's parameters\n",
        "                optimizer.step()\n",
        "        # set the model to evaluation mode\n",
        "        # In PyTorch, the evaluation mode of a model refers to a setting in which the model's parameters\n",
        "        # are not being updated during the forward pass. In other words, when a model is in evaluation mode,\n",
        "        # the gradients are not computed during the backward pass and the model's parameters are not updated.\n",
        "        self.lstmed.eval()\n",
        "        error_vectors = []\n",
        "        # iterate over the \"train Gaussian\" set\n",
        "        for ts_batch in train_gaussian_loader:\n",
        "            # forward pass\n",
        "            output = self.lstmed(self.to_var(ts_batch))\n",
        "            # compute the error between the model's predictions and the actual values\n",
        "            error = nn.L1Loss(reduce=False)(output, self.to_var(ts_batch.float()))\n",
        "            # store the error vectors\n",
        "            error_vectors += list(error.view(-1, X.shape[1]).data.cpu().numpy())\n",
        "        # compute the mean and covariance of the error vectors\n",
        "        self.mean = np.mean(error_vectors, axis=0)\n",
        "        self.cov = np.cov(error_vectors, rowvar=False)\n",
        "    \n",
        "    def to_var(self, t, **kwargs):\n",
        "   \n",
        "        # send the tensor to the device\n",
        "        t = t.to(self.device)\n",
        "        # convert the tensor to a variable\n",
        "        return Variable(t, **kwargs)\n",
        "\n",
        "    def predict(self, X: pd.DataFrame):\n",
        "    \n",
        "        data = X.values\n",
        "        sequences = [data[i:i + self.sequence_length] for i in range(data.shape[0] - self.sequence_length + 1)]\n",
        "        data_loader = DataLoader(dataset=sequences, batch_size=self.batch_size, shuffle=False, drop_last=False)\n",
        "        # set the model to evaluation mode\n",
        "        self.lstmed.eval()\n",
        "        # create a multivariate normal distribution\n",
        "        mvnormal = multivariate_normal(self.mean, self.cov, allow_singular=True)\n",
        "        scores = []\n",
        "        outputs = []\n",
        "        errors = []\n",
        "        # iterate over the data loader\n",
        "        for idx, ts in enumerate(data_loader):\n",
        "            # forward pass\n",
        "            output = self.lstmed(self.to_var(ts))\n",
        "            # compute the error between the model's predictions and the actual values using the L1 loss function\n",
        "            # The error is calculated using the L1 loss function because it is a commonly used measure of\n",
        "            # absolute error between two tensors. The L1 loss function is defined as the sum of the absolute\n",
        "            # differences between the elements of the two tensors. It is often used because it is more robust\n",
        "            # to outliers than the mean squared error (MSE) loss, which is another commonly used loss function.\n",
        "            error = nn.L1Loss(reduce=False)(output, self.to_var(ts.float()))\n",
        "            # compute the negative log probability of the error under the multivariate normal distribution\n",
        "            # The scores are calculated using the negative log probability of the error under a multivariate\n",
        "            # normal distribution because the model is assumed to have a Gaussian distribution of errors.\n",
        "            # The negative log probability is used as a measure of the likelihood of the error under the\n",
        "            # assumed distribution. This likelihood can then be used to determine whether a particular sample\n",
        "            # is an outlier or not, as samples with low likelihood are less likely to have been generated by\n",
        "            # the model and are more likely to be anomalies.\n",
        "            score = -mvnormal.logpdf(error.view(-1, X.shape[1]).data.cpu().numpy())\n",
        "            scores.append(score.reshape(ts.size(0), self.sequence_length))\n",
        "            outputs.append(output.cpu().data.numpy())\n",
        "            errors.append(error.cpu().data.numpy())\n",
        "\n",
        "        # concatenate the scores\n",
        "        scores = np.concatenate(scores)\n",
        "        # create a matrix of NaNs with the same shape as the data\n",
        "        scores_matrix = np.full((self.sequence_length, data.shape[0]), np.nan)\n",
        "        # iterate over the scores\n",
        "        for i, score in enumerate(scores):\n",
        "            # fill the matrix with the scores\n",
        "            scores_matrix[i % self.sequence_length, i:i + self.sequence_length] = score\n",
        "        # average the scores over each self.sequence_length consecutive entries\n",
        "        scores = np.nanmean(scores_matrix, axis=0)\n",
        "\n",
        "    \n",
        "        # concatenate the outputs\n",
        "        outputs = np.concatenate(outputs)\n",
        "        # create a matrix of NaNs with the same shape as the data\n",
        "        scores_matrix = np.full((self.sequence_length, X.shape[0], X.shape[1]), np.nan)\n",
        "        # iterate over the outputs\n",
        "        for i, output in enumerate(outputs):\n",
        "            # fill the matrix with the outputs\n",
        "            scores_matrix[i % self.sequence_length, i:i + self.sequence_length, :] = output\n",
        "        # average the outputs over each self.sequence_length consecutive entries\n",
        "        self.prediction_details.update({'reconstructions_mean': np.nanmean(scores_matrix, axis=0).T})\n",
        "        # concatenate the errors\n",
        "        errors = np.concatenate(errors)\n",
        "        # create a matrix of NaNs with the same shape as the data\n",
        "        scores_matrix = np.full((self.sequence_length, X.shape[0], X.shape[1]), np.nan)\n",
        "        # iterate over the errors\n",
        "        for i, error in enumerate(errors):\n",
        "            # fill the matrix with the errors\n",
        "            scores_matrix[i % self.sequence_length, i:i + self.sequence_length, :] = error\n",
        "        # average the errors over each self.sequence_length consecutive entries\n",
        "        self.prediction_details.update({'errors_mean': np.nanmean(scores_matrix, axis=0).T})\n",
        "        # return the scores and the prediction details\n",
        "        return scores, self.prediction_details\n",
        "\n",
        "\n",
        "class LSTMEDModule(nn.Module):\n",
        "    def __init__(self, n_features: int, hidden_size: int,\n",
        "                 n_layers: int, use_bias: bool, dropout: float):\n",
        "    \n",
        "        super().__init__()\n",
        "        # set the device\n",
        "        self.device = torch.device(\"cuda:0\" if torch.cuda.is_available() else \"cpu\")\n",
        "\n",
        "        self.n_features = n_features\n",
        "        self.hidden_size = hidden_size\n",
        "\n",
        "        self.n_layers = n_layers\n",
        "        self.use_bias = use_bias\n",
        "        self.dropout = dropout\n",
        "        # encoder\n",
        "        self.encoder = nn.LSTM(self.n_features, self.hidden_size, batch_first=True,\n",
        "                               num_layers=self.n_layers, bias=self.use_bias, dropout=self.dropout)\n",
        "        # send the encoder to the device\n",
        "        self.to_device(self.encoder)\n",
        "        # decoder\n",
        "        self.decoder = nn.LSTM(self.n_features, self.hidden_size, batch_first=True,\n",
        "                               num_layers=self.n_layers, bias=self.use_bias, dropout=self.dropout)\n",
        "        # send the decoder to the device\n",
        "        self.to_device(self.decoder)\n",
        "        # linear layer\n",
        "        self.hidden2output = nn.Linear(self.hidden_size, self.n_features)\n",
        "        # send the linear layer to the device\n",
        "        self.to_device(self.hidden2output)\n",
        "\n",
        "    def to_device(self, model):\n",
        "        '''\n",
        "        Move the model to the device specified by the user\n",
        "        :param model: model to move to the device\n",
        "        '''\n",
        "        model.to(self.device)\n",
        "\n",
        " \n",
        "\n",
        "    def to_var(self, t, **kwargs):\n",
        "     \n",
        "        # send the tensor to the device\n",
        "        t = t.to(self.device)\n",
        "        # convert the tensor to a variable\n",
        "        return Variable(t, **kwargs)\n",
        "\n",
        "    def _init_hidden(self, batch_size):\n",
        "       \n",
        "        return (self.to_var(torch.Tensor(self.n_layers, batch_size, self.hidden_size).zero_()),\n",
        "                self.to_var(torch.Tensor(self.n_layers, batch_size, self.hidden_size).zero_()))\n",
        "\n",
        "    def forward(self, ts_batch):\n",
        "\n",
        "        # get the batch size\n",
        "        batch_size = ts_batch.shape[0]\n",
        "        # initialize the hidden state of the encoder\n",
        "        enc_hidden = self._init_hidden(batch_size)\n",
        "        # apply the encoder to the input time series data\n",
        "        _, enc_hidden = self.encoder(ts_batch.float(), enc_hidden)\n",
        "        # initialize the hidden state of the decoder\n",
        "        dec_hidden = enc_hidden\n",
        "        # initialize the output tensor\n",
        "        output = self.to_var(torch.Tensor(ts_batch.size()).zero_())\n",
        "        # This means that the model starts at the final time step of the input data and works its way\n",
        "        # backwards to the initial time step.\n",
        "\n",
        "        # iterate over the time steps of the input time series data\n",
        "        for i in reversed(range(ts_batch.shape[1])):\n",
        "            # apply the linear layer to the current hidden state of the decoder\n",
        "            output[:, i, :] = self.hidden2output(dec_hidden[0][0, :])\n",
        "            if self.training:\n",
        "                # apply the decoder to the input time series data at the current time step\n",
        "                _, dec_hidden = self.decoder(ts_batch[:, i].unsqueeze(1).float(), dec_hidden)\n",
        "            else:\n",
        "                # apply the decoder to the output produced by the model at the current time step\n",
        "                _, dec_hidden = self.decoder(output[:, i].unsqueeze(1), dec_hidden)\n",
        "\n",
        "        # return the output of the model\n",
        "        return output"
      ],
      "metadata": {
        "id": "wrN6M56AoXDZ"
      },
      "execution_count": null,
      "outputs": []
    },
    {
      "cell_type": "code",
      "source": [
        "model = LSTMED()\n",
        "model.fit(X_train)"
      ],
      "metadata": {
        "colab": {
          "base_uri": "https://localhost:8080/"
        },
        "id": "TZGVAvwtoZCp",
        "outputId": "00324958-2723-44a2-bf4f-c14b418eb09f"
      },
      "execution_count": null,
      "outputs": [
        {
          "output_type": "stream",
          "name": "stderr",
          "text": [
            "100%|██████████| 5/5 [00:53<00:00, 10.79s/it]\n"
          ]
        }
      ]
    },
    {
      "cell_type": "markdown",
      "source": [
        "## Change Point"
      ],
      "metadata": {
        "id": "mGb62tLKIw5j"
      }
    },
    {
      "cell_type": "code",
      "source": [
        "pip install ruptures"
      ],
      "metadata": {
        "colab": {
          "base_uri": "https://localhost:8080/"
        },
        "id": "rJ67y3CptuIf",
        "outputId": "cf573b9d-b956-4e2e-a17a-27136f3939e4"
      },
      "execution_count": null,
      "outputs": [
        {
          "output_type": "stream",
          "name": "stdout",
          "text": [
            "Looking in indexes: https://pypi.org/simple, https://us-python.pkg.dev/colab-wheels/public/simple/\n",
            "Collecting ruptures\n",
            "  Downloading ruptures-1.1.7-cp38-cp38-manylinux_2_17_x86_64.manylinux2014_x86_64.whl (1.1 MB)\n",
            "\u001b[2K     \u001b[90m━━━━━━━━━━━━━━━━━━━━━━━━━━━━━━━━━━━━━━━━\u001b[0m \u001b[32m1.1/1.1 MB\u001b[0m \u001b[31m13.9 MB/s\u001b[0m eta \u001b[36m0:00:00\u001b[0m\n",
            "\u001b[?25hRequirement already satisfied: numpy in /usr/local/lib/python3.8/dist-packages (from ruptures) (1.21.6)\n",
            "Requirement already satisfied: scipy in /usr/local/lib/python3.8/dist-packages (from ruptures) (1.7.3)\n",
            "Installing collected packages: ruptures\n",
            "Successfully installed ruptures-1.1.7\n"
          ]
        }
      ]
    },
    {
      "cell_type": "code",
      "source": [
        "import ruptures as rpt"
      ],
      "metadata": {
        "id": "gAXxlBWyt7xG"
      },
      "execution_count": null,
      "outputs": []
    },
    {
      "cell_type": "code",
      "source": [
        "def ChangePoint(X_test,penalty,model = \"PELT\"):\n",
        "    if model ==\"PELT\":\n",
        "        algo = rpt.KernelCPD(kernel=\"rbf\", min_size=2).fit(X_test.values)\n",
        "    elif model ==\"BottomUp\":\n",
        "        algo = rpt.detection.bottomup.BottomUp(model = \"rbf\").fit(X_test.values)\n",
        "    else:\n",
        "        return \"Error: Please enter PELT or BottomUp\"\n",
        "\n",
        "    test_length = len(X_test)\n",
        "    bkps = algo.predict(pen=penalty)\n",
        "\n",
        "    if len(bkps) % 2 != 0:\n",
        "        bkps.pop()\n",
        "    output = [0] * test_length\n",
        "    for i in range(0,len(bkps),2):\n",
        "        for j in range(bkps[i],bkps[i+1]+1):\n",
        "            if j < test_length:\n",
        "                output[j] = 1\n",
        "            else:\n",
        "                return output\n",
        "    return output\n",
        "    \n",
        "\n",
        "y_pred = ChangePoint(X_test,20)"
      ],
      "metadata": {
        "id": "mA90rd0aC3Wz"
      },
      "execution_count": null,
      "outputs": []
    },
    {
      "cell_type": "code",
      "source": [
        "def plot_roc_curve(fpr, tpr):\n",
        "    plt.plot(fpr, tpr, color='orange', label='ROC')\n",
        "    plt.plot([0, 1], [0, 1], color='darkblue', linestyle='--')\n",
        "    #plt.plot(fpr,tpr,label=\"AUC=\"+str(round(auc,4)))\n",
        "    plt.xlabel('False Positive Rate')\n",
        "    plt.ylabel('True Positive Rate')\n",
        "    plt.title('Receiver Operating Characteristic (ROC) Curve')\n",
        "    plt.legend()\n",
        "    plt.show()\n",
        "\n",
        "#y_true = y_test[10:len(aa)]\n",
        "#y_scores = aa[10:len(aa)]\n",
        "y_true = y_test\n",
        "y_scores =yy\n",
        "\n",
        "fpr, tpr, thresholds = roc_curve(y_true, y_scores)\n",
        "print(roc_auc_score(y_true, y_scores))\n",
        "optimal_idx = np.argmax(tpr - fpr)\n",
        "optimal_threshold = thresholds[optimal_idx]\n",
        "plot_roc_curve(fpr, tpr)\n",
        "\n",
        "# fix this code\n"
      ],
      "metadata": {
        "colab": {
          "base_uri": "https://localhost:8080/",
          "height": 312
        },
        "id": "beEIWxGD53ZH",
        "outputId": "2a303081-8ed5-4d04-94d6-54fb5b1e62fb"
      },
      "execution_count": null,
      "outputs": [
        {
          "output_type": "stream",
          "name": "stdout",
          "text": [
            "0.8296300752461723\n"
          ]
        },
        {
          "output_type": "display_data",
          "data": {
            "text/plain": [
              "<Figure size 432x288 with 1 Axes>"
            ],
            "image/png": "[encoded data removed]"
          },
          "metadata": {
            "needs_background": "light"
          }
        }
      ]
    },
    {
      "cell_type": "code",
      "source": [
        "pip install pyod "
      ],
      "metadata": {
        "colab": {
          "base_uri": "https://localhost:8080/"
        },
        "id": "I6VLM5z8PWMw",
        "outputId": "8e2e0a6e-4d67-43bc-8500-3ba0c8627a01"
      },
      "execution_count": null,
      "outputs": [
        {
          "output_type": "stream",
          "name": "stdout",
          "text": [
            "Looking in indexes: https://pypi.org/simple, https://us-python.pkg.dev/colab-wheels/public/simple/\n",
            "Collecting pyod\n",
            "  Downloading pyod-1.0.7.tar.gz (147 kB)\n",
            "\u001b[2K     \u001b[90m━━━━━━━━━━━━━━━━━━━━━━━━━━━━━━━━━━━━━━\u001b[0m \u001b[32m147.7/147.7 KB\u001b[0m \u001b[31m11.5 MB/s\u001b[0m eta \u001b[36m0:00:00\u001b[0m\n",
            "\u001b[?25h  Preparing metadata (setup.py) ... \u001b[?25l\u001b[?25hdone\n",
            "Requirement already satisfied: joblib in /usr/local/lib/python3.8/dist-packages (from pyod) (1.2.0)\n",
            "Requirement already satisfied: matplotlib in /usr/local/lib/python3.8/dist-packages (from pyod) (3.2.2)\n",
            "Requirement already satisfied: numpy>=1.19 in /usr/local/lib/python3.8/dist-packages (from pyod) (1.21.6)\n",
            "Requirement already satisfied: numba>=0.51 in /usr/local/lib/python3.8/dist-packages (from pyod) (0.56.4)\n",
            "Requirement already satisfied: scipy>=1.5.1 in /usr/local/lib/python3.8/dist-packages (from pyod) (1.7.3)\n",
            "Requirement already satisfied: scikit_learn>=0.20.0 in /usr/local/lib/python3.8/dist-packages (from pyod) (1.0.2)\n",
            "Requirement already satisfied: six in /usr/local/lib/python3.8/dist-packages (from pyod) (1.15.0)\n",
            "Requirement already satisfied: statsmodels in /usr/local/lib/python3.8/dist-packages (from pyod) (0.12.2)\n",
            "Requirement already satisfied: importlib-metadata in /usr/local/lib/python3.8/dist-packages (from numba>=0.51->pyod) (6.0.0)\n",
            "Requirement already satisfied: llvmlite<0.40,>=0.39.0dev0 in /usr/local/lib/python3.8/dist-packages (from numba>=0.51->pyod) (0.39.1)\n",
            "Requirement already satisfied: setuptools in /usr/local/lib/python3.8/dist-packages (from numba>=0.51->pyod) (57.4.0)\n",
            "Requirement already satisfied: threadpoolctl>=2.0.0 in /usr/local/lib/python3.8/dist-packages (from scikit_learn>=0.20.0->pyod) (3.1.0)\n",
            "Requirement already satisfied: kiwisolver>=1.0.1 in /usr/local/lib/python3.8/dist-packages (from matplotlib->pyod) (1.4.4)\n",
            "Requirement already satisfied: pyparsing!=2.0.4,!=2.1.2,!=2.1.6,>=2.0.1 in /usr/local/lib/python3.8/dist-packages (from matplotlib->pyod) (3.0.9)\n",
            "Requirement already satisfied: cycler>=0.10 in /usr/local/lib/python3.8/dist-packages (from matplotlib->pyod) (0.11.0)\n",
            "Requirement already satisfied: python-dateutil>=2.1 in /usr/local/lib/python3.8/dist-packages (from matplotlib->pyod) (2.8.2)\n",
            "Requirement already satisfied: patsy>=0.5 in /usr/local/lib/python3.8/dist-packages (from statsmodels->pyod) (0.5.3)\n",
            "Requirement already satisfied: pandas>=0.21 in /usr/local/lib/python3.8/dist-packages (from statsmodels->pyod) (1.3.5)\n",
            "Requirement already satisfied: pytz>=2017.3 in /usr/local/lib/python3.8/dist-packages (from pandas>=0.21->statsmodels->pyod) (2022.7)\n",
            "Requirement already satisfied: zipp>=0.5 in /usr/local/lib/python3.8/dist-packages (from importlib-metadata->numba>=0.51->pyod) (3.11.0)\n",
            "Building wheels for collected packages: pyod\n",
            "  Building wheel for pyod (setup.py) ... \u001b[?25l\u001b[?25hdone\n",
            "  Created wheel for pyod: filename=pyod-1.0.7-py3-none-any.whl size=181101 sha256=a5f63d0182c1cc2a8a7e46eb0d5f4dc2e75aca1165bc7abbca047f21b0d759ba\n",
            "  Stored in directory: /root/.cache/pip/wheels/f7/e2/c1/1c7fd8b261e72411f6509afb429c84532e40ddcd96074473f4\n",
            "Successfully built pyod\n",
            "Installing collected packages: pyod\n",
            "Successfully installed pyod-1.0.7\n"
          ]
        }
      ]
    },
    {
      "cell_type": "code",
      "source": [
        "pip install combo"
      ],
      "metadata": {
        "colab": {
          "base_uri": "https://localhost:8080/"
        },
        "id": "W1ECxhKZPu0D",
        "outputId": "7641e3f0-1553-4607-96bb-5797f9235647"
      },
      "execution_count": null,
      "outputs": [
        {
          "output_type": "stream",
          "name": "stdout",
          "text": [
            "Looking in indexes: https://pypi.org/simple, https://us-python.pkg.dev/colab-wheels/public/simple/\n",
            "Collecting combo\n",
            "  Downloading combo-0.1.3.tar.gz (38 kB)\n",
            "  Preparing metadata (setup.py) ... \u001b[?25l\u001b[?25hdone\n",
            "Requirement already satisfied: joblib in /usr/local/lib/python3.8/dist-packages (from combo) (1.2.0)\n",
            "Requirement already satisfied: matplotlib in /usr/local/lib/python3.8/dist-packages (from combo) (3.2.2)\n",
            "Requirement already satisfied: numpy>=1.13 in /usr/local/lib/python3.8/dist-packages (from combo) (1.21.6)\n",
            "Requirement already satisfied: numba>=0.35 in /usr/local/lib/python3.8/dist-packages (from combo) (0.56.4)\n",
            "Requirement already satisfied: pyod in /usr/local/lib/python3.8/dist-packages (from combo) (1.0.7)\n",
            "Requirement already satisfied: scipy in /usr/local/lib/python3.8/dist-packages (from combo) (1.7.3)\n",
            "Requirement already satisfied: scikit_learn>=0.20 in /usr/local/lib/python3.8/dist-packages (from combo) (1.0.2)\n",
            "Requirement already satisfied: setuptools in /usr/local/lib/python3.8/dist-packages (from numba>=0.35->combo) (57.4.0)\n",
            "Requirement already satisfied: llvmlite<0.40,>=0.39.0dev0 in /usr/local/lib/python3.8/dist-packages (from numba>=0.35->combo) (0.39.1)\n",
            "Requirement already satisfied: importlib-metadata in /usr/local/lib/python3.8/dist-packages (from numba>=0.35->combo) (6.0.0)\n",
            "Requirement already satisfied: threadpoolctl>=2.0.0 in /usr/local/lib/python3.8/dist-packages (from scikit_learn>=0.20->combo) (3.1.0)\n",
            "Requirement already satisfied: python-dateutil>=2.1 in /usr/local/lib/python3.8/dist-packages (from matplotlib->combo) (2.8.2)\n",
            "Requirement already satisfied: kiwisolver>=1.0.1 in /usr/local/lib/python3.8/dist-packages (from matplotlib->combo) (1.4.4)\n",
            "Requirement already satisfied: cycler>=0.10 in /usr/local/lib/python3.8/dist-packages (from matplotlib->combo) (0.11.0)\n",
            "Requirement already satisfied: pyparsing!=2.0.4,!=2.1.2,!=2.1.6,>=2.0.1 in /usr/local/lib/python3.8/dist-packages (from matplotlib->combo) (3.0.9)\n",
            "Requirement already satisfied: six in /usr/local/lib/python3.8/dist-packages (from pyod->combo) (1.15.0)\n",
            "Requirement already satisfied: statsmodels in /usr/local/lib/python3.8/dist-packages (from pyod->combo) (0.12.2)\n",
            "Requirement already satisfied: zipp>=0.5 in /usr/local/lib/python3.8/dist-packages (from importlib-metadata->numba>=0.35->combo) (3.11.0)\n",
            "Requirement already satisfied: patsy>=0.5 in /usr/local/lib/python3.8/dist-packages (from statsmodels->pyod->combo) (0.5.3)\n",
            "Requirement already satisfied: pandas>=0.21 in /usr/local/lib/python3.8/dist-packages (from statsmodels->pyod->combo) (1.3.5)\n",
            "Requirement already satisfied: pytz>=2017.3 in /usr/local/lib/python3.8/dist-packages (from pandas>=0.21->statsmodels->pyod->combo) (2022.7)\n",
            "Building wheels for collected packages: combo\n",
            "  Building wheel for combo (setup.py) ... \u001b[?25l\u001b[?25hdone\n",
            "  Created wheel for combo: filename=combo-0.1.3-py3-none-any.whl size=42885 sha256=315576c2c481f3b6f98df2f11f3f4ee04cd027a02198be576277e9b587b10dc4\n",
            "  Stored in directory: /root/.cache/pip/wheels/ec/44/39/0667fea44a2dfe692cc2a51f0f79ea49b9dee7def53594ef2e\n",
            "Successfully built combo\n",
            "Installing collected packages: combo\n",
            "Successfully installed combo-0.1.3\n"
          ]
        }
      ]
    },
    {
      "cell_type": "code",
      "source": [
        "def _precision(tp,fp):\n",
        "    pre = tp / float(tp + fp)\n",
        "    return pre \n",
        "\n",
        "def _recall(tp,fn):\n",
        "    rec= tp / float(tp + fn)\n",
        "    return rec \n",
        "\n",
        "def _f1(pre,rec):\n",
        "    '''\n",
        "    F1 = 2 * (precision * recall) / (precision + recall)\n",
        "    '''\n",
        "    f1 = 2 * (pre * rec) / (pre + rec)\n",
        "    return f1\n",
        "\n",
        "def print_results(accuracy, pre, rec, f1,roc):\n",
        "    print(\"Accuracy: {}%\".format(round(accuracy*100,2)))\n",
        "    print(\"Precision: {}%\".format(round(pre*100,2)))\n",
        "    print(\"Recall: {}%\".format(round(rec*100,2)))\n",
        "    print(\"F1 Score: {}%\".format(round(f1*100,2)))\n",
        "    print(\"ROCAUC: {}%\".format(round(roc*100,2)))\n",
        "    \n",
        "def calculate_results_print(y_test, y_pred):\n",
        "    cm = confusion_matrix(y_test, y_pred)\n",
        "    TP = cm[0,0]\n",
        "    TN = cm[1,1]\n",
        "    FP = cm[0,1]\n",
        "    FN = cm[1,0]\n",
        "    accuracy = accuracy_score(y_test, y_pred)\n",
        "    precision = _precision(TP,FP)\n",
        "    recall = _recall(TP,FN)\n",
        "    f1 = _f1(precision,recall)\n",
        "    roc = roc_auc_score(y_test, y_pred)\n",
        "    print_results(accuracy, precision, recall, f1,roc)"
      ],
      "metadata": {
        "id": "l1_JgsBCUyk1"
      },
      "execution_count": null,
      "outputs": []
    },
    {
      "cell_type": "code",
      "source": [
        "from pyod.models.ecod import ECOD\n",
        "from pyod.models.abod import ABOD\n",
        "from pyod.models.lunar import LUNAR\n",
        "from pyod.models.vae import VAE\n",
        "from pyod.models.alad import ALAD\n",
        "from pyod.models.so_gaal import SO_GAAL\n",
        "from pyod.models.knn import KNN\n",
        "#KNN(method='mean',contamination=outliers_fraction)"
      ],
      "metadata": {
        "id": "Z2OOaWM9VxD0"
      },
      "execution_count": null,
      "outputs": []
    },
    {
      "cell_type": "code",
      "source": [
        "pip install hyperopt"
      ],
      "metadata": {
        "colab": {
          "base_uri": "https://localhost:8080/"
        },
        "id": "KK8OD7xmef4X",
        "outputId": "e9ee0bc7-ce4f-4ebd-980e-3611ea9e825c"
      },
      "execution_count": null,
      "outputs": [
        {
          "output_type": "stream",
          "name": "stdout",
          "text": [
            "Looking in indexes: https://pypi.org/simple, https://us-python.pkg.dev/colab-wheels/public/simple/\n",
            "Requirement already satisfied: hyperopt in /usr/local/lib/python3.8/dist-packages (0.1.2)\n",
            "Requirement already satisfied: pymongo in /usr/local/lib/python3.8/dist-packages (from hyperopt) (4.3.3)\n",
            "Requirement already satisfied: future in /usr/local/lib/python3.8/dist-packages (from hyperopt) (0.16.0)\n",
            "Requirement already satisfied: tqdm in /usr/local/lib/python3.8/dist-packages (from hyperopt) (4.64.1)\n",
            "Requirement already satisfied: networkx in /usr/local/lib/python3.8/dist-packages (from hyperopt) (3.0)\n",
            "Requirement already satisfied: numpy in /usr/local/lib/python3.8/dist-packages (from hyperopt) (1.21.6)\n",
            "Requirement already satisfied: scipy in /usr/local/lib/python3.8/dist-packages (from hyperopt) (1.7.3)\n",
            "Requirement already satisfied: six in /usr/local/lib/python3.8/dist-packages (from hyperopt) (1.15.0)\n",
            "Requirement already satisfied: dnspython<3.0.0,>=1.16.0 in /usr/local/lib/python3.8/dist-packages (from pymongo->hyperopt) (2.2.1)\n"
          ]
        }
      ]
    },
    {
      "cell_type": "code",
      "source": [
        "# Model Spaces -> define the parameter area across which to optimize\n",
        "knn_space = {\"contamination\": hp.uniform(\"contamination\",0.1, 0.25),\n",
        "             \"method\" : hp.choice(\"method\",['largest', 'mean', 'median']),\n",
        "             \"algorithm\" : hp.choice(\"algorithm\", ['auto', 'ball_tree', 'kd_tree'])}\n",
        "\n",
        "vae_space = {\"gamma\": hp.uniform(\"gamma\", 0.5, 3),\n",
        "            \"batch_size\" : hp.choice(\"batch_size\", [32,64,128,256,512]),\n",
        "            \"epochs\" : hp.choice(\"epochs\", [10,25,50,100,250]),\n",
        "            \"dropout_rate\" : hp.uniform(\"dropout_rate\", 0.1, 0.7),\n",
        "            \"contamination\": hp.uniform(\"contamination\",0.1, 0.25),\n",
        "            \"l2_regularizer\" :hp.uniform(\"l2_regularizer\", 0.1, 0.7)}\n",
        "\n",
        "so_gaal_space = {\"contamination\": hp.uniform(\"contamination\",0.1, 0.25),\n",
        "                 \"lr_d\": hp.uniform(\"lr_d\", 0.0001,0.01),\n",
        "                 \"lr_g\": hp.uniform(\"lr_g\", 0.00001,0.001),\n",
        "                 \"momentum\": hp.uniform(\"momentum\", 0.1,0.9) }\n",
        "\n",
        "alad_space = {\"batch_size\" : hp.uniform(\"batch_size\", 32, 256),\n",
        "              \"contamination\": hp.uniform(\"contamination\",0.1, 0.25),\n",
        "              \"dropout_rate\" : hp.uniform(\"dropout_rate\", 0.1, 0.7)}\n",
        "\n",
        "ecod_space = {\"contamination\": hp.uniform(\"contamination\",0.1, 0.25)}\n",
        "\n",
        "abod_space = {\"contamination\": hp.uniform(\"contamination\",0.1, 0.25),\n",
        "              \"n_neighbors\":hp.uniform(\"n_neighbors\",10, 50)}\n",
        "\n",
        "lunar_space = {\"model_type\": hp.choice(\"model_type\",['WEIGHT', 'SCORE']),\n",
        "               \"n_neighbors\":hp.uniform(\"n_neighbors\",5, 25),\n",
        "               \"negative_sampling\" : hp.choice(\"negative_sampling\",['UNIFORM', 'SUBSPACE', 'MIXED']),\n",
        "               \"val_size\": hp.uniform(\"val_size\",0.1, 0.25),\n",
        "               \"epsilon\": hp.uniform(\"epsilon\",0.05, 0.2),\n",
        "               \"lr\": hp.uniform(\"lr\",0.0001, 0.01),\n",
        "               \"wd\": hp.uniform(\"wd\",0.05, 0.2) }\n",
        "\n",
        "\n"
      ],
      "metadata": {
        "id": "t3cIEdxhvrjI"
      },
      "execution_count": null,
      "outputs": []
    },
    {
      "cell_type": "code",
      "source": [
        "def objective(space):\n",
        "    # Instantiate the classifier\n",
        "    clf = VAE(epochs = space[\"epochs\"],gamma = space[\"gamma\"],\n",
        "              batch_size = space[\"batch_size\"],\n",
        "              dropout_rate = space[\"dropout_rate\"],\n",
        "              contamination = space[\"contamination\"],\n",
        "              l2_regularizer = space[\"l2_regularizer\"] )\n",
        "    \n",
        "  \n",
        "    \n",
        "    # Fit the classsifier\n",
        "    clf.fit(X_train)\n",
        "    \n",
        "    # Predict on Cross Validation data\n",
        "    pred = clf.predict(X_test)\n",
        "    \n",
        "    # Calculate our Metric - accuracy\n",
        "    #accuracy = accuracy_score(pred, pred>0.5)\n",
        "    accuracy = f1_score(y_test,pred)\n",
        "# return needs to be in this below format. We use negative of accuracy since we want to maximize it.\n",
        "    return {'loss': -accuracy, 'status': STATUS_OK }"
      ],
      "metadata": {
        "id": "qxbAiiQX5G0s"
      },
      "execution_count": null,
      "outputs": []
    },
    {
      "cell_type": "code",
      "source": [
        "from hyperopt import Trials\n",
        "trials = Trials()\n",
        "best = fmin(fn=objective,\n",
        "            space=vae_space,\n",
        "            algo=tpe.suggest,\n",
        "            max_evals=10,\n",
        "            trials=trials)\n",
        "print(best)"
      ],
      "metadata": {
        "id": "Zc-p1L5B5wyy"
      },
      "execution_count": null,
      "outputs": []
    },
    {
      "cell_type": "code",
      "source": [
        "im[p]\n",
        "with open('Names.csv', 'w') as csvfile:\n",
        "    writer = csv.DictWriter(csvfile, fieldnames=field_names)\n",
        "    writer.writeheader()\n",
        "    writer.writerows(cars)"
      ],
      "metadata": {
        "id": "4zmBV0kHmPvq"
      },
      "execution_count": null,
      "outputs": []
    }
  ]
}