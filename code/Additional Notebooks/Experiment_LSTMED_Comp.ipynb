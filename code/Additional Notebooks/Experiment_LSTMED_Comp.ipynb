{
  "nbformat": 4,
  "nbformat_minor": 0,
  "metadata": {
    "colab": {
      "provenance": []
    },
    "kernelspec": {
      "name": "python3",
      "display_name": "Python 3"
    },
    "language_info": {
      "name": "python"
    },
    "accelerator": "GPU",
    "gpuClass": "standard"
  },
  "cells": [
    {
      "cell_type": "markdown",
      "source": [
        "# Experiment - Updated Comparision Models"
      ],
      "metadata": {
        "id": "0Pt_N75IuV00"
      }
    },
    {
      "cell_type": "code",
      "execution_count": null,
      "metadata": {
        "colab": {
          "base_uri": "https://localhost:8080/"
        },
        "id": "w_jUZFWDuU46",
        "outputId": "080e6955-24bf-47a8-e704-1f0da943e4fc"
      },
      "outputs": [
        {
          "output_type": "stream",
          "name": "stdout",
          "text": [
            "Mounted at /content/drive/\n"
          ]
        }
      ],
      "source": [
        "from google.colab import drive\n",
        "drive.mount('/content/drive/')"
      ]
    },
    {
      "cell_type": "code",
      "source": [
        "from preprocess import DataProcessor"
      ],
      "metadata": {
        "id": "LCELgTlDu4RG"
      },
      "execution_count": null,
      "outputs": []
    },
    {
      "cell_type": "code",
      "source": [
        "train_link = \"/content/drive/My Drive/TEPdata/experiment_1/normal_10000.csv\"\n",
        "test_link =  \"/content/drive/My Drive/TEPdata/experiment_2/TEP_multi_attack_offical.csv\"\n",
        "\n",
        "\n",
        "processor = DataProcessor(train_link, test_link, \"Fault\", \"Unnamed: 0\")\n",
        "X_train = processor.X_train\n",
        "y_train = processor.y_train\n",
        "X_test = processor.X_test\n",
        "y_test = processor.y_test\n",
        "scaler = processor.scaler_function"
      ],
      "metadata": {
        "id": "WCcUX10Bujrm"
      },
      "execution_count": null,
      "outputs": []
    },
    {
      "cell_type": "markdown",
      "source": [
        "## Evaluation Functions"
      ],
      "metadata": {
        "id": "H4civokLvGRV"
      }
    },
    {
      "cell_type": "code",
      "source": [
        "from sklearn.metrics import precision_recall_curve\n",
        "from sklearn.metrics import accuracy_score\n",
        "from sklearn.metrics import confusion_matrix\n",
        "from sklearn.metrics import classification_report\n",
        "from sklearn.metrics import roc_curve,roc_auc_score\n",
        "def _precision(tp,fp):\n",
        "    pre = tp / float(tp + fp)\n",
        "    return pre \n",
        "\n",
        "def _recall(tp,fn):\n",
        "    rec= tp / float(tp + fn)\n",
        "    return rec \n",
        "\n",
        "def _f1(pre,rec):\n",
        "    '''\n",
        "    F1 = 2 * (precision * recall) / (precision + recall)\n",
        "    '''\n",
        "    f1 = 2 * (pre * rec) / (pre + rec)\n",
        "    return f1\n",
        "\n",
        "def print_results(accuracy, pre, rec, f1,roc):\n",
        "    print(\"Accuracy: {}%\".format(round(accuracy*100,2)))\n",
        "    print(\"Precision: {}%\".format(round(pre*100,2)))\n",
        "    print(\"Recall: {}%\".format(round(rec*100,2)))\n",
        "    print(\"F1 Score: {}%\".format(round(f1*100,2)))\n",
        "    print(\"ROCAUC: {}%\".format(round(roc*100,2)))\n",
        "    \n",
        "def calculate_results_print(y_test, y_pred):\n",
        "    cm = confusion_matrix(y_test, y_pred)\n",
        "    TP = cm[0,0]\n",
        "    TN = cm[1,1]\n",
        "    FP = cm[0,1]\n",
        "    FN = cm[1,0]\n",
        "    accuracy = accuracy_score(y_test, y_pred)\n",
        "    precision = _precision(TP,FP)\n",
        "    recall = _recall(TP,FN)\n",
        "    f1 = _f1(precision,recall)\n",
        "    roc = roc_auc_score(y_test, y_pred)\n",
        "    print_results(accuracy, precision, recall, f1,roc)\n",
        "\n",
        "def _results(accuracy, pre, rec, f1,roc):\n",
        "    acc = round(accuracy*100,2)\n",
        "    precision = round(pre*100,2)\n",
        "    recall = round(rec*100,2)\n",
        "    f1_score = round(f1*100,2)\n",
        "    roc_auc = round(roc*100,2)\n",
        "    return [acc,precision, recall, f1_score, roc_auc]\n",
        "\n",
        "def calculate_results_return(y_test, y_pred):\n",
        "    cm = confusion_matrix(y_test, y_pred)\n",
        "    TP = cm[0,0]\n",
        "    TN = cm[1,1]\n",
        "    FP = cm[0,1]\n",
        "    FN = cm[1,0]\n",
        "    accuracy = accuracy_score(y_test, y_pred)\n",
        "    precision = _precision(TP,FP)\n",
        "    recall = _recall(TP,FN)\n",
        "    f1 = _f1(precision,recall)\n",
        "    roc = roc_auc_score(y_test, y_pred)\n",
        "    acc,precision, recall, f1_score, roc_auc = _results(accuracy, precision, recall , f1, roc)\n",
        "    return [acc,precision, recall, f1_score, roc_auc]\n",
        "\n",
        "def result_dataframe(result_dict, y_test,fault):\n",
        "        df = pd.DataFrame()\n",
        "        for model in result_dict:\n",
        "            res = calculate_results_return(y_test,  result_dict[model])\n",
        "            df = df.append({\"Fault\": fault,'Model' : model, 'Accuracy': res[0], 'Precision': res[1], 'Recall': res[2], 'F1 Score': res[3], 'ROCAUC': res[4]}, ignore_index=True)\n",
        "        return df \n",
        "\n",
        "def join_df(df_list):\n",
        "    df = pd.concat(df_list, ignore_index=True)\n",
        "    return df\n"
      ],
      "metadata": {
        "id": "gX3MbLiiu41t"
      },
      "execution_count": null,
      "outputs": []
    },
    {
      "cell_type": "markdown",
      "source": [
        "# Proposed Model Pipeline"
      ],
      "metadata": {
        "id": "-qvY17aQw79a"
      }
    },
    {
      "cell_type": "code",
      "source": [
        "from detector import *"
      ],
      "metadata": {
        "id": "JKl9RLlwxAcI"
      },
      "execution_count": null,
      "outputs": []
    },
    {
      "cell_type": "code",
      "source": [
        "model_10k = AnomalyDetector()"
      ],
      "metadata": {
        "id": "Y0vjPVNoxjcS"
      },
      "execution_count": null,
      "outputs": []
    },
    {
      "cell_type": "code",
      "source": [
        "import torch\n",
        "from tqdm import trange\n",
        "import tqdm\n",
        "from torch.autograd import Variable\n",
        "from torch.utils.data import DataLoader\n",
        "from torch.utils.data.sampler import SubsetRandomSampler\n",
        "import logging"
      ],
      "metadata": {
        "id": "pF51hd54x5_X"
      },
      "execution_count": null,
      "outputs": []
    },
    {
      "cell_type": "code",
      "source": [
        "model_10k  = torch.load('/content/b256_e10000_h25.pth')\n"
      ],
      "metadata": {
        "id": "fNQdQY9yxqCB"
      },
      "execution_count": null,
      "outputs": []
    },
    {
      "cell_type": "code",
      "source": [
        "yp, det = model_10k.predict(X_test)\n"
      ],
      "metadata": {
        "colab": {
          "base_uri": "https://localhost:8080/"
        },
        "id": "xTz7JkHHydix",
        "outputId": "62fb77fb-f97d-4852-e950-147e635a20d9"
      },
      "execution_count": null,
      "outputs": [
        {
          "output_type": "stream",
          "name": "stderr",
          "text": [
            "/usr/local/lib/python3.8/dist-packages/torch/nn/_reduction.py:42: UserWarning: size_average and reduce args will be deprecated, please use reduction='none' instead.\n",
            "  warnings.warn(warning.format(ret))\n"
          ]
        }
      ]
    },
    {
      "cell_type": "code",
      "source": [
        "def find_optimal_threshold(y_test, y_pred):\n",
        "        '''\n",
        "        :param y_test: test target variable\n",
        "        :param y_pred: predicted target variable\n",
        "        :return: optimal threshold\n",
        "        '''\n",
        "        # get the false positive rate, true positive rate and thresholds\n",
        "        fpr, tpr, thresholds = roc_curve(y_test, y_pred)\n",
        "        # get the optimal threshold based on the maximum tpr - fpr\n",
        "        optimal_idx = np.argmax(tpr - fpr)\n",
        "        # get the optimal threshold\n",
        "        optimal_threshold = thresholds[optimal_idx]\n",
        "        return optimal_threshold\n",
        "\n",
        "def convert_scores_to_label(array, threshold):\n",
        "    '''\n",
        "    The function converts the scores to labels based on the threshold, if the score is greater than the threshold,\n",
        "    the label is 1, else 0\n",
        "    :param array: array of scores\n",
        "    :param threshold: threshold to use for converting the scores to labels\n",
        "    :return: array of labels\n",
        "    '''\n",
        "    binary = []\n",
        "    for i in array:\n",
        "        if i < threshold:\n",
        "            binary.append(0)\n",
        "        else:\n",
        "            binary.append(1)\n",
        "    return binary\n",
        "\n",
        "#optimal = find_optimal_threshold(y_test, yp)\n",
        "#y_pred = convert_scores_to_label(yp, optimal)\n",
        "\n",
        "#calculate_results_print(y_test, y_pred )"
      ],
      "metadata": {
        "id": "5UrszL4Jym9G"
      },
      "execution_count": null,
      "outputs": []
    },
    {
      "cell_type": "code",
      "source": [
        "y_test.value_counts(normalize=True)"
      ],
      "metadata": {
        "colab": {
          "base_uri": "https://localhost:8080/"
        },
        "id": "McukymRQWoM_",
        "outputId": "165b22ae-f685-4992-cf4a-00d26c44d035"
      },
      "execution_count": null,
      "outputs": [
        {
          "output_type": "execute_result",
          "data": {
            "text/plain": [
              "0    0.926983\n",
              "1    0.073017\n",
              "Name: Fault, dtype: float64"
            ]
          },
          "metadata": {},
          "execution_count": 17
        }
      ]
    },
    {
      "cell_type": "code",
      "source": [
        "print(y_test[\"Fault\"].value_counts()[1] / len(y_test))"
      ],
      "metadata": {
        "colab": {
          "base_uri": "https://localhost:8080/",
          "height": 307
        },
        "id": "KwxzKJybWhFE",
        "outputId": "fbbcf69b-1dee-4a22-8a98-eff769c2c50a"
      },
      "execution_count": null,
      "outputs": [
        {
          "output_type": "error",
          "ename": "KeyError",
          "evalue": "ignored",
          "traceback": [
            "\u001b[0;31m---------------------------------------------------------------------------\u001b[0m",
            "\u001b[0;31mKeyError\u001b[0m                                  Traceback (most recent call last)",
            "\u001b[0;32m<ipython-input-16-b0fe8be89156>\u001b[0m in \u001b[0;36m<module>\u001b[0;34m\u001b[0m\n\u001b[0;32m----> 1\u001b[0;31m \u001b[0mprint\u001b[0m\u001b[0;34m(\u001b[0m\u001b[0my_test\u001b[0m\u001b[0;34m[\u001b[0m\u001b[0;34m\"Fault\"\u001b[0m\u001b[0;34m]\u001b[0m\u001b[0;34m.\u001b[0m\u001b[0mvalue_counts\u001b[0m\u001b[0;34m(\u001b[0m\u001b[0;34m)\u001b[0m\u001b[0;34m[\u001b[0m\u001b[0;36m1\u001b[0m\u001b[0;34m]\u001b[0m \u001b[0;34m/\u001b[0m \u001b[0mlen\u001b[0m\u001b[0;34m(\u001b[0m\u001b[0my_test\u001b[0m\u001b[0;34m)\u001b[0m\u001b[0;34m)\u001b[0m\u001b[0;34m\u001b[0m\u001b[0;34m\u001b[0m\u001b[0m\n\u001b[0m",
            "\u001b[0;32m/usr/local/lib/python3.8/dist-packages/pandas/core/series.py\u001b[0m in \u001b[0;36m__getitem__\u001b[0;34m(self, key)\u001b[0m\n\u001b[1;32m    940\u001b[0m \u001b[0;34m\u001b[0m\u001b[0m\n\u001b[1;32m    941\u001b[0m         \u001b[0;32melif\u001b[0m \u001b[0mkey_is_scalar\u001b[0m\u001b[0;34m:\u001b[0m\u001b[0;34m\u001b[0m\u001b[0;34m\u001b[0m\u001b[0m\n\u001b[0;32m--> 942\u001b[0;31m             \u001b[0;32mreturn\u001b[0m \u001b[0mself\u001b[0m\u001b[0;34m.\u001b[0m\u001b[0m_get_value\u001b[0m\u001b[0;34m(\u001b[0m\u001b[0mkey\u001b[0m\u001b[0;34m)\u001b[0m\u001b[0;34m\u001b[0m\u001b[0;34m\u001b[0m\u001b[0m\n\u001b[0m\u001b[1;32m    943\u001b[0m \u001b[0;34m\u001b[0m\u001b[0m\n\u001b[1;32m    944\u001b[0m         \u001b[0;32mif\u001b[0m \u001b[0mis_hashable\u001b[0m\u001b[0;34m(\u001b[0m\u001b[0mkey\u001b[0m\u001b[0;34m)\u001b[0m\u001b[0;34m:\u001b[0m\u001b[0;34m\u001b[0m\u001b[0;34m\u001b[0m\u001b[0m\n",
            "\u001b[0;32m/usr/local/lib/python3.8/dist-packages/pandas/core/series.py\u001b[0m in \u001b[0;36m_get_value\u001b[0;34m(self, label, takeable)\u001b[0m\n\u001b[1;32m   1049\u001b[0m \u001b[0;34m\u001b[0m\u001b[0m\n\u001b[1;32m   1050\u001b[0m         \u001b[0;31m# Similar to Index.get_value, but we do not fall back to positional\u001b[0m\u001b[0;34m\u001b[0m\u001b[0;34m\u001b[0m\u001b[0;34m\u001b[0m\u001b[0m\n\u001b[0;32m-> 1051\u001b[0;31m         \u001b[0mloc\u001b[0m \u001b[0;34m=\u001b[0m \u001b[0mself\u001b[0m\u001b[0;34m.\u001b[0m\u001b[0mindex\u001b[0m\u001b[0;34m.\u001b[0m\u001b[0mget_loc\u001b[0m\u001b[0;34m(\u001b[0m\u001b[0mlabel\u001b[0m\u001b[0;34m)\u001b[0m\u001b[0;34m\u001b[0m\u001b[0;34m\u001b[0m\u001b[0m\n\u001b[0m\u001b[1;32m   1052\u001b[0m         \u001b[0;32mreturn\u001b[0m \u001b[0mself\u001b[0m\u001b[0;34m.\u001b[0m\u001b[0mindex\u001b[0m\u001b[0;34m.\u001b[0m\u001b[0m_get_values_for_loc\u001b[0m\u001b[0;34m(\u001b[0m\u001b[0mself\u001b[0m\u001b[0;34m,\u001b[0m \u001b[0mloc\u001b[0m\u001b[0;34m,\u001b[0m \u001b[0mlabel\u001b[0m\u001b[0;34m)\u001b[0m\u001b[0;34m\u001b[0m\u001b[0;34m\u001b[0m\u001b[0m\n\u001b[1;32m   1053\u001b[0m \u001b[0;34m\u001b[0m\u001b[0m\n",
            "\u001b[0;32m/usr/local/lib/python3.8/dist-packages/pandas/core/indexes/range.py\u001b[0m in \u001b[0;36mget_loc\u001b[0;34m(self, key, method, tolerance)\u001b[0m\n\u001b[1;32m    386\u001b[0m                 \u001b[0;32mexcept\u001b[0m \u001b[0mValueError\u001b[0m \u001b[0;32mas\u001b[0m \u001b[0merr\u001b[0m\u001b[0;34m:\u001b[0m\u001b[0;34m\u001b[0m\u001b[0;34m\u001b[0m\u001b[0m\n\u001b[1;32m    387\u001b[0m                     \u001b[0;32mraise\u001b[0m \u001b[0mKeyError\u001b[0m\u001b[0;34m(\u001b[0m\u001b[0mkey\u001b[0m\u001b[0;34m)\u001b[0m \u001b[0;32mfrom\u001b[0m \u001b[0merr\u001b[0m\u001b[0;34m\u001b[0m\u001b[0;34m\u001b[0m\u001b[0m\n\u001b[0;32m--> 388\u001b[0;31m             \u001b[0;32mraise\u001b[0m \u001b[0mKeyError\u001b[0m\u001b[0;34m(\u001b[0m\u001b[0mkey\u001b[0m\u001b[0;34m)\u001b[0m\u001b[0;34m\u001b[0m\u001b[0;34m\u001b[0m\u001b[0m\n\u001b[0m\u001b[1;32m    389\u001b[0m         \u001b[0;32mreturn\u001b[0m \u001b[0msuper\u001b[0m\u001b[0;34m(\u001b[0m\u001b[0;34m)\u001b[0m\u001b[0;34m.\u001b[0m\u001b[0mget_loc\u001b[0m\u001b[0;34m(\u001b[0m\u001b[0mkey\u001b[0m\u001b[0;34m,\u001b[0m \u001b[0mmethod\u001b[0m\u001b[0;34m=\u001b[0m\u001b[0mmethod\u001b[0m\u001b[0;34m,\u001b[0m \u001b[0mtolerance\u001b[0m\u001b[0;34m=\u001b[0m\u001b[0mtolerance\u001b[0m\u001b[0;34m)\u001b[0m\u001b[0;34m\u001b[0m\u001b[0;34m\u001b[0m\u001b[0m\n\u001b[1;32m    390\u001b[0m \u001b[0;34m\u001b[0m\u001b[0m\n",
            "\u001b[0;31mKeyError\u001b[0m: 'Fault'"
          ]
        }
      ]
    },
    {
      "cell_type": "code",
      "source": [
        "def fault_name(link):\n",
        "    parts = link.split('/')\n",
        "    filename = parts[-1]  # get the last part of the split string, which is the file name\n",
        "    idv = filename.split('_')[-1].split('.')[0] # get the last part before the '.'\n",
        "    return idv \n",
        "def run_experiment_lstm(link_test,y_test):\n",
        "    fname = fault_name(link_test)\n",
        "    processor = DataProcessor(train_link, link_test, \"Fault\", \"Unnamed: 0\")\n",
        "    X_train = processor.X_train\n",
        "    y_train = processor.y_train\n",
        "    x_test = processor.X_test\n",
        "    y_test = processor.y_test\n",
        "    def test_models(x_test):\n",
        "        yp, det = model_10k.predict(x_test)\n",
        "        optimal = find_optimal_threshold(y_test, yp)\n",
        "        y_pred = convert_scores_to_label(yp, optimal)\n",
        "        results = {}\n",
        "        results[\"Proposed Model\"] = y_pred\n",
        "        return results\n",
        "\n",
        "    \n",
        "\n",
        "    result_dict = test_models(x_test)\n",
        "    predictions = result_dict\n",
        "    predictions[\"y_true\"] = list(y_test)\n",
        "    result = result_dataframe(result_dict, y_test,fname)\n",
        "    return result,  result_dict "
      ],
      "metadata": {
        "id": "HZjru59bmlKi"
      },
      "execution_count": null,
      "outputs": []
    },
    {
      "cell_type": "code",
      "source": [
        "results_lstm_idv1,y_preds_idv1 = run_experiment_lstm(\"/content/drive/My Drive/TEPdata/experiment_1/df_IDV(1).csv\",y_test)\n",
        "results_lstm_idv2,y_preds_idv2 = run_experiment_lstm(\"/content/drive/My Drive/TEPdata/experiment_1/df_IDV(2).csv\",y_test)\n",
        "results_lstm_idv3,y_preds_idv3 = run_experiment_lstm(\"/content/drive/My Drive/TEPdata/experiment_1/df_IDV(3).csv\",y_test)\n",
        "results_lstm_idv4,y_preds_idv4 = run_experiment_lstm(\"/content/drive/My Drive/TEPdata/experiment_1/df_IDV(4).csv\",y_test)\n",
        "results_lstm_idv5,y_preds_idv5 = run_experiment_lstm(\"/content/drive/My Drive/TEPdata/experiment_1/df_IDV(5).csv\",y_test)\n",
        "results_lstm_idv6,y_preds_idv6 = run_experiment_lstm(\"/content/drive/My Drive/TEPdata/experiment_1/df_IDV(6).csv\",y_test)\n",
        "results_lstm_idv7,y_preds_idv7 = run_experiment_lstm(\"/content/drive/My Drive/TEPdata/experiment_1/df_IDV(7).csv\",y_test)\n",
        "results_lstm_idv8,y_preds_idv8 = run_experiment_lstm(\"/content/drive/My Drive/TEPdata/experiment_1/df_IDV(8).csv\",y_test)\n",
        "results_lstm_idv9,y_preds_idv9 = run_experiment_lstm(\"/content/drive/My Drive/TEPdata/experiment_1/df_IDV(9).csv\",y_test)\n",
        "results_lstm_idv10,y_preds_idv10 = run_experiment_lstm(\"/content/drive/My Drive/TEPdata/experiment_1/df_IDV(10).csv\",y_test)\n",
        "results_lstm_idv11,y_preds_idv11 = run_experiment_lstm(\"/content/drive/My Drive/TEPdata/experiment_1/df_IDV(11).csv\",y_test)\n",
        "results_lstm_idv12,y_preds_idv12 = run_experiment_lstm(\"/content/drive/My Drive/TEPdata/experiment_1/df_IDV(12).csv\",y_test)\n",
        "results_lstm_idv13,y_preds_idv13 = run_experiment_lstm(\"/content/drive/My Drive/TEPdata/experiment_1/df_IDV(13).csv\",y_test)\n",
        "results_lstm_idv14,y_preds_idv14 = run_experiment_lstm(\"/content/drive/My Drive/TEPdata/experiment_1/df_IDV(14).csv\",y_test)\n",
        "results_lstm_idv15,y_preds_idv15 = run_experiment_lstm(\"/content/drive/My Drive/TEPdata/experiment_1/df_IDV(15).csv\",y_test)\n",
        "results_lstm_idv16,y_preds_idv16 = run_experiment_lstm(\"/content/drive/My Drive/TEPdata/experiment_1/df_IDV(16).csv\",y_test)\n",
        "results_lstm_idv17,y_preds_idv17 = run_experiment_lstm(\"/content/drive/My Drive/TEPdata/experiment_1/df_IDV(17).csv\",y_test)\n",
        "results_lstm_idv18,y_preds_idv18 = run_experiment_lstm(\"/content/drive/My Drive/TEPdata/experiment_1/df_IDV(18).csv\",y_test)\n",
        "results_lstm_idv19,y_preds_idv19 = run_experiment_lstm(\"/content/drive/My Drive/TEPdata/experiment_1/df_IDV(19).csv\",y_test)\n",
        "results_lstm_idv20,y_preds_idv20 = run_experiment_lstm(\"/content/drive/My Drive/TEPdata/experiment_1/df_IDV(20).csv\",y_test)"
      ],
      "metadata": {
        "colab": {
          "base_uri": "https://localhost:8080/"
        },
        "id": "tIUG9wRn2TKl",
        "outputId": "ed3b39b2-8291-4a16-d734-7eb205bf30b9"
      },
      "execution_count": null,
      "outputs": [
        {
          "output_type": "stream",
          "name": "stderr",
          "text": [
            "/usr/local/lib/python3.8/dist-packages/torch/nn/_reduction.py:42: UserWarning: size_average and reduce args will be deprecated, please use reduction='none' instead.\n",
            "  warnings.warn(warning.format(ret))\n",
            "/usr/local/lib/python3.8/dist-packages/torch/nn/_reduction.py:42: UserWarning: size_average and reduce args will be deprecated, please use reduction='none' instead.\n",
            "  warnings.warn(warning.format(ret))\n",
            "/usr/local/lib/python3.8/dist-packages/torch/nn/_reduction.py:42: UserWarning: size_average and reduce args will be deprecated, please use reduction='none' instead.\n",
            "  warnings.warn(warning.format(ret))\n",
            "/usr/local/lib/python3.8/dist-packages/torch/nn/_reduction.py:42: UserWarning: size_average and reduce args will be deprecated, please use reduction='none' instead.\n",
            "  warnings.warn(warning.format(ret))\n",
            "/usr/local/lib/python3.8/dist-packages/torch/nn/_reduction.py:42: UserWarning: size_average and reduce args will be deprecated, please use reduction='none' instead.\n",
            "  warnings.warn(warning.format(ret))\n",
            "/usr/local/lib/python3.8/dist-packages/torch/nn/_reduction.py:42: UserWarning: size_average and reduce args will be deprecated, please use reduction='none' instead.\n",
            "  warnings.warn(warning.format(ret))\n",
            "/usr/local/lib/python3.8/dist-packages/torch/nn/_reduction.py:42: UserWarning: size_average and reduce args will be deprecated, please use reduction='none' instead.\n",
            "  warnings.warn(warning.format(ret))\n",
            "/usr/local/lib/python3.8/dist-packages/torch/nn/_reduction.py:42: UserWarning: size_average and reduce args will be deprecated, please use reduction='none' instead.\n",
            "  warnings.warn(warning.format(ret))\n",
            "/usr/local/lib/python3.8/dist-packages/torch/nn/_reduction.py:42: UserWarning: size_average and reduce args will be deprecated, please use reduction='none' instead.\n",
            "  warnings.warn(warning.format(ret))\n",
            "/usr/local/lib/python3.8/dist-packages/torch/nn/_reduction.py:42: UserWarning: size_average and reduce args will be deprecated, please use reduction='none' instead.\n",
            "  warnings.warn(warning.format(ret))\n",
            "/usr/local/lib/python3.8/dist-packages/torch/nn/_reduction.py:42: UserWarning: size_average and reduce args will be deprecated, please use reduction='none' instead.\n",
            "  warnings.warn(warning.format(ret))\n",
            "/usr/local/lib/python3.8/dist-packages/torch/nn/_reduction.py:42: UserWarning: size_average and reduce args will be deprecated, please use reduction='none' instead.\n",
            "  warnings.warn(warning.format(ret))\n",
            "/usr/local/lib/python3.8/dist-packages/torch/nn/_reduction.py:42: UserWarning: size_average and reduce args will be deprecated, please use reduction='none' instead.\n",
            "  warnings.warn(warning.format(ret))\n",
            "/usr/local/lib/python3.8/dist-packages/torch/nn/_reduction.py:42: UserWarning: size_average and reduce args will be deprecated, please use reduction='none' instead.\n",
            "  warnings.warn(warning.format(ret))\n",
            "/usr/local/lib/python3.8/dist-packages/torch/nn/_reduction.py:42: UserWarning: size_average and reduce args will be deprecated, please use reduction='none' instead.\n",
            "  warnings.warn(warning.format(ret))\n",
            "/usr/local/lib/python3.8/dist-packages/torch/nn/_reduction.py:42: UserWarning: size_average and reduce args will be deprecated, please use reduction='none' instead.\n",
            "  warnings.warn(warning.format(ret))\n",
            "/usr/local/lib/python3.8/dist-packages/torch/nn/_reduction.py:42: UserWarning: size_average and reduce args will be deprecated, please use reduction='none' instead.\n",
            "  warnings.warn(warning.format(ret))\n",
            "/usr/local/lib/python3.8/dist-packages/torch/nn/_reduction.py:42: UserWarning: size_average and reduce args will be deprecated, please use reduction='none' instead.\n",
            "  warnings.warn(warning.format(ret))\n",
            "/usr/local/lib/python3.8/dist-packages/torch/nn/_reduction.py:42: UserWarning: size_average and reduce args will be deprecated, please use reduction='none' instead.\n",
            "  warnings.warn(warning.format(ret))\n",
            "/usr/local/lib/python3.8/dist-packages/torch/nn/_reduction.py:42: UserWarning: size_average and reduce args will be deprecated, please use reduction='none' instead.\n",
            "  warnings.warn(warning.format(ret))\n"
          ]
        }
      ]
    },
    {
      "cell_type": "code",
      "source": [
        "results_all_lstm = join_df([results_lstm_idv1, results_lstm_idv2, results_lstm_idv3, results_lstm_idv4, results_lstm_idv5,\n",
        "                            results_lstm_idv6, results_lstm_idv7, results_lstm_idv8, results_lstm_idv9, results_lstm_idv10,\n",
        "                            results_lstm_idv11, results_lstm_idv12, results_lstm_idv13, results_lstm_idv14, results_lstm_idv15,\n",
        "                            results_lstm_idv16, results_lstm_idv17, results_lstm_idv18, results_lstm_idv19, results_lstm_idv20\n",
        "                            ])\n",
        "\n",
        "\n",
        "results_lstm_15_types = join_df([results_lstm_idv1, results_lstm_idv2, results_lstm_idv4, results_lstm_idv5,\n",
        "                            results_lstm_idv6, results_lstm_idv8, results_lstm_idv10,\n",
        "                            results_lstm_idv11, results_lstm_idv13, results_lstm_idv14,\n",
        "                            results_lstm_idv16, results_lstm_idv17, results_lstm_idv19, results_lstm_idv20\n",
        "                            ])\n"
      ],
      "metadata": {
        "id": "IxW0iYbl2h9Z"
      },
      "execution_count": null,
      "outputs": []
    },
    {
      "cell_type": "code",
      "source": [
        "def convert_dict_to_df(dictionary,y_true, fault):\n",
        "    dictionary[\"y_true\"] = y_true\n",
        "    df=pd.DataFrame.from_dict(dictionary,orient='index').transpose()\n",
        "    df[\"Fault\"] = fault\n",
        "    return df\n",
        "y_preds_idv1 = convert_dict_to_df(y_preds_idv1,y_test, \"IDV(1)\")\n",
        "y_preds_idv2 = convert_dict_to_df(y_preds_idv2,y_test, \"IDV(2)\")\n",
        "y_preds_idv3 = convert_dict_to_df(y_preds_idv3,y_test, \"IDV(3)\")\n",
        "y_preds_idv4 = convert_dict_to_df(y_preds_idv4,y_test, \"IDV(4)\")\n",
        "y_preds_idv5 = convert_dict_to_df(y_preds_idv5,y_test, \"IDV(5)\")\n",
        "y_preds_idv6 = convert_dict_to_df(y_preds_idv6,y_test, \"IDV(6)\")\n",
        "y_preds_idv7 = convert_dict_to_df(y_preds_idv7,y_test, \"IDV(7)\")\n",
        "y_preds_idv8 = convert_dict_to_df(y_preds_idv8,y_test, \"IDV(8)\")\n",
        "y_preds_idv9 = convert_dict_to_df(y_preds_idv9,y_test, \"IDV(9)\")\n",
        "y_preds_idv10 = convert_dict_to_df(y_preds_idv10,y_test, \"IDV(10)\")\n",
        "y_preds_idv11 = convert_dict_to_df(y_preds_idv11,y_test, \"IDV(11)\")\n",
        "y_preds_idv12 = convert_dict_to_df(y_preds_idv12,y_test, \"IDV(12)\")\n",
        "y_preds_idv13 = convert_dict_to_df(y_preds_idv13,y_test, \"IDV(13)\")\n",
        "y_preds_idv14 = convert_dict_to_df(y_preds_idv14,y_test, \"IDV(14)\")\n",
        "y_preds_idv15 = convert_dict_to_df(y_preds_idv15,y_test, \"IDV(15)\")\n",
        "y_preds_idv16 = convert_dict_to_df(y_preds_idv16,y_test, \"IDV(16)\")\n",
        "y_preds_idv17 = convert_dict_to_df(y_preds_idv17,y_test, \"IDV(17)\")\n",
        "y_preds_idv18 = convert_dict_to_df(y_preds_idv18,y_test, \"IDV(18)\")\n",
        "y_preds_idv19 = convert_dict_to_df(y_preds_idv19,y_test, \"IDV(19)\")\n",
        "y_preds_idv20 = convert_dict_to_df(y_preds_idv20,y_test, \"IDV(20)\")"
      ],
      "metadata": {
        "id": "tq037FmdMzWQ"
      },
      "execution_count": null,
      "outputs": []
    },
    {
      "cell_type": "code",
      "source": [
        "results_pred_lstm_all = join_df([y_preds_idv1, y_preds_idv2, y_preds_idv3, y_preds_idv4, y_preds_idv5,\n",
        "                                 y_preds_idv6, y_preds_idv7, y_preds_idv8, y_preds_idv9, y_preds_idv10,\n",
        "                                 y_preds_idv11, y_preds_idv12, y_preds_idv13, y_preds_idv14, y_preds_idv15,\n",
        "                                 y_preds_idv16, y_preds_idv17, y_preds_idv18, y_preds_idv19, y_preds_idv20])\n",
        "\n",
        "results_pred_lstm_15 = join_df([y_preds_idv1, y_preds_idv2, y_preds_idv4, y_preds_idv5,\n",
        "                                 y_preds_idv6, y_preds_idv8, y_preds_idv10,\n",
        "                                 y_preds_idv11, y_preds_idv13, y_preds_idv14,\n",
        "                                 y_preds_idv16, y_preds_idv17, y_preds_idv19, y_preds_idv20])"
      ],
      "metadata": {
        "id": "FzwLJ4nRMi2M"
      },
      "execution_count": null,
      "outputs": []
    },
    {
      "cell_type": "code",
      "source": [
        "abc"
      ],
      "metadata": {
        "colab": {
          "base_uri": "https://localhost:8080/",
          "height": 419
        },
        "id": "nQkUqE0uNBL_",
        "outputId": "3f8e711c-6304-43ab-c12d-7463858e4e01"
      },
      "execution_count": null,
      "outputs": [
        {
          "output_type": "execute_result",
          "data": {
            "text/plain": [
              "       Proposed Model  y_true   Fault\n",
              "0                   0       0  IDV(1)\n",
              "1                   0       0  IDV(1)\n",
              "2                   0       0  IDV(1)\n",
              "3                   0       0  IDV(1)\n",
              "4                   0       0  IDV(1)\n",
              "...               ...     ...     ...\n",
              "19995               0       0  IDV(2)\n",
              "19996               0       0  IDV(2)\n",
              "19997               0       0  IDV(2)\n",
              "19998               0       0  IDV(2)\n",
              "19999               0       0  IDV(2)\n",
              "\n",
              "[20000 rows x 3 columns]"
            ],
            "text/html": [
              "\n",
              "  <div id=\"df-d88289e0-df82-484a-b93b-71e1d7aafc60\">\n",
              "    <div class=\"colab-df-container\">\n",
              "      <div>\n",
              "<style scoped>\n",
              "    .dataframe tbody tr th:only-of-type {\n",
              "        vertical-align: middle;\n",
              "    }\n",
              "\n",
              "    .dataframe tbody tr th {\n",
              "        vertical-align: top;\n",
              "    }\n",
              "\n",
              "    .dataframe thead th {\n",
              "        text-align: right;\n",
              "    }\n",
              "</style>\n",
              "<table border=\"1\" class=\"dataframe\">\n",
              "  <thead>\n",
              "    <tr style=\"text-align: right;\">\n",
              "      <th></th>\n",
              "      <th>Proposed Model</th>\n",
              "      <th>y_true</th>\n",
              "      <th>Fault</th>\n",
              "    </tr>\n",
              "  </thead>\n",
              "  <tbody>\n",
              "    <tr>\n",
              "      <th>0</th>\n",
              "      <td>0</td>\n",
              "      <td>0</td>\n",
              "      <td>IDV(1)</td>\n",
              "    </tr>\n",
              "    <tr>\n",
              "      <th>1</th>\n",
              "      <td>0</td>\n",
              "      <td>0</td>\n",
              "      <td>IDV(1)</td>\n",
              "    </tr>\n",
              "    <tr>\n",
              "      <th>2</th>\n",
              "      <td>0</td>\n",
              "      <td>0</td>\n",
              "      <td>IDV(1)</td>\n",
              "    </tr>\n",
              "    <tr>\n",
              "      <th>3</th>\n",
              "      <td>0</td>\n",
              "      <td>0</td>\n",
              "      <td>IDV(1)</td>\n",
              "    </tr>\n",
              "    <tr>\n",
              "      <th>4</th>\n",
              "      <td>0</td>\n",
              "      <td>0</td>\n",
              "      <td>IDV(1)</td>\n",
              "    </tr>\n",
              "    <tr>\n",
              "      <th>...</th>\n",
              "      <td>...</td>\n",
              "      <td>...</td>\n",
              "      <td>...</td>\n",
              "    </tr>\n",
              "    <tr>\n",
              "      <th>19995</th>\n",
              "      <td>0</td>\n",
              "      <td>0</td>\n",
              "      <td>IDV(2)</td>\n",
              "    </tr>\n",
              "    <tr>\n",
              "      <th>19996</th>\n",
              "      <td>0</td>\n",
              "      <td>0</td>\n",
              "      <td>IDV(2)</td>\n",
              "    </tr>\n",
              "    <tr>\n",
              "      <th>19997</th>\n",
              "      <td>0</td>\n",
              "      <td>0</td>\n",
              "      <td>IDV(2)</td>\n",
              "    </tr>\n",
              "    <tr>\n",
              "      <th>19998</th>\n",
              "      <td>0</td>\n",
              "      <td>0</td>\n",
              "      <td>IDV(2)</td>\n",
              "    </tr>\n",
              "    <tr>\n",
              "      <th>19999</th>\n",
              "      <td>0</td>\n",
              "      <td>0</td>\n",
              "      <td>IDV(2)</td>\n",
              "    </tr>\n",
              "  </tbody>\n",
              "</table>\n",
              "<p>20000 rows × 3 columns</p>\n",
              "</div>\n",
              "      <button class=\"colab-df-convert\" onclick=\"convertToInteractive('df-d88289e0-df82-484a-b93b-71e1d7aafc60')\"\n",
              "              title=\"Convert this dataframe to an interactive table.\"\n",
              "              style=\"display:none;\">\n",
              "        \n",
              "  <svg xmlns=\"http://www.w3.org/2000/svg\" height=\"24px\"viewBox=\"0 0 24 24\"\n",
              "       width=\"24px\">\n",
              "    <path d=\"M0 0h24v24H0V0z\" fill=\"none\"/>\n",
              "    <path d=\"M18.56 5.44l.94 2.06.94-2.06 2.06-.94-2.06-.94-.94-2.06-.94 2.06-2.06.94zm-11 1L8.5 8.5l.94-2.06 2.06-.94-2.06-.94L8.5 2.5l-.94 2.06-2.06.94zm10 10l.94 2.06.94-2.06 2.06-.94-2.06-.94-.94-2.06-.94 2.06-2.06.94z\"/><path d=\"M17.41 7.96l-1.37-1.37c-.4-.4-.92-.59-1.43-.59-.52 0-1.04.2-1.43.59L10.3 9.45l-7.72 7.72c-.78.78-.78 2.05 0 2.83L4 21.41c.39.39.9.59 1.41.59.51 0 1.02-.2 1.41-.59l7.78-7.78 2.81-2.81c.8-.78.8-2.07 0-2.86zM5.41 20L4 18.59l7.72-7.72 1.47 1.35L5.41 20z\"/>\n",
              "  </svg>\n",
              "      </button>\n",
              "      \n",
              "  <style>\n",
              "    .colab-df-container {\n",
              "      display:flex;\n",
              "      flex-wrap:wrap;\n",
              "      gap: 12px;\n",
              "    }\n",
              "\n",
              "    .colab-df-convert {\n",
              "      background-color: #E8F0FE;\n",
              "      border: none;\n",
              "      border-radius: 50%;\n",
              "      cursor: pointer;\n",
              "      display: none;\n",
              "      fill: #1967D2;\n",
              "      height: 32px;\n",
              "      padding: 0 0 0 0;\n",
              "      width: 32px;\n",
              "    }\n",
              "\n",
              "    .colab-df-convert:hover {\n",
              "      background-color: #E2EBFA;\n",
              "      box-shadow: 0px 1px 2px rgba(60, 64, 67, 0.3), 0px 1px 3px 1px rgba(60, 64, 67, 0.15);\n",
              "      fill: #174EA6;\n",
              "    }\n",
              "\n",
              "    [theme=dark] .colab-df-convert {\n",
              "      background-color: #3B4455;\n",
              "      fill: #D2E3FC;\n",
              "    }\n",
              "\n",
              "    [theme=dark] .colab-df-convert:hover {\n",
              "      background-color: #434B5C;\n",
              "      box-shadow: 0px 1px 3px 1px rgba(0, 0, 0, 0.15);\n",
              "      filter: drop-shadow(0px 1px 2px rgba(0, 0, 0, 0.3));\n",
              "      fill: #FFFFFF;\n",
              "    }\n",
              "  </style>\n",
              "\n",
              "      <script>\n",
              "        const buttonEl =\n",
              "          document.querySelector('#df-d88289e0-df82-484a-b93b-71e1d7aafc60 button.colab-df-convert');\n",
              "        buttonEl.style.display =\n",
              "          google.colab.kernel.accessAllowed ? 'block' : 'none';\n",
              "\n",
              "        async function convertToInteractive(key) {\n",
              "          const element = document.querySelector('#df-d88289e0-df82-484a-b93b-71e1d7aafc60');\n",
              "          const dataTable =\n",
              "            await google.colab.kernel.invokeFunction('convertToInteractive',\n",
              "                                                     [key], {});\n",
              "          if (!dataTable) return;\n",
              "\n",
              "          const docLinkHtml = 'Like what you see? Visit the ' +\n",
              "            '<a target=\"_blank\" href=https://colab.research.google.com/notebooks/data_table.ipynb>data table notebook</a>'\n",
              "            + ' to learn more about interactive tables.';\n",
              "          element.innerHTML = '';\n",
              "          dataTable['output_type'] = 'display_data';\n",
              "          await google.colab.output.renderOutput(dataTable, element);\n",
              "          const docLink = document.createElement('div');\n",
              "          docLink.innerHTML = docLinkHtml;\n",
              "          element.appendChild(docLink);\n",
              "        }\n",
              "      </script>\n",
              "    </div>\n",
              "  </div>\n",
              "  "
            ]
          },
          "metadata": {},
          "execution_count": 43
        }
      ]
    },
    {
      "cell_type": "code",
      "source": [
        "def result_table(df):\n",
        "    res = df.groupby(['Model'])\n",
        "    return res.mean() \n",
        "    \n",
        "res = result_table(results_lstm_15_types)\n",
        "res"
      ],
      "metadata": {
        "colab": {
          "base_uri": "https://localhost:8080/",
          "height": 111
        },
        "id": "CSml25VG4EIV",
        "outputId": "1da46033-b5ff-4837-e447-09083c8b069c"
      },
      "execution_count": null,
      "outputs": [
        {
          "output_type": "execute_result",
          "data": {
            "text/plain": [
              "                 Accuracy  Precision     Recall   F1 Score     ROCAUC\n",
              "Model                                                                \n",
              "Proposed Model  91.589286  92.225714  98.168571  95.034286  89.473571"
            ],
            "text/html": [
              "\n",
              "  <div id=\"df-f914ccb1-8264-4fbd-9808-ed6045798577\">\n",
              "    <div class=\"colab-df-container\">\n",
              "      <div>\n",
              "<style scoped>\n",
              "    .dataframe tbody tr th:only-of-type {\n",
              "        vertical-align: middle;\n",
              "    }\n",
              "\n",
              "    .dataframe tbody tr th {\n",
              "        vertical-align: top;\n",
              "    }\n",
              "\n",
              "    .dataframe thead th {\n",
              "        text-align: right;\n",
              "    }\n",
              "</style>\n",
              "<table border=\"1\" class=\"dataframe\">\n",
              "  <thead>\n",
              "    <tr style=\"text-align: right;\">\n",
              "      <th></th>\n",
              "      <th>Accuracy</th>\n",
              "      <th>Precision</th>\n",
              "      <th>Recall</th>\n",
              "      <th>F1 Score</th>\n",
              "      <th>ROCAUC</th>\n",
              "    </tr>\n",
              "    <tr>\n",
              "      <th>Model</th>\n",
              "      <th></th>\n",
              "      <th></th>\n",
              "      <th></th>\n",
              "      <th></th>\n",
              "      <th></th>\n",
              "    </tr>\n",
              "  </thead>\n",
              "  <tbody>\n",
              "    <tr>\n",
              "      <th>Proposed Model</th>\n",
              "      <td>91.589286</td>\n",
              "      <td>92.225714</td>\n",
              "      <td>98.168571</td>\n",
              "      <td>95.034286</td>\n",
              "      <td>89.473571</td>\n",
              "    </tr>\n",
              "  </tbody>\n",
              "</table>\n",
              "</div>\n",
              "      <button class=\"colab-df-convert\" onclick=\"convertToInteractive('df-f914ccb1-8264-4fbd-9808-ed6045798577')\"\n",
              "              title=\"Convert this dataframe to an interactive table.\"\n",
              "              style=\"display:none;\">\n",
              "        \n",
              "  <svg xmlns=\"http://www.w3.org/2000/svg\" height=\"24px\"viewBox=\"0 0 24 24\"\n",
              "       width=\"24px\">\n",
              "    <path d=\"M0 0h24v24H0V0z\" fill=\"none\"/>\n",
              "    <path d=\"M18.56 5.44l.94 2.06.94-2.06 2.06-.94-2.06-.94-.94-2.06-.94 2.06-2.06.94zm-11 1L8.5 8.5l.94-2.06 2.06-.94-2.06-.94L8.5 2.5l-.94 2.06-2.06.94zm10 10l.94 2.06.94-2.06 2.06-.94-2.06-.94-.94-2.06-.94 2.06-2.06.94z\"/><path d=\"M17.41 7.96l-1.37-1.37c-.4-.4-.92-.59-1.43-.59-.52 0-1.04.2-1.43.59L10.3 9.45l-7.72 7.72c-.78.78-.78 2.05 0 2.83L4 21.41c.39.39.9.59 1.41.59.51 0 1.02-.2 1.41-.59l7.78-7.78 2.81-2.81c.8-.78.8-2.07 0-2.86zM5.41 20L4 18.59l7.72-7.72 1.47 1.35L5.41 20z\"/>\n",
              "  </svg>\n",
              "      </button>\n",
              "      \n",
              "  <style>\n",
              "    .colab-df-container {\n",
              "      display:flex;\n",
              "      flex-wrap:wrap;\n",
              "      gap: 12px;\n",
              "    }\n",
              "\n",
              "    .colab-df-convert {\n",
              "      background-color: #E8F0FE;\n",
              "      border: none;\n",
              "      border-radius: 50%;\n",
              "      cursor: pointer;\n",
              "      display: none;\n",
              "      fill: #1967D2;\n",
              "      height: 32px;\n",
              "      padding: 0 0 0 0;\n",
              "      width: 32px;\n",
              "    }\n",
              "\n",
              "    .colab-df-convert:hover {\n",
              "      background-color: #E2EBFA;\n",
              "      box-shadow: 0px 1px 2px rgba(60, 64, 67, 0.3), 0px 1px 3px 1px rgba(60, 64, 67, 0.15);\n",
              "      fill: #174EA6;\n",
              "    }\n",
              "\n",
              "    [theme=dark] .colab-df-convert {\n",
              "      background-color: #3B4455;\n",
              "      fill: #D2E3FC;\n",
              "    }\n",
              "\n",
              "    [theme=dark] .colab-df-convert:hover {\n",
              "      background-color: #434B5C;\n",
              "      box-shadow: 0px 1px 3px 1px rgba(0, 0, 0, 0.15);\n",
              "      filter: drop-shadow(0px 1px 2px rgba(0, 0, 0, 0.3));\n",
              "      fill: #FFFFFF;\n",
              "    }\n",
              "  </style>\n",
              "\n",
              "      <script>\n",
              "        const buttonEl =\n",
              "          document.querySelector('#df-f914ccb1-8264-4fbd-9808-ed6045798577 button.colab-df-convert');\n",
              "        buttonEl.style.display =\n",
              "          google.colab.kernel.accessAllowed ? 'block' : 'none';\n",
              "\n",
              "        async function convertToInteractive(key) {\n",
              "          const element = document.querySelector('#df-f914ccb1-8264-4fbd-9808-ed6045798577');\n",
              "          const dataTable =\n",
              "            await google.colab.kernel.invokeFunction('convertToInteractive',\n",
              "                                                     [key], {});\n",
              "          if (!dataTable) return;\n",
              "\n",
              "          const docLinkHtml = 'Like what you see? Visit the ' +\n",
              "            '<a target=\"_blank\" href=https://colab.research.google.com/notebooks/data_table.ipynb>data table notebook</a>'\n",
              "            + ' to learn more about interactive tables.';\n",
              "          element.innerHTML = '';\n",
              "          dataTable['output_type'] = 'display_data';\n",
              "          await google.colab.output.renderOutput(dataTable, element);\n",
              "          const docLink = document.createElement('div');\n",
              "          docLink.innerHTML = docLinkHtml;\n",
              "          element.appendChild(docLink);\n",
              "        }\n",
              "      </script>\n",
              "    </div>\n",
              "  </div>\n",
              "  "
            ]
          },
          "metadata": {},
          "execution_count": 30
        }
      ]
    },
    {
      "cell_type": "code",
      "source": [
        "results_lstm_15_types.to_csv(\"experiment_results_lstm_15_types.csv\")\n",
        "results_all_lstm.to_csv(\"experiment_results_all_lstm.csv\")"
      ],
      "metadata": {
        "id": "zA0ZETcO4LOD"
      },
      "execution_count": null,
      "outputs": []
    },
    {
      "cell_type": "code",
      "source": [
        "results_pred_lstm_15.to_csv(\"experiment_results_lstm_15_pred.csv\")"
      ],
      "metadata": {
        "id": "jONu3DAJUhYq"
      },
      "execution_count": null,
      "outputs": []
    },
    {
      "cell_type": "code",
      "source": [
        "import seaborn as sns\n",
        "import matplotlib.pyplot as plt\n",
        "import pandas as pd\n",
        "import numpy as np\n",
        "def make_confusion_matrix(y_true, y_prediction, normalise = False, c_map = \"viridis\"):\n",
        "    sns.set(font_scale=1.2)\n",
        "    plt.figure(figsize=(8, 6))\n",
        "    ax = plt.axes()\n",
        "    ax.set_title('Proposed Model')\n",
        "    cm = confusion_matrix(y_true, y_prediction)\n",
        "    format = \"d\"\n",
        "    if normalise== True:\n",
        "        cm = cm.astype('float') / cm.sum(axis=1)[:, np.newaxis]\n",
        "        format = '.4f'\n",
        "    cm_matrix = pd.DataFrame(data=cm, columns=['Normal', 'Attack'], \n",
        "                                index=['Normal', 'Attack'])\n",
        "\n",
        "    sns.heatmap(cm_matrix, annot=True, fmt=format, cmap=c_map,linewidths=1, linecolor='black',clip_on=False)\n",
        "    plt.savefig(\"cm_proposed.png\", transparent = False)\n",
        "    plt.show()\n",
        "\n",
        "#make_confusion_matrix(results_pred_lstm_15[\"y_true\"],results_pred_lstm_15[\"Proposed Model\"] , True, c_map = \"Blues\")"
      ],
      "metadata": {
        "id": "oWbCP1n35Dnn"
      },
      "execution_count": null,
      "outputs": []
    },
    {
      "cell_type": "code",
      "source": [
        "\n",
        "calculate_results_print(results_pred_lstm_15[\"y_true\"],results_pred_lstm_15[\"Proposed Model\"] )"
      ],
      "metadata": {
        "colab": {
          "base_uri": "https://localhost:8080/"
        },
        "id": "A9bfUBf4LnfN",
        "outputId": "f1ef5798-8537-44a4-cd19-72aee64fb271"
      },
      "execution_count": null,
      "outputs": [
        {
          "output_type": "stream",
          "name": "stdout",
          "text": [
            "Accuracy: 90.5%\n",
            "Precision: 91.45%\n",
            "Recall: 97.66%\n",
            "F1 Score: 94.45%\n",
            "ROCAUC: 87.34%\n"
          ]
        }
      ]
    },
    {
      "cell_type": "code",
      "source": [
        "def get_attacks(y_test, outlier=1, normal=0, breaks=[]):\n",
        "    '''\n",
        "    Get indices of anomalies\n",
        "    :param y_test: predictions from semi supervised model\n",
        "    :param outlier: label for anomalies\n",
        "    :param normal: label for normal data points\n",
        "    :param breaks: indices of breaks in data\n",
        "    :return: \n",
        "    '''\n",
        "    events = dict()\n",
        "    label_prev = normal\n",
        "    event = 0  # corresponds to no event\n",
        "    event_start = 0\n",
        "    for tim, label in enumerate(y_test):\n",
        "        if label == outlier:\n",
        "            if label_prev == normal:\n",
        "                event += 1\n",
        "                event_start = tim\n",
        "            elif tim in breaks:\n",
        "                # A break point was hit, end current event and start new one\n",
        "                event_end = tim - 1\n",
        "                events[event] = (event_start, event_end)\n",
        "                event += 1\n",
        "                event_start = tim\n",
        "\n",
        "        else:\n",
        "            # event_by_time_true[tim] = 0\n",
        "            if label_prev == outlier:\n",
        "                event_end = tim - 1\n",
        "                events[event] = (event_start, event_end)\n",
        "        label_prev = label\n",
        "\n",
        "    if label_prev == outlier:\n",
        "        event_end = tim - 1\n",
        "        events[event] = (event_start, event_end)\n",
        "    return events\n",
        "\n",
        "#dict_attacks = get_attacks(y_test, outlier=1, normal=0, breaks=[])\n",
        "#dict_attacks1 = get_attacks(y_predictions, outlier=1, normal=0, breaks=[])\n",
        "\n",
        "def get_attack_idx_list(dictionary):\n",
        "    '''\n",
        "    Get list of indices of anomalies\n",
        "    :param dictionary: dictionary of anomalies\n",
        "    :return: Dictionary of anomalies, value is changed from (start, end) to list of indices\n",
        "    '''\n",
        "    for key, value in dictionary.items():\n",
        "        if isinstance(value, tuple):\n",
        "            dictionary[key] = list(range(value[0], value[1] + 1))\n",
        "    return dictionary\n",
        "\n",
        "dict_attacks = get_attacks(y_test, outlier=1, normal=0, breaks=[])\n",
        "dict_attacks1 = get_attacks(y_pred, outlier=1, normal=0, breaks=[])\n",
        "attacks = get_attack_idx_list(dict_attacks)\n",
        "attacks1 = get_attack_idx_list(dict_attacks1)"
      ],
      "metadata": {
        "id": "ZH0sOVOJIBr9"
      },
      "execution_count": null,
      "outputs": []
    },
    {
      "cell_type": "code",
      "source": [
        "import matplotlib.pyplot as plt\n",
        "def plot_anomalies(df, column, anomalies,scaler = None):\n",
        "    '''\n",
        "    Plot anomalies\n",
        "    :param df: dataframe to plot\n",
        "    :param column: column to plot\n",
        "    :param anomalies: dictionary of anomalies -> pass through dictionary - list pipeline to get dictionary with indx of anomalies\n",
        "    :param reverse_scaler: object used to scale the data -> reverses to original scale in plot of passed\n",
        "    '''\n",
        "    if scaler is not None:\n",
        "      df = pd.DataFrame(scaler.inverse_transform(df), columns=df.columns)\n",
        "    title = \"Plot of {} Predicted Anomalies\".format(column)\n",
        "    fig, ax = plt.subplots(figsize=(12, 6))\n",
        "    ax.plot(df[column])\n",
        "    ax.set_title(title)\n",
        "    for key, value in anomalies.items():\n",
        "        ax.plot(value, df[column][value], 'ro', markersize=4)\n",
        "    ax.set_label('Inline label')\n",
        "    plt.show()\n",
        "plot_anomalies(X_test,\"XMV(10)\",attacks1, scaler)"
      ],
      "metadata": {
        "id": "Kc7i2s7YL0MK",
        "colab": {
          "base_uri": "https://localhost:8080/",
          "height": 407
        },
        "outputId": "f0510b7b-e10c-46b0-c9f3-b294139e8257"
      },
      "execution_count": null,
      "outputs": [
        {
          "output_type": "stream",
          "name": "stderr",
          "text": [
            "WARNING:matplotlib.legend:No handles with labels found to put in legend.\n"
          ]
        },
        {
          "output_type": "display_data",
          "data": {
            "text/plain": [
              "<Figure size 864x432 with 1 Axes>"
            ],
            "image/png": "[encoded data removed]"
          },
          "metadata": {
            "needs_background": "light"
          }
        }
      ]
    },
    {
      "cell_type": "code",
      "source": [
        "train_link = \"/content/drive/My Drive/TEPdata/experiment_1/normal_10000.csv\"\n",
        "test_link =  \"/content/drive/My Drive/TEPdata/experiment_2/TEP_multi_attack_offical.csv\"\n",
        "\n",
        "model_10k  = torch.load('/content/b256_e10000_h25.pth')\n",
        "\n",
        "processor = DataProcessor(train_link, test_link, \"Fault\", \"Unnamed: 0\")\n",
        "X_train = processor.X_train\n",
        "y_train = processor.y_train\n",
        "X_test = processor.X_test\n",
        "y_test = processor.y_test\n",
        "yp, det = model_10k.predict(X_test)\n",
        "optimal = find_optimal_threshold(y_test, yp)\n",
        "y_pred = convert_scores_to_label(yp, optimal)\n"
      ],
      "metadata": {
        "colab": {
          "base_uri": "https://localhost:8080/"
        },
        "id": "6aKj6XGLcacJ",
        "outputId": "f318e2b2-5154-4013-8a94-aa6b85d1acd6"
      },
      "execution_count": null,
      "outputs": [
        {
          "output_type": "stream",
          "name": "stderr",
          "text": [
            "/usr/local/lib/python3.8/dist-packages/torch/nn/_reduction.py:42: UserWarning: size_average and reduce args will be deprecated, please use reduction='none' instead.\n",
            "  warnings.warn(warning.format(ret))\n"
          ]
        }
      ]
    },
    {
      "cell_type": "code",
      "source": [
        "make_confusion_matrix(y_test,y_pred , True, c_map = \"Blues\")"
      ],
      "metadata": {
        "id": "rH1Hut0bcy95",
        "colab": {
          "base_uri": "https://localhost:8080/",
          "height": 397
        },
        "outputId": "e189454c-6500-4507-d1e0-54c2dce2af9c"
      },
      "execution_count": null,
      "outputs": [
        {
          "output_type": "display_data",
          "data": {
            "text/plain": [
              "<Figure size 576x432 with 2 Axes>"
            ],
            "image/png": "[encoded data removed]"
          },
          "metadata": {}
        }
      ]
    },
    {
      "cell_type": "code",
      "source": [],
      "metadata": {
        "id": "KcNiy5EZggwM"
      },
      "execution_count": null,
      "outputs": []
    }
  ]
}