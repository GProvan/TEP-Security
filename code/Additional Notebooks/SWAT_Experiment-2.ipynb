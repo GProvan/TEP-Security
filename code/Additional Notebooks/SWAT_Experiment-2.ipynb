{
  "nbformat": 4,
  "nbformat_minor": 0,
  "metadata": {
    "colab": {
      "provenance": []
    },
    "kernelspec": {
      "name": "python3",
      "display_name": "Python 3"
    },
    "language_info": {
      "name": "python"
    }
  },
  "cells": [
    {
      "cell_type": "code",
      "execution_count": null,
      "metadata": {
        "colab": {
          "base_uri": "https://localhost:8080/"
        },
        "id": "YDmc83eCvFFu",
        "outputId": "7735b0b6-25a6-4445-b8ee-b750d3b82d35"
      },
      "outputs": [
        {
          "output_type": "stream",
          "name": "stdout",
          "text": [
            "Mounted at /content/drive/\n"
          ]
        }
      ],
      "source": [
        "from google.colab import drive\n",
        "drive.mount('/content/drive/')"
      ]
    },
    {
      "cell_type": "code",
      "source": [
        "model = AnomalyDetector()"
      ],
      "metadata": {
        "id": "47Fv3iIzvJkA"
      },
      "execution_count": null,
      "outputs": []
    },
    {
      "cell_type": "code",
      "source": [
        "from preprocess import *"
      ],
      "metadata": {
        "id": "VXeSK5nwvlZP"
      },
      "execution_count": null,
      "outputs": []
    },
    {
      "cell_type": "code",
      "source": [
        "import pandas as pd"
      ],
      "metadata": {
        "id": "ZSGd7ruZvzqy"
      },
      "execution_count": null,
      "outputs": []
    },
    {
      "cell_type": "code",
      "source": [
        "normal =pd.read_csv(\"/content/drive/MyDrive/SWaT Dataset/SWaT_Normal.csv\")\n",
        "attack= pd.read_csv(\"/content/drive/MyDrive/SWaT Dataset/SWaT_Attack.csv\")\n",
        "\n",
        "train_df = normal.copy()\n",
        "#train_df = train_df[:1000]\n",
        "test_df = attack.copy()\n",
        "\n",
        "train_df[\"y\"] = normal[\"Normal/Attack\"].replace(to_replace=[\"Normal\", \"Attack\", \"A ttack\"], value=[0, 1, 1])\n",
        "y_train = train_df[\"y\"]\n",
        "train_df =train_df.drop(columns=[\"Normal/Attack\", \" Timestamp\",\"y\"], axis=1)\n",
        "cols = list(train_df.columns)\n",
        "\n",
        "test_df[\"y\"] = attack[\"Normal/Attack\"].replace(to_replace=[\"Normal\", \"Attack\", \"A ttack\"], value=[0, 1, 1])\n",
        "y_test = test_df[\"y\"]\n",
        "test_df= test_df.drop(columns=[\"Normal/Attack\", \" Timestamp\",\"y\"], axis=1)\n",
        "\n",
        "train_df.dropna(how='all')\n",
        "\n",
        "from sklearn import preprocessing\n",
        "min_max_scaler = preprocessing.StandardScaler()\n",
        "train_df_vals = train_df.values\n",
        "x_scaled = min_max_scaler.fit_transform(train_df_vals)\n",
        "train_df = pd.DataFrame(x_scaled,columns = cols)\n",
        "\n",
        "test_df_vals = test_df.values \n",
        "x_scaled = min_max_scaler.transform(test_df_vals)\n",
        "test_df = pd.DataFrame(x_scaled, columns = cols)\n",
        "\n",
        "\n"
      ],
      "metadata": {
        "id": "X0pXmjAnvOz6"
      },
      "execution_count": null,
      "outputs": []
    },
    {
      "cell_type": "code",
      "source": [
        "train = pd.concat([train_df, y_train], axis=1)\n",
        "test = pd.concat([test_df, y_test], axis=1)"
      ],
      "metadata": {
        "id": "zolUAMD_xI1I"
      },
      "execution_count": null,
      "outputs": []
    },
    {
      "cell_type": "code",
      "source": [
        "train.to_csv(\"/content/SWAT_train_processed.csv\")\n",
        "test.to_csv(\"/content/SWAT_test_processed.csv\")"
      ],
      "metadata": {
        "id": "Ih2EuHHPvkjM"
      },
      "execution_count": null,
      "outputs": []
    },
    {
      "cell_type": "code",
      "source": [
        "y_train "
      ],
      "metadata": {
        "colab": {
          "base_uri": "https://localhost:8080/",
          "height": 483
        },
        "id": "grDAkkk4wfRZ",
        "outputId": "90bf3ed1-9a4b-462f-e150-f0d250150884"
      },
      "execution_count": null,
      "outputs": [
        {
          "output_type": "execute_result",
          "data": {
            "text/plain": [
              "          FIT101    LIT101     MV101      P101  P102    AIT201    AIT202  \\\n",
              "0      -1.633984 -3.807291 -1.574619 -1.728131   0.0 -2.477683 -0.828035   \n",
              "1      -1.633984 -3.806646 -1.574619 -1.728131   0.0 -2.477683 -0.828035   \n",
              "2      -1.633984 -3.806001 -1.574619 -1.728131   0.0 -2.477683 -0.828035   \n",
              "3      -1.633984 -3.804387 -1.574619 -1.728131   0.0 -2.477683 -0.828035   \n",
              "4      -1.633984 -3.805678 -1.574619 -1.728131   0.0 -2.477683 -0.828035   \n",
              "...          ...       ...       ...       ...   ...       ...       ...   \n",
              "494995  0.538489 -0.530054  0.610641  0.578660   0.0 -0.369209  0.091710   \n",
              "494996  0.528309 -0.530699  0.610641  0.578660   0.0 -0.369209  0.091710   \n",
              "494997  0.515865 -0.531345  0.610641  0.578660   0.0 -0.369209  0.091710   \n",
              "494998  0.510209 -0.531022  0.610641  0.578660   0.0 -0.369209  0.091710   \n",
              "494999  0.509078 -0.531668  0.610641  0.578660   0.0 -0.369209  0.091710   \n",
              "\n",
              "          AIT203    FIT201     MV201  ...       P501  P502     PIT501  \\\n",
              "0      -0.719672 -1.731442 -1.684036  ... -17.912190   0.0 -17.843131   \n",
              "1      -0.719672 -1.731442 -1.684036  ... -17.912190   0.0 -17.843131   \n",
              "2      -0.719672 -1.731442 -1.684036  ... -17.912190   0.0 -17.843131   \n",
              "3      -0.719672 -1.731442 -1.684036  ... -17.912190   0.0 -17.843131   \n",
              "4      -0.719672 -1.731442 -1.684036  ... -17.912190   0.0 -17.843131   \n",
              "...          ...       ...       ...  ...        ...   ...        ...   \n",
              "494995 -0.401898  0.574180  0.571882  ...   0.055828   0.0  -0.070842   \n",
              "494996 -0.401898  0.574180  0.571882  ...   0.055828   0.0  -0.070842   \n",
              "494997 -0.399305  0.576599  0.571882  ...   0.055828   0.0  -0.070842   \n",
              "494998 -0.399305  0.577082  0.571882  ...   0.055828   0.0  -0.070842   \n",
              "494999 -0.399305  0.577082  0.571882  ...   0.055828   0.0  -0.067305   \n",
              "\n",
              "          PIT502     PIT503    FIT601  P601      P602  P603  y  \n",
              "0      -5.796500 -17.672513 -0.095148   0.0 -0.089482   0.0  1  \n",
              "1      -5.796500 -17.672513 -0.095148   0.0 -0.089482   0.0  1  \n",
              "2      -5.796500 -17.672513 -0.095148   0.0 -0.089482   0.0  1  \n",
              "3      -5.796500 -17.672513 -0.095148   0.0 -0.089482   0.0  1  \n",
              "4      -5.796500 -17.672513 -0.095148   0.0 -0.089482   0.0  1  \n",
              "...          ...        ...       ...   ...       ...   ... ..  \n",
              "494995  2.886472  -0.101112 -0.096008   0.0 -0.089482   0.0  1  \n",
              "494996  2.886472  -0.134322 -0.096008   0.0 -0.089482   0.0  1  \n",
              "494997  2.886472  -0.134322 -0.096008   0.0 -0.089482   0.0  1  \n",
              "494998  2.260671  -0.134322 -0.096008   0.0 -0.089482   0.0  1  \n",
              "494999  2.260671  -0.125269 -0.096008   0.0 -0.089482   0.0  1  \n",
              "\n",
              "[495000 rows x 52 columns]"
            ],
            "text/html": [
              "\n",
              "  <div id=\"df-61f2d50d-0500-4135-a180-e8ebd7b8ac62\">\n",
              "    <div class=\"colab-df-container\">\n",
              "      <div>\n",
              "<style scoped>\n",
              "    .dataframe tbody tr th:only-of-type {\n",
              "        vertical-align: middle;\n",
              "    }\n",
              "\n",
              "    .dataframe tbody tr th {\n",
              "        vertical-align: top;\n",
              "    }\n",
              "\n",
              "    .dataframe thead th {\n",
              "        text-align: right;\n",
              "    }\n",
              "</style>\n",
              "<table border=\"1\" class=\"dataframe\">\n",
              "  <thead>\n",
              "    <tr style=\"text-align: right;\">\n",
              "      <th></th>\n",
              "      <th>FIT101</th>\n",
              "      <th>LIT101</th>\n",
              "      <th>MV101</th>\n",
              "      <th>P101</th>\n",
              "      <th>P102</th>\n",
              "      <th>AIT201</th>\n",
              "      <th>AIT202</th>\n",
              "      <th>AIT203</th>\n",
              "      <th>FIT201</th>\n",
              "      <th>MV201</th>\n",
              "      <th>...</th>\n",
              "      <th>P501</th>\n",
              "      <th>P502</th>\n",
              "      <th>PIT501</th>\n",
              "      <th>PIT502</th>\n",
              "      <th>PIT503</th>\n",
              "      <th>FIT601</th>\n",
              "      <th>P601</th>\n",
              "      <th>P602</th>\n",
              "      <th>P603</th>\n",
              "      <th>y</th>\n",
              "    </tr>\n",
              "  </thead>\n",
              "  <tbody>\n",
              "    <tr>\n",
              "      <th>0</th>\n",
              "      <td>-1.633984</td>\n",
              "      <td>-3.807291</td>\n",
              "      <td>-1.574619</td>\n",
              "      <td>-1.728131</td>\n",
              "      <td>0.0</td>\n",
              "      <td>-2.477683</td>\n",
              "      <td>-0.828035</td>\n",
              "      <td>-0.719672</td>\n",
              "      <td>-1.731442</td>\n",
              "      <td>-1.684036</td>\n",
              "      <td>...</td>\n",
              "      <td>-17.912190</td>\n",
              "      <td>0.0</td>\n",
              "      <td>-17.843131</td>\n",
              "      <td>-5.796500</td>\n",
              "      <td>-17.672513</td>\n",
              "      <td>-0.095148</td>\n",
              "      <td>0.0</td>\n",
              "      <td>-0.089482</td>\n",
              "      <td>0.0</td>\n",
              "      <td>1</td>\n",
              "    </tr>\n",
              "    <tr>\n",
              "      <th>1</th>\n",
              "      <td>-1.633984</td>\n",
              "      <td>-3.806646</td>\n",
              "      <td>-1.574619</td>\n",
              "      <td>-1.728131</td>\n",
              "      <td>0.0</td>\n",
              "      <td>-2.477683</td>\n",
              "      <td>-0.828035</td>\n",
              "      <td>-0.719672</td>\n",
              "      <td>-1.731442</td>\n",
              "      <td>-1.684036</td>\n",
              "      <td>...</td>\n",
              "      <td>-17.912190</td>\n",
              "      <td>0.0</td>\n",
              "      <td>-17.843131</td>\n",
              "      <td>-5.796500</td>\n",
              "      <td>-17.672513</td>\n",
              "      <td>-0.095148</td>\n",
              "      <td>0.0</td>\n",
              "      <td>-0.089482</td>\n",
              "      <td>0.0</td>\n",
              "      <td>1</td>\n",
              "    </tr>\n",
              "    <tr>\n",
              "      <th>2</th>\n",
              "      <td>-1.633984</td>\n",
              "      <td>-3.806001</td>\n",
              "      <td>-1.574619</td>\n",
              "      <td>-1.728131</td>\n",
              "      <td>0.0</td>\n",
              "      <td>-2.477683</td>\n",
              "      <td>-0.828035</td>\n",
              "      <td>-0.719672</td>\n",
              "      <td>-1.731442</td>\n",
              "      <td>-1.684036</td>\n",
              "      <td>...</td>\n",
              "      <td>-17.912190</td>\n",
              "      <td>0.0</td>\n",
              "      <td>-17.843131</td>\n",
              "      <td>-5.796500</td>\n",
              "      <td>-17.672513</td>\n",
              "      <td>-0.095148</td>\n",
              "      <td>0.0</td>\n",
              "      <td>-0.089482</td>\n",
              "      <td>0.0</td>\n",
              "      <td>1</td>\n",
              "    </tr>\n",
              "    <tr>\n",
              "      <th>3</th>\n",
              "      <td>-1.633984</td>\n",
              "      <td>-3.804387</td>\n",
              "      <td>-1.574619</td>\n",
              "      <td>-1.728131</td>\n",
              "      <td>0.0</td>\n",
              "      <td>-2.477683</td>\n",
              "      <td>-0.828035</td>\n",
              "      <td>-0.719672</td>\n",
              "      <td>-1.731442</td>\n",
              "      <td>-1.684036</td>\n",
              "      <td>...</td>\n",
              "      <td>-17.912190</td>\n",
              "      <td>0.0</td>\n",
              "      <td>-17.843131</td>\n",
              "      <td>-5.796500</td>\n",
              "      <td>-17.672513</td>\n",
              "      <td>-0.095148</td>\n",
              "      <td>0.0</td>\n",
              "      <td>-0.089482</td>\n",
              "      <td>0.0</td>\n",
              "      <td>1</td>\n",
              "    </tr>\n",
              "    <tr>\n",
              "      <th>4</th>\n",
              "      <td>-1.633984</td>\n",
              "      <td>-3.805678</td>\n",
              "      <td>-1.574619</td>\n",
              "      <td>-1.728131</td>\n",
              "      <td>0.0</td>\n",
              "      <td>-2.477683</td>\n",
              "      <td>-0.828035</td>\n",
              "      <td>-0.719672</td>\n",
              "      <td>-1.731442</td>\n",
              "      <td>-1.684036</td>\n",
              "      <td>...</td>\n",
              "      <td>-17.912190</td>\n",
              "      <td>0.0</td>\n",
              "      <td>-17.843131</td>\n",
              "      <td>-5.796500</td>\n",
              "      <td>-17.672513</td>\n",
              "      <td>-0.095148</td>\n",
              "      <td>0.0</td>\n",
              "      <td>-0.089482</td>\n",
              "      <td>0.0</td>\n",
              "      <td>1</td>\n",
              "    </tr>\n",
              "    <tr>\n",
              "      <th>...</th>\n",
              "      <td>...</td>\n",
              "      <td>...</td>\n",
              "      <td>...</td>\n",
              "      <td>...</td>\n",
              "      <td>...</td>\n",
              "      <td>...</td>\n",
              "      <td>...</td>\n",
              "      <td>...</td>\n",
              "      <td>...</td>\n",
              "      <td>...</td>\n",
              "      <td>...</td>\n",
              "      <td>...</td>\n",
              "      <td>...</td>\n",
              "      <td>...</td>\n",
              "      <td>...</td>\n",
              "      <td>...</td>\n",
              "      <td>...</td>\n",
              "      <td>...</td>\n",
              "      <td>...</td>\n",
              "      <td>...</td>\n",
              "      <td>...</td>\n",
              "    </tr>\n",
              "    <tr>\n",
              "      <th>494995</th>\n",
              "      <td>0.538489</td>\n",
              "      <td>-0.530054</td>\n",
              "      <td>0.610641</td>\n",
              "      <td>0.578660</td>\n",
              "      <td>0.0</td>\n",
              "      <td>-0.369209</td>\n",
              "      <td>0.091710</td>\n",
              "      <td>-0.401898</td>\n",
              "      <td>0.574180</td>\n",
              "      <td>0.571882</td>\n",
              "      <td>...</td>\n",
              "      <td>0.055828</td>\n",
              "      <td>0.0</td>\n",
              "      <td>-0.070842</td>\n",
              "      <td>2.886472</td>\n",
              "      <td>-0.101112</td>\n",
              "      <td>-0.096008</td>\n",
              "      <td>0.0</td>\n",
              "      <td>-0.089482</td>\n",
              "      <td>0.0</td>\n",
              "      <td>1</td>\n",
              "    </tr>\n",
              "    <tr>\n",
              "      <th>494996</th>\n",
              "      <td>0.528309</td>\n",
              "      <td>-0.530699</td>\n",
              "      <td>0.610641</td>\n",
              "      <td>0.578660</td>\n",
              "      <td>0.0</td>\n",
              "      <td>-0.369209</td>\n",
              "      <td>0.091710</td>\n",
              "      <td>-0.401898</td>\n",
              "      <td>0.574180</td>\n",
              "      <td>0.571882</td>\n",
              "      <td>...</td>\n",
              "      <td>0.055828</td>\n",
              "      <td>0.0</td>\n",
              "      <td>-0.070842</td>\n",
              "      <td>2.886472</td>\n",
              "      <td>-0.134322</td>\n",
              "      <td>-0.096008</td>\n",
              "      <td>0.0</td>\n",
              "      <td>-0.089482</td>\n",
              "      <td>0.0</td>\n",
              "      <td>1</td>\n",
              "    </tr>\n",
              "    <tr>\n",
              "      <th>494997</th>\n",
              "      <td>0.515865</td>\n",
              "      <td>-0.531345</td>\n",
              "      <td>0.610641</td>\n",
              "      <td>0.578660</td>\n",
              "      <td>0.0</td>\n",
              "      <td>-0.369209</td>\n",
              "      <td>0.091710</td>\n",
              "      <td>-0.399305</td>\n",
              "      <td>0.576599</td>\n",
              "      <td>0.571882</td>\n",
              "      <td>...</td>\n",
              "      <td>0.055828</td>\n",
              "      <td>0.0</td>\n",
              "      <td>-0.070842</td>\n",
              "      <td>2.886472</td>\n",
              "      <td>-0.134322</td>\n",
              "      <td>-0.096008</td>\n",
              "      <td>0.0</td>\n",
              "      <td>-0.089482</td>\n",
              "      <td>0.0</td>\n",
              "      <td>1</td>\n",
              "    </tr>\n",
              "    <tr>\n",
              "      <th>494998</th>\n",
              "      <td>0.510209</td>\n",
              "      <td>-0.531022</td>\n",
              "      <td>0.610641</td>\n",
              "      <td>0.578660</td>\n",
              "      <td>0.0</td>\n",
              "      <td>-0.369209</td>\n",
              "      <td>0.091710</td>\n",
              "      <td>-0.399305</td>\n",
              "      <td>0.577082</td>\n",
              "      <td>0.571882</td>\n",
              "      <td>...</td>\n",
              "      <td>0.055828</td>\n",
              "      <td>0.0</td>\n",
              "      <td>-0.070842</td>\n",
              "      <td>2.260671</td>\n",
              "      <td>-0.134322</td>\n",
              "      <td>-0.096008</td>\n",
              "      <td>0.0</td>\n",
              "      <td>-0.089482</td>\n",
              "      <td>0.0</td>\n",
              "      <td>1</td>\n",
              "    </tr>\n",
              "    <tr>\n",
              "      <th>494999</th>\n",
              "      <td>0.509078</td>\n",
              "      <td>-0.531668</td>\n",
              "      <td>0.610641</td>\n",
              "      <td>0.578660</td>\n",
              "      <td>0.0</td>\n",
              "      <td>-0.369209</td>\n",
              "      <td>0.091710</td>\n",
              "      <td>-0.399305</td>\n",
              "      <td>0.577082</td>\n",
              "      <td>0.571882</td>\n",
              "      <td>...</td>\n",
              "      <td>0.055828</td>\n",
              "      <td>0.0</td>\n",
              "      <td>-0.067305</td>\n",
              "      <td>2.260671</td>\n",
              "      <td>-0.125269</td>\n",
              "      <td>-0.096008</td>\n",
              "      <td>0.0</td>\n",
              "      <td>-0.089482</td>\n",
              "      <td>0.0</td>\n",
              "      <td>1</td>\n",
              "    </tr>\n",
              "  </tbody>\n",
              "</table>\n",
              "<p>495000 rows × 52 columns</p>\n",
              "</div>\n",
              "      <button class=\"colab-df-convert\" onclick=\"convertToInteractive('df-61f2d50d-0500-4135-a180-e8ebd7b8ac62')\"\n",
              "              title=\"Convert this dataframe to an interactive table.\"\n",
              "              style=\"display:none;\">\n",
              "        \n",
              "  <svg xmlns=\"http://www.w3.org/2000/svg\" height=\"24px\"viewBox=\"0 0 24 24\"\n",
              "       width=\"24px\">\n",
              "    <path d=\"M0 0h24v24H0V0z\" fill=\"none\"/>\n",
              "    <path d=\"M18.56 5.44l.94 2.06.94-2.06 2.06-.94-2.06-.94-.94-2.06-.94 2.06-2.06.94zm-11 1L8.5 8.5l.94-2.06 2.06-.94-2.06-.94L8.5 2.5l-.94 2.06-2.06.94zm10 10l.94 2.06.94-2.06 2.06-.94-2.06-.94-.94-2.06-.94 2.06-2.06.94z\"/><path d=\"M17.41 7.96l-1.37-1.37c-.4-.4-.92-.59-1.43-.59-.52 0-1.04.2-1.43.59L10.3 9.45l-7.72 7.72c-.78.78-.78 2.05 0 2.83L4 21.41c.39.39.9.59 1.41.59.51 0 1.02-.2 1.41-.59l7.78-7.78 2.81-2.81c.8-.78.8-2.07 0-2.86zM5.41 20L4 18.59l7.72-7.72 1.47 1.35L5.41 20z\"/>\n",
              "  </svg>\n",
              "      </button>\n",
              "      \n",
              "  <style>\n",
              "    .colab-df-container {\n",
              "      display:flex;\n",
              "      flex-wrap:wrap;\n",
              "      gap: 12px;\n",
              "    }\n",
              "\n",
              "    .colab-df-convert {\n",
              "      background-color: #E8F0FE;\n",
              "      border: none;\n",
              "      border-radius: 50%;\n",
              "      cursor: pointer;\n",
              "      display: none;\n",
              "      fill: #1967D2;\n",
              "      height: 32px;\n",
              "      padding: 0 0 0 0;\n",
              "      width: 32px;\n",
              "    }\n",
              "\n",
              "    .colab-df-convert:hover {\n",
              "      background-color: #E2EBFA;\n",
              "      box-shadow: 0px 1px 2px rgba(60, 64, 67, 0.3), 0px 1px 3px 1px rgba(60, 64, 67, 0.15);\n",
              "      fill: #174EA6;\n",
              "    }\n",
              "\n",
              "    [theme=dark] .colab-df-convert {\n",
              "      background-color: #3B4455;\n",
              "      fill: #D2E3FC;\n",
              "    }\n",
              "\n",
              "    [theme=dark] .colab-df-convert:hover {\n",
              "      background-color: #434B5C;\n",
              "      box-shadow: 0px 1px 3px 1px rgba(0, 0, 0, 0.15);\n",
              "      filter: drop-shadow(0px 1px 2px rgba(0, 0, 0, 0.3));\n",
              "      fill: #FFFFFF;\n",
              "    }\n",
              "  </style>\n",
              "\n",
              "      <script>\n",
              "        const buttonEl =\n",
              "          document.querySelector('#df-61f2d50d-0500-4135-a180-e8ebd7b8ac62 button.colab-df-convert');\n",
              "        buttonEl.style.display =\n",
              "          google.colab.kernel.accessAllowed ? 'block' : 'none';\n",
              "\n",
              "        async function convertToInteractive(key) {\n",
              "          const element = document.querySelector('#df-61f2d50d-0500-4135-a180-e8ebd7b8ac62');\n",
              "          const dataTable =\n",
              "            await google.colab.kernel.invokeFunction('convertToInteractive',\n",
              "                                                     [key], {});\n",
              "          if (!dataTable) return;\n",
              "\n",
              "          const docLinkHtml = 'Like what you see? Visit the ' +\n",
              "            '<a target=\"_blank\" href=https://colab.research.google.com/notebooks/data_table.ipynb>data table notebook</a>'\n",
              "            + ' to learn more about interactive tables.';\n",
              "          element.innerHTML = '';\n",
              "          dataTable['output_type'] = 'display_data';\n",
              "          await google.colab.output.renderOutput(dataTable, element);\n",
              "          const docLink = document.createElement('div');\n",
              "          docLink.innerHTML = docLinkHtml;\n",
              "          element.appendChild(docLink);\n",
              "        }\n",
              "      </script>\n",
              "    </div>\n",
              "  </div>\n",
              "  "
            ]
          },
          "metadata": {},
          "execution_count": 8
        }
      ]
    },
    {
      "cell_type": "code",
      "source": [
        "y_test.value_counts()"
      ],
      "metadata": {
        "colab": {
          "base_uri": "https://localhost:8080/"
        },
        "id": "wPrl--c5w7p8",
        "outputId": "c9e668d2-4db0-4177-ef66-b570abb04eb4"
      },
      "execution_count": null,
      "outputs": [
        {
          "output_type": "execute_result",
          "data": {
            "text/plain": [
              "0    395298\n",
              "1     54621\n",
              "Name: y, dtype: int64"
            ]
          },
          "metadata": {},
          "execution_count": 12
        }
      ]
    },
    {
      "cell_type": "code",
      "source": [
        "from detector import *"
      ],
      "metadata": {
        "id": "oF2LFxddvpE1"
      },
      "execution_count": null,
      "outputs": []
    },
    {
      "cell_type": "code",
      "source": [
        "import pandas as pd\n",
        "import numpy as np\n",
        "\n",
        "npz = np.load('/content/12_fault.npz')\n",
        "npz"
      ],
      "metadata": {
        "colab": {
          "base_uri": "https://localhost:8080/"
        },
        "id": "mCwf5bmlxm5v",
        "outputId": "d5b7117f-1d0a-48fd-883a-9b25756a19a8"
      },
      "execution_count": null,
      "outputs": [
        {
          "output_type": "execute_result",
          "data": {
            "text/plain": [
              "<numpy.lib.npyio.NpzFile at 0x7f0efa46dfd0>"
            ]
          },
          "metadata": {},
          "execution_count": 29
        }
      ]
    },
    {
      "cell_type": "code",
      "source": [
        "X, y = data['X'], data['y']"
      ],
      "metadata": {
        "id": "eMuXa1JCz-Jx"
      },
      "execution_count": null,
      "outputs": []
    },
    {
      "cell_type": "code",
      "source": [
        "import numpy as np\n",
        "data = np.load('/content/2_annthyroid.npz', allow_pickle=True)\n",
        "X,y = data[\"X\"], data[\"y\"]"
      ],
      "metadata": {
        "id": "AZLRdCzGysA1"
      },
      "execution_count": null,
      "outputs": []
    },
    {
      "cell_type": "code",
      "source": [
        "X.shape"
      ],
      "metadata": {
        "colab": {
          "base_uri": "https://localhost:8080/"
        },
        "id": "PzUCp78R3S5T",
        "outputId": "6bba95e1-a83f-43c0-bee1-8eff17aef42b"
      },
      "execution_count": null,
      "outputs": [
        {
          "output_type": "execute_result",
          "data": {
            "text/plain": [
              "(7200, 6)"
            ]
          },
          "metadata": {},
          "execution_count": 143
        }
      ]
    },
    {
      "cell_type": "code",
      "source": [
        "model = AnomalyDetector(hidden_size = 3,batch_size = 64,num_epochs = 25)\n",
        "X = pd.DataFrame(X)\n",
        "model.fit(X[0:5000])"
      ],
      "metadata": {
        "colab": {
          "base_uri": "https://localhost:8080/"
        },
        "id": "Myqq_qqxz-ea",
        "outputId": "a54804bf-bfc5-4cf2-a7b4-aba027a26b5e"
      },
      "execution_count": null,
      "outputs": [
        {
          "output_type": "stream",
          "name": "stderr",
          "text": [
            "/usr/local/lib/python3.8/dist-packages/torch/nn/modules/rnn.py:67: UserWarning: dropout option adds dropout after all but last recurrent layer, so non-zero dropout expects num_layers greater than 1, but got dropout=0.2 and num_layers=1\n",
            "  warnings.warn(\"dropout option adds dropout after all but last \"\n",
            "  0%|          | 0/25 [00:00<?, ?it/s]/usr/local/lib/python3.8/dist-packages/torch/nn/_reduction.py:42: UserWarning: size_average and reduce args will be deprecated, please use reduction='sum' instead.\n",
            "  warnings.warn(warning.format(ret))\n",
            "100%|██████████| 25/25 [00:44<00:00,  1.77s/it]\n",
            "/usr/local/lib/python3.8/dist-packages/torch/nn/_reduction.py:42: UserWarning: size_average and reduce args will be deprecated, please use reduction='none' instead.\n",
            "  warnings.warn(warning.format(ret))\n"
          ]
        }
      ]
    },
    {
      "cell_type": "code",
      "source": [
        "k,p = model.predict(X)\n"
      ],
      "metadata": {
        "id": "-O9T1G9Dz-8Y"
      },
      "execution_count": null,
      "outputs": []
    },
    {
      "cell_type": "code",
      "source": [
        "y = pd.DataFrame(y, columns = [\"Truth\"])"
      ],
      "metadata": {
        "id": "9VsCg7Ng3iNF"
      },
      "execution_count": null,
      "outputs": []
    },
    {
      "cell_type": "code",
      "source": [
        "y[\"Truth\"].value_counts()"
      ],
      "metadata": {
        "colab": {
          "base_uri": "https://localhost:8080/"
        },
        "id": "sIYxe2_p0Vcz",
        "outputId": "0209fe09-6ee8-4d5a-b626-40fa0384640d"
      },
      "execution_count": null,
      "outputs": [
        {
          "output_type": "execute_result",
          "data": {
            "text/plain": [
              "0    6666\n",
              "1     534\n",
              "Name: Truth, dtype: int64"
            ]
          },
          "metadata": {},
          "execution_count": 145
        }
      ]
    },
    {
      "cell_type": "code",
      "source": [
        "import numpy as np\n",
        "import pandas as pd\n",
        "import matplotlib.pyplot as plt\n",
        "from sklearn.metrics import roc_curve,roc_auc_score\n",
        "import seaborn as sns"
      ],
      "metadata": {
        "id": "UZOkpo5i3QJQ"
      },
      "execution_count": null,
      "outputs": []
    },
    {
      "cell_type": "code",
      "source": [
        "def plot_roc_curve(fpr, tpr):\n",
        "    plt.plot(fpr, tpr, color='orange', label='ROC')\n",
        "    plt.plot([0, 1], [0, 1], color='darkblue', linestyle='--')\n",
        "    plt.xlabel('False Positive Rate')\n",
        "    plt.ylabel('True Positive Rate')\n",
        "    plt.title('Receiver Operating Characteristic (ROC) Curve')\n",
        "    plt.legend()\n",
        "    plt.savefig(\"roc_multi.png\", transparent  = False)\n",
        "    plt.show()\n",
        "\n",
        "#y_true = y_test[10:len(aa)]\n",
        "#y_scores = aa[10:len(aa)]\n",
        "y_true = y\n",
        "y_scores = k\n",
        "\n",
        "fpr, tpr, thresholds = roc_curve(y_true, y_scores)\n",
        "print(roc_auc_score(y_true, y_scores))\n",
        "optimal_idx = np.argmax(tpr - fpr)\n",
        "optimal_threshold = thresholds[optimal_idx]\n",
        "print(\"Threshold value is:\", optimal_threshold)\n",
        "plot_roc_curve(fpr, tpr)"
      ],
      "metadata": {
        "colab": {
          "base_uri": "https://localhost:8080/",
          "height": 329
        },
        "id": "HWrqyIvU0sT1",
        "outputId": "f388ad6a-d9dd-45e8-9b44-d73058e64209"
      },
      "execution_count": null,
      "outputs": [
        {
          "output_type": "stream",
          "name": "stdout",
          "text": [
            "0.6012651826980451\n",
            "Threshold value is: -16.097052680563127\n"
          ]
        },
        {
          "output_type": "display_data",
          "data": {
            "text/plain": [
              "<Figure size 432x288 with 1 Axes>"
            ],
            "image/png": "[encoded data removed]"
          },
          "metadata": {
            "needs_background": "light"
          }
        }
      ]
    },
    {
      "cell_type": "code",
      "source": [
        "pip install ruptures pyod combo"
      ],
      "metadata": {
        "id": "Zf32ZWbE01CZ",
        "colab": {
          "base_uri": "https://localhost:8080/"
        },
        "outputId": "ccecec85-fb81-48c3-fb90-a829c7daab99"
      },
      "execution_count": null,
      "outputs": [
        {
          "output_type": "stream",
          "name": "stdout",
          "text": [
            "Looking in indexes: https://pypi.org/simple, https://us-python.pkg.dev/colab-wheels/public/simple/\n",
            "Collecting ruptures\n",
            "  Downloading ruptures-1.1.7-cp38-cp38-manylinux_2_17_x86_64.manylinux2014_x86_64.whl (1.1 MB)\n",
            "\u001b[2K     \u001b[90m━━━━━━━━━━━━━━━━━━━━━━━━━━━━━━━━━━━━━━━━\u001b[0m \u001b[32m1.1/1.1 MB\u001b[0m \u001b[31m40.1 MB/s\u001b[0m eta \u001b[36m0:00:00\u001b[0m\n",
            "\u001b[?25hCollecting pyod\n",
            "  Downloading pyod-1.0.7.tar.gz (147 kB)\n",
            "\u001b[2K     \u001b[90m━━━━━━━━━━━━━━━━━━━━━━━━━━━━━━━━━━━━━━\u001b[0m \u001b[32m147.7/147.7 KB\u001b[0m \u001b[31m13.7 MB/s\u001b[0m eta \u001b[36m0:00:00\u001b[0m\n",
            "\u001b[?25h  Preparing metadata (setup.py) ... \u001b[?25l\u001b[?25hdone\n",
            "Collecting combo\n",
            "  Downloading combo-0.1.3.tar.gz (38 kB)\n",
            "  Preparing metadata (setup.py) ... \u001b[?25l\u001b[?25hdone\n",
            "Requirement already satisfied: numpy in /usr/local/lib/python3.8/dist-packages (from ruptures) (1.21.6)\n",
            "Requirement already satisfied: scipy in /usr/local/lib/python3.8/dist-packages (from ruptures) (1.7.3)\n",
            "Requirement already satisfied: joblib in /usr/local/lib/python3.8/dist-packages (from pyod) (1.2.0)\n",
            "Requirement already satisfied: matplotlib in /usr/local/lib/python3.8/dist-packages (from pyod) (3.2.2)\n",
            "Requirement already satisfied: numba>=0.51 in /usr/local/lib/python3.8/dist-packages (from pyod) (0.56.4)\n",
            "Requirement already satisfied: scikit_learn>=0.20.0 in /usr/local/lib/python3.8/dist-packages (from pyod) (1.0.2)\n",
            "Requirement already satisfied: six in /usr/local/lib/python3.8/dist-packages (from pyod) (1.15.0)\n",
            "Requirement already satisfied: statsmodels in /usr/local/lib/python3.8/dist-packages (from pyod) (0.12.2)\n",
            "Requirement already satisfied: importlib-metadata in /usr/local/lib/python3.8/dist-packages (from numba>=0.51->pyod) (6.0.0)\n",
            "Requirement already satisfied: setuptools in /usr/local/lib/python3.8/dist-packages (from numba>=0.51->pyod) (57.4.0)\n",
            "Requirement already satisfied: llvmlite<0.40,>=0.39.0dev0 in /usr/local/lib/python3.8/dist-packages (from numba>=0.51->pyod) (0.39.1)\n",
            "Requirement already satisfied: threadpoolctl>=2.0.0 in /usr/local/lib/python3.8/dist-packages (from scikit_learn>=0.20.0->pyod) (3.1.0)\n",
            "Requirement already satisfied: kiwisolver>=1.0.1 in /usr/local/lib/python3.8/dist-packages (from matplotlib->pyod) (1.4.4)\n",
            "Requirement already satisfied: python-dateutil>=2.1 in /usr/local/lib/python3.8/dist-packages (from matplotlib->pyod) (2.8.2)\n",
            "Requirement already satisfied: pyparsing!=2.0.4,!=2.1.2,!=2.1.6,>=2.0.1 in /usr/local/lib/python3.8/dist-packages (from matplotlib->pyod) (3.0.9)\n",
            "Requirement already satisfied: cycler>=0.10 in /usr/local/lib/python3.8/dist-packages (from matplotlib->pyod) (0.11.0)\n",
            "Requirement already satisfied: pandas>=0.21 in /usr/local/lib/python3.8/dist-packages (from statsmodels->pyod) (1.3.5)\n",
            "Requirement already satisfied: patsy>=0.5 in /usr/local/lib/python3.8/dist-packages (from statsmodels->pyod) (0.5.3)\n",
            "Requirement already satisfied: pytz>=2017.3 in /usr/local/lib/python3.8/dist-packages (from pandas>=0.21->statsmodels->pyod) (2022.7)\n",
            "Requirement already satisfied: zipp>=0.5 in /usr/local/lib/python3.8/dist-packages (from importlib-metadata->numba>=0.51->pyod) (3.11.0)\n",
            "Building wheels for collected packages: pyod, combo\n",
            "  Building wheel for pyod (setup.py) ... \u001b[?25l\u001b[?25hdone\n",
            "  Created wheel for pyod: filename=pyod-1.0.7-py3-none-any.whl size=181101 sha256=d61a21b3a3e5e25ba3f0240b07b8ae306d27573167e59f46e8c7d1acb786f812\n",
            "  Stored in directory: /root/.cache/pip/wheels/f7/e2/c1/1c7fd8b261e72411f6509afb429c84532e40ddcd96074473f4\n",
            "  Building wheel for combo (setup.py) ... \u001b[?25l\u001b[?25hdone\n",
            "  Created wheel for combo: filename=combo-0.1.3-py3-none-any.whl size=42885 sha256=2f8bd89dc559206512e0b933a783a27cdaf102479875f23054ec23d837d91e3e\n",
            "  Stored in directory: /root/.cache/pip/wheels/ec/44/39/0667fea44a2dfe692cc2a51f0f79ea49b9dee7def53594ef2e\n",
            "Successfully built pyod combo\n",
            "Installing collected packages: ruptures, pyod, combo\n",
            "Successfully installed combo-0.1.3 pyod-1.0.7 ruptures-1.1.7\n"
          ]
        }
      ]
    },
    {
      "cell_type": "code",
      "source": [
        "from pyod.models.ecod import ECOD\n",
        "from pyod.models.abod import ABOD\n",
        "from pyod.models.lunar import LUNAR\n",
        "from pyod.models.vae import VAE\n",
        "from "
      ],
      "metadata": {
        "id": "tJa1aAGC8LSN"
      },
      "execution_count": null,
      "outputs": []
    },
    {
      "cell_type": "code",
      "source": [
        "mod = ABOD()"
      ],
      "metadata": {
        "id": "Am46BwBy8RbV"
      },
      "execution_count": null,
      "outputs": []
    },
    {
      "cell_type": "code",
      "source": [
        "mod.fit(X[0:3000])"
      ],
      "metadata": {
        "colab": {
          "base_uri": "https://localhost:8080/"
        },
        "id": "PJHPj9gD8Sx3",
        "outputId": "e06a284f-84bc-4da7-cca8-b9597507ec32"
      },
      "execution_count": null,
      "outputs": [
        {
          "output_type": "stream",
          "name": "stderr",
          "text": [
            "/usr/local/lib/python3.8/dist-packages/numpy/core/fromnumeric.py:3723: RuntimeWarning: Degrees of freedom <= 0 for slice\n",
            "  return _methods._var(a, axis=axis, dtype=dtype, out=out, ddof=ddof,\n",
            "/usr/local/lib/python3.8/dist-packages/numpy/core/_methods.py:222: RuntimeWarning: invalid value encountered in true_divide\n",
            "  arrmean = um.true_divide(arrmean, div, out=arrmean, casting='unsafe',\n",
            "/usr/local/lib/python3.8/dist-packages/numpy/core/_methods.py:254: RuntimeWarning: invalid value encountered in double_scalars\n",
            "  ret = ret.dtype.type(ret / rcount)\n"
          ]
        },
        {
          "output_type": "execute_result",
          "data": {
            "text/plain": [
              "ABOD(contamination=0.1, method='fast', n_neighbors=5)"
            ]
          },
          "metadata": {},
          "execution_count": 150
        }
      ]
    },
    {
      "cell_type": "code",
      "source": [
        "k = mod.predict(X[3000::])"
      ],
      "metadata": {
        "colab": {
          "base_uri": "https://localhost:8080/"
        },
        "id": "jG6Xs-G88Vok",
        "outputId": "c6e52d06-7467-49fb-c75e-06ae716fbe4a"
      },
      "execution_count": null,
      "outputs": [
        {
          "output_type": "stream",
          "name": "stderr",
          "text": [
            "/usr/local/lib/python3.8/dist-packages/numpy/core/fromnumeric.py:3723: RuntimeWarning: Degrees of freedom <= 0 for slice\n",
            "  return _methods._var(a, axis=axis, dtype=dtype, out=out, ddof=ddof,\n",
            "/usr/local/lib/python3.8/dist-packages/numpy/core/_methods.py:222: RuntimeWarning: invalid value encountered in true_divide\n",
            "  arrmean = um.true_divide(arrmean, div, out=arrmean, casting='unsafe',\n",
            "/usr/local/lib/python3.8/dist-packages/numpy/core/_methods.py:254: RuntimeWarning: invalid value encountered in double_scalars\n",
            "  ret = ret.dtype.type(ret / rcount)\n"
          ]
        }
      ]
    },
    {
      "cell_type": "code",
      "source": [
        "k = mod.predict_proba(X)"
      ],
      "metadata": {
        "id": "ro_bbACj8Xeo"
      },
      "execution_count": null,
      "outputs": []
    },
    {
      "cell_type": "code",
      "source": [
        "pip install ruptures pyod combo"
      ],
      "metadata": {
        "id": "oPensdgG9hyG",
        "colab": {
          "base_uri": "https://localhost:8080/"
        },
        "outputId": "16cd5a76-80ff-48a2-96ef-0f61ff307c72"
      },
      "execution_count": null,
      "outputs": [
        {
          "output_type": "stream",
          "name": "stdout",
          "text": [
            "Looking in indexes: https://pypi.org/simple, https://us-python.pkg.dev/colab-wheels/public/simple/\n",
            "Collecting ruptures\n",
            "  Downloading ruptures-1.1.7-cp38-cp38-manylinux_2_17_x86_64.manylinux2014_x86_64.whl (1.1 MB)\n",
            "\u001b[2K     \u001b[90m━━━━━━━━━━━━━━━━━━━━━━━━━━━━━━━━━━━━━━━━\u001b[0m \u001b[32m1.1/1.1 MB\u001b[0m \u001b[31m12.6 MB/s\u001b[0m eta \u001b[36m0:00:00\u001b[0m\n",
            "\u001b[?25hCollecting pyod\n",
            "  Downloading pyod-1.0.7.tar.gz (147 kB)\n",
            "\u001b[2K     \u001b[90m━━━━━━━━━━━━━━━━━━━━━━━━━━━━━━━━━━━━━━\u001b[0m \u001b[32m147.7/147.7 KB\u001b[0m \u001b[31m11.3 MB/s\u001b[0m eta \u001b[36m0:00:00\u001b[0m\n",
            "\u001b[?25h  Preparing metadata (setup.py) ... \u001b[?25l\u001b[?25hdone\n",
            "Collecting combo\n",
            "  Downloading combo-0.1.3.tar.gz (38 kB)\n",
            "  Preparing metadata (setup.py) ... \u001b[?25l\u001b[?25hdone\n",
            "Requirement already satisfied: scipy in /usr/local/lib/python3.8/dist-packages (from ruptures) (1.7.3)\n",
            "Requirement already satisfied: numpy in /usr/local/lib/python3.8/dist-packages (from ruptures) (1.21.6)\n",
            "Requirement already satisfied: joblib in /usr/local/lib/python3.8/dist-packages (from pyod) (1.2.0)\n",
            "Requirement already satisfied: matplotlib in /usr/local/lib/python3.8/dist-packages (from pyod) (3.2.2)\n",
            "Requirement already satisfied: numba>=0.51 in /usr/local/lib/python3.8/dist-packages (from pyod) (0.56.4)\n",
            "Requirement already satisfied: scikit_learn>=0.20.0 in /usr/local/lib/python3.8/dist-packages (from pyod) (1.0.2)\n",
            "Requirement already satisfied: six in /usr/local/lib/python3.8/dist-packages (from pyod) (1.15.0)\n",
            "Requirement already satisfied: statsmodels in /usr/local/lib/python3.8/dist-packages (from pyod) (0.12.2)\n",
            "Requirement already satisfied: importlib-metadata in /usr/local/lib/python3.8/dist-packages (from numba>=0.51->pyod) (6.0.0)\n",
            "Requirement already satisfied: llvmlite<0.40,>=0.39.0dev0 in /usr/local/lib/python3.8/dist-packages (from numba>=0.51->pyod) (0.39.1)\n",
            "Requirement already satisfied: setuptools in /usr/local/lib/python3.8/dist-packages (from numba>=0.51->pyod) (57.4.0)\n",
            "Requirement already satisfied: threadpoolctl>=2.0.0 in /usr/local/lib/python3.8/dist-packages (from scikit_learn>=0.20.0->pyod) (3.1.0)\n",
            "Requirement already satisfied: pyparsing!=2.0.4,!=2.1.2,!=2.1.6,>=2.0.1 in /usr/local/lib/python3.8/dist-packages (from matplotlib->pyod) (3.0.9)\n",
            "Requirement already satisfied: python-dateutil>=2.1 in /usr/local/lib/python3.8/dist-packages (from matplotlib->pyod) (2.8.2)\n",
            "Requirement already satisfied: kiwisolver>=1.0.1 in /usr/local/lib/python3.8/dist-packages (from matplotlib->pyod) (1.4.4)\n",
            "Requirement already satisfied: cycler>=0.10 in /usr/local/lib/python3.8/dist-packages (from matplotlib->pyod) (0.11.0)\n",
            "Requirement already satisfied: patsy>=0.5 in /usr/local/lib/python3.8/dist-packages (from statsmodels->pyod) (0.5.3)\n",
            "Requirement already satisfied: pandas>=0.21 in /usr/local/lib/python3.8/dist-packages (from statsmodels->pyod) (1.3.5)\n",
            "Requirement already satisfied: pytz>=2017.3 in /usr/local/lib/python3.8/dist-packages (from pandas>=0.21->statsmodels->pyod) (2022.7.1)\n",
            "Requirement already satisfied: zipp>=0.5 in /usr/local/lib/python3.8/dist-packages (from importlib-metadata->numba>=0.51->pyod) (3.12.0)\n",
            "Building wheels for collected packages: pyod, combo\n",
            "  Building wheel for pyod (setup.py) ... \u001b[?25l\u001b[?25hdone\n",
            "  Created wheel for pyod: filename=pyod-1.0.7-py3-none-any.whl size=181101 sha256=574053f68cfeeb1b8024509da4254704dff8d9c915c9014595faaabb4dad993c\n",
            "  Stored in directory: /root/.cache/pip/wheels/f7/e2/c1/1c7fd8b261e72411f6509afb429c84532e40ddcd96074473f4\n",
            "  Building wheel for combo (setup.py) ... \u001b[?25l\u001b[?25hdone\n",
            "  Created wheel for combo: filename=combo-0.1.3-py3-none-any.whl size=42885 sha256=491666957bbc24efd03c0b2046977712aeeeb539a944714d90753fec3eb0ab87\n",
            "  Stored in directory: /root/.cache/pip/wheels/ec/44/39/0667fea44a2dfe692cc2a51f0f79ea49b9dee7def53594ef2e\n",
            "Successfully built pyod combo\n",
            "Installing collected packages: ruptures, pyod, combo\n",
            "Successfully installed combo-0.1.3 pyod-1.0.7 ruptures-1.1.7\n"
          ]
        }
      ]
    },
    {
      "cell_type": "code",
      "source": [
        "from pyod.models.ecod import ECOD\n",
        "from pyod.models.lunar import LUNAR"
      ],
      "metadata": {
        "id": "RAaCmuF9KycK"
      },
      "execution_count": null,
      "outputs": []
    },
    {
      "cell_type": "code",
      "source": [
        "x = LUNAR(n_epochs = 50,verbose = 1)\n",
        "x.fit(train_df)\n",
        "y = x.predict(test_df)"
      ],
      "metadata": {
        "colab": {
          "base_uri": "https://localhost:8080/",
          "height": 375
        },
        "id": "x_WFGF7vK1bO",
        "outputId": "eb2e4981-3d27-49f0-d0f3-1348fef99efc"
      },
      "execution_count": null,
      "outputs": [
        {
          "output_type": "error",
          "ename": "KeyboardInterrupt",
          "evalue": "ignored",
          "traceback": [
            "\u001b[0;31m---------------------------------------------------------------------------\u001b[0m",
            "\u001b[0;31mKeyboardInterrupt\u001b[0m                         Traceback (most recent call last)",
            "\u001b[0;32m<ipython-input-26-23f3776e50ec>\u001b[0m in \u001b[0;36m<module>\u001b[0;34m\u001b[0m\n\u001b[1;32m      1\u001b[0m \u001b[0mx\u001b[0m \u001b[0;34m=\u001b[0m \u001b[0mLUNAR\u001b[0m\u001b[0;34m(\u001b[0m\u001b[0mn_epochs\u001b[0m \u001b[0;34m=\u001b[0m \u001b[0;36m50\u001b[0m\u001b[0;34m,\u001b[0m\u001b[0mverbose\u001b[0m \u001b[0;34m=\u001b[0m \u001b[0;36m1\u001b[0m\u001b[0;34m)\u001b[0m\u001b[0;34m\u001b[0m\u001b[0;34m\u001b[0m\u001b[0m\n\u001b[0;32m----> 2\u001b[0;31m \u001b[0mx\u001b[0m\u001b[0;34m.\u001b[0m\u001b[0mfit\u001b[0m\u001b[0;34m(\u001b[0m\u001b[0mtrain_df\u001b[0m\u001b[0;34m)\u001b[0m\u001b[0;34m\u001b[0m\u001b[0;34m\u001b[0m\u001b[0m\n\u001b[0m\u001b[1;32m      3\u001b[0m \u001b[0my\u001b[0m \u001b[0;34m=\u001b[0m \u001b[0mx\u001b[0m\u001b[0;34m.\u001b[0m\u001b[0mpredict\u001b[0m\u001b[0;34m(\u001b[0m\u001b[0mtest_df\u001b[0m\u001b[0;34m)\u001b[0m\u001b[0;34m\u001b[0m\u001b[0;34m\u001b[0m\u001b[0m\n",
            "\u001b[0;32m/usr/local/lib/python3.8/dist-packages/pyod/models/lunar.py\u001b[0m in \u001b[0;36mfit\u001b[0;34m(self, X, y)\u001b[0m\n\u001b[1;32m    225\u001b[0m \u001b[0;34m\u001b[0m\u001b[0m\n\u001b[1;32m    226\u001b[0m         \u001b[0;31m# nearest neighbours of training set\u001b[0m\u001b[0;34m\u001b[0m\u001b[0;34m\u001b[0m\u001b[0;34m\u001b[0m\u001b[0m\n\u001b[0;32m--> 227\u001b[0;31m         \u001b[0mtrain_dist\u001b[0m\u001b[0;34m,\u001b[0m \u001b[0m_\u001b[0m \u001b[0;34m=\u001b[0m \u001b[0mself\u001b[0m\u001b[0;34m.\u001b[0m\u001b[0mneigh\u001b[0m\u001b[0;34m.\u001b[0m\u001b[0mkneighbors\u001b[0m\u001b[0;34m(\u001b[0m\u001b[0mtrain_x\u001b[0m\u001b[0;34m[\u001b[0m\u001b[0mtrain_y\u001b[0m \u001b[0;34m==\u001b[0m \u001b[0;36m0\u001b[0m\u001b[0;34m]\u001b[0m\u001b[0;34m,\u001b[0m \u001b[0mn_neighbors\u001b[0m\u001b[0;34m=\u001b[0m\u001b[0mself\u001b[0m\u001b[0;34m.\u001b[0m\u001b[0mn_neighbours\u001b[0m \u001b[0;34m+\u001b[0m \u001b[0;36m1\u001b[0m\u001b[0;34m)\u001b[0m\u001b[0;34m\u001b[0m\u001b[0;34m\u001b[0m\u001b[0m\n\u001b[0m\u001b[1;32m    228\u001b[0m         \u001b[0mneg_train_dist\u001b[0m\u001b[0;34m,\u001b[0m \u001b[0m_\u001b[0m \u001b[0;34m=\u001b[0m \u001b[0mself\u001b[0m\u001b[0;34m.\u001b[0m\u001b[0mneigh\u001b[0m\u001b[0;34m.\u001b[0m\u001b[0mkneighbors\u001b[0m\u001b[0;34m(\u001b[0m\u001b[0mtrain_x\u001b[0m\u001b[0;34m[\u001b[0m\u001b[0mtrain_y\u001b[0m \u001b[0;34m==\u001b[0m \u001b[0;36m1\u001b[0m\u001b[0;34m]\u001b[0m\u001b[0;34m,\u001b[0m \u001b[0mn_neighbors\u001b[0m\u001b[0;34m=\u001b[0m\u001b[0mself\u001b[0m\u001b[0;34m.\u001b[0m\u001b[0mn_neighbours\u001b[0m\u001b[0;34m)\u001b[0m\u001b[0;34m\u001b[0m\u001b[0;34m\u001b[0m\u001b[0m\n\u001b[1;32m    229\u001b[0m         \u001b[0;31m# remove self loops of normal training points\u001b[0m\u001b[0;34m\u001b[0m\u001b[0;34m\u001b[0m\u001b[0;34m\u001b[0m\u001b[0m\n",
            "\u001b[0;32m/usr/local/lib/python3.8/dist-packages/sklearn/neighbors/_base.py\u001b[0m in \u001b[0;36mkneighbors\u001b[0;34m(self, X, n_neighbors, return_distance)\u001b[0m\n\u001b[1;32m    750\u001b[0m                 \u001b[0mkwds\u001b[0m \u001b[0;34m=\u001b[0m \u001b[0mself\u001b[0m\u001b[0;34m.\u001b[0m\u001b[0meffective_metric_params_\u001b[0m\u001b[0;34m\u001b[0m\u001b[0;34m\u001b[0m\u001b[0m\n\u001b[1;32m    751\u001b[0m \u001b[0;34m\u001b[0m\u001b[0m\n\u001b[0;32m--> 752\u001b[0;31m             chunked_results = list(\n\u001b[0m\u001b[1;32m    753\u001b[0m                 pairwise_distances_chunked(\n\u001b[1;32m    754\u001b[0m                     \u001b[0mX\u001b[0m\u001b[0;34m,\u001b[0m\u001b[0;34m\u001b[0m\u001b[0;34m\u001b[0m\u001b[0m\n",
            "\u001b[0;32m/usr/local/lib/python3.8/dist-packages/sklearn/metrics/pairwise.py\u001b[0m in \u001b[0;36mpairwise_distances_chunked\u001b[0;34m(X, Y, reduce_func, metric, n_jobs, working_memory, **kwds)\u001b[0m\n\u001b[1;32m   1724\u001b[0m         \u001b[0;32mif\u001b[0m \u001b[0mreduce_func\u001b[0m \u001b[0;32mis\u001b[0m \u001b[0;32mnot\u001b[0m \u001b[0;32mNone\u001b[0m\u001b[0;34m:\u001b[0m\u001b[0;34m\u001b[0m\u001b[0;34m\u001b[0m\u001b[0m\n\u001b[1;32m   1725\u001b[0m             \u001b[0mchunk_size\u001b[0m \u001b[0;34m=\u001b[0m \u001b[0mD_chunk\u001b[0m\u001b[0;34m.\u001b[0m\u001b[0mshape\u001b[0m\u001b[0;34m[\u001b[0m\u001b[0;36m0\u001b[0m\u001b[0;34m]\u001b[0m\u001b[0;34m\u001b[0m\u001b[0;34m\u001b[0m\u001b[0m\n\u001b[0;32m-> 1726\u001b[0;31m             \u001b[0mD_chunk\u001b[0m \u001b[0;34m=\u001b[0m \u001b[0mreduce_func\u001b[0m\u001b[0;34m(\u001b[0m\u001b[0mD_chunk\u001b[0m\u001b[0;34m,\u001b[0m \u001b[0msl\u001b[0m\u001b[0;34m.\u001b[0m\u001b[0mstart\u001b[0m\u001b[0;34m)\u001b[0m\u001b[0;34m\u001b[0m\u001b[0;34m\u001b[0m\u001b[0m\n\u001b[0m\u001b[1;32m   1727\u001b[0m             \u001b[0m_check_chunk_size\u001b[0m\u001b[0;34m(\u001b[0m\u001b[0mD_chunk\u001b[0m\u001b[0;34m,\u001b[0m \u001b[0mchunk_size\u001b[0m\u001b[0;34m)\u001b[0m\u001b[0;34m\u001b[0m\u001b[0;34m\u001b[0m\u001b[0m\n\u001b[1;32m   1728\u001b[0m         \u001b[0;32myield\u001b[0m \u001b[0mD_chunk\u001b[0m\u001b[0;34m\u001b[0m\u001b[0;34m\u001b[0m\u001b[0m\n",
            "\u001b[0;32m/usr/local/lib/python3.8/dist-packages/sklearn/neighbors/_base.py\u001b[0m in \u001b[0;36m_kneighbors_reduce_func\u001b[0;34m(self, dist, start, n_neighbors, return_distance)\u001b[0m\n\u001b[1;32m    632\u001b[0m         \"\"\"\n\u001b[1;32m    633\u001b[0m         \u001b[0msample_range\u001b[0m \u001b[0;34m=\u001b[0m \u001b[0mnp\u001b[0m\u001b[0;34m.\u001b[0m\u001b[0marange\u001b[0m\u001b[0;34m(\u001b[0m\u001b[0mdist\u001b[0m\u001b[0;34m.\u001b[0m\u001b[0mshape\u001b[0m\u001b[0;34m[\u001b[0m\u001b[0;36m0\u001b[0m\u001b[0;34m]\u001b[0m\u001b[0;34m)\u001b[0m\u001b[0;34m[\u001b[0m\u001b[0;34m:\u001b[0m\u001b[0;34m,\u001b[0m \u001b[0;32mNone\u001b[0m\u001b[0;34m]\u001b[0m\u001b[0;34m\u001b[0m\u001b[0;34m\u001b[0m\u001b[0m\n\u001b[0;32m--> 634\u001b[0;31m         \u001b[0mneigh_ind\u001b[0m \u001b[0;34m=\u001b[0m \u001b[0mnp\u001b[0m\u001b[0;34m.\u001b[0m\u001b[0margpartition\u001b[0m\u001b[0;34m(\u001b[0m\u001b[0mdist\u001b[0m\u001b[0;34m,\u001b[0m \u001b[0mn_neighbors\u001b[0m \u001b[0;34m-\u001b[0m \u001b[0;36m1\u001b[0m\u001b[0;34m,\u001b[0m \u001b[0maxis\u001b[0m\u001b[0;34m=\u001b[0m\u001b[0;36m1\u001b[0m\u001b[0;34m)\u001b[0m\u001b[0;34m\u001b[0m\u001b[0;34m\u001b[0m\u001b[0m\n\u001b[0m\u001b[1;32m    635\u001b[0m         \u001b[0mneigh_ind\u001b[0m \u001b[0;34m=\u001b[0m \u001b[0mneigh_ind\u001b[0m\u001b[0;34m[\u001b[0m\u001b[0;34m:\u001b[0m\u001b[0;34m,\u001b[0m \u001b[0;34m:\u001b[0m\u001b[0mn_neighbors\u001b[0m\u001b[0;34m]\u001b[0m\u001b[0;34m\u001b[0m\u001b[0;34m\u001b[0m\u001b[0m\n\u001b[1;32m    636\u001b[0m         \u001b[0;31m# argpartition doesn't guarantee sorted order, so we sort again\u001b[0m\u001b[0;34m\u001b[0m\u001b[0;34m\u001b[0m\u001b[0;34m\u001b[0m\u001b[0m\n",
            "\u001b[0;32m<__array_function__ internals>\u001b[0m in \u001b[0;36margpartition\u001b[0;34m(*args, **kwargs)\u001b[0m\n",
            "\u001b[0;32m/usr/local/lib/python3.8/dist-packages/numpy/core/fromnumeric.py\u001b[0m in \u001b[0;36margpartition\u001b[0;34m(a, kth, axis, kind, order)\u001b[0m\n\u001b[1;32m    837\u001b[0m \u001b[0;34m\u001b[0m\u001b[0m\n\u001b[1;32m    838\u001b[0m     \"\"\"\n\u001b[0;32m--> 839\u001b[0;31m     \u001b[0;32mreturn\u001b[0m \u001b[0m_wrapfunc\u001b[0m\u001b[0;34m(\u001b[0m\u001b[0ma\u001b[0m\u001b[0;34m,\u001b[0m \u001b[0;34m'argpartition'\u001b[0m\u001b[0;34m,\u001b[0m \u001b[0mkth\u001b[0m\u001b[0;34m,\u001b[0m \u001b[0maxis\u001b[0m\u001b[0;34m=\u001b[0m\u001b[0maxis\u001b[0m\u001b[0;34m,\u001b[0m \u001b[0mkind\u001b[0m\u001b[0;34m=\u001b[0m\u001b[0mkind\u001b[0m\u001b[0;34m,\u001b[0m \u001b[0morder\u001b[0m\u001b[0;34m=\u001b[0m\u001b[0morder\u001b[0m\u001b[0;34m)\u001b[0m\u001b[0;34m\u001b[0m\u001b[0;34m\u001b[0m\u001b[0m\n\u001b[0m\u001b[1;32m    840\u001b[0m \u001b[0;34m\u001b[0m\u001b[0m\n\u001b[1;32m    841\u001b[0m \u001b[0;34m\u001b[0m\u001b[0m\n",
            "\u001b[0;32m/usr/local/lib/python3.8/dist-packages/numpy/core/fromnumeric.py\u001b[0m in \u001b[0;36m_wrapfunc\u001b[0;34m(obj, method, *args, **kwds)\u001b[0m\n\u001b[1;32m     55\u001b[0m \u001b[0;34m\u001b[0m\u001b[0m\n\u001b[1;32m     56\u001b[0m     \u001b[0;32mtry\u001b[0m\u001b[0;34m:\u001b[0m\u001b[0;34m\u001b[0m\u001b[0;34m\u001b[0m\u001b[0m\n\u001b[0;32m---> 57\u001b[0;31m         \u001b[0;32mreturn\u001b[0m \u001b[0mbound\u001b[0m\u001b[0;34m(\u001b[0m\u001b[0;34m*\u001b[0m\u001b[0margs\u001b[0m\u001b[0;34m,\u001b[0m \u001b[0;34m**\u001b[0m\u001b[0mkwds\u001b[0m\u001b[0;34m)\u001b[0m\u001b[0;34m\u001b[0m\u001b[0;34m\u001b[0m\u001b[0m\n\u001b[0m\u001b[1;32m     58\u001b[0m     \u001b[0;32mexcept\u001b[0m \u001b[0mTypeError\u001b[0m\u001b[0;34m:\u001b[0m\u001b[0;34m\u001b[0m\u001b[0;34m\u001b[0m\u001b[0m\n\u001b[1;32m     59\u001b[0m         \u001b[0;31m# A TypeError occurs if the object does have such a method in its\u001b[0m\u001b[0;34m\u001b[0m\u001b[0;34m\u001b[0m\u001b[0;34m\u001b[0m\u001b[0m\n",
            "\u001b[0;31mKeyboardInterrupt\u001b[0m: "
          ]
        }
      ]
    },
    {
      "cell_type": "code",
      "source": [
        "\n",
        "from sklearn.metrics import precision_recall_curve\n",
        "from sklearn.metrics import accuracy_score\n",
        "from sklearn.metrics import confusion_matrix\n",
        "from sklearn.metrics import classification_report\n",
        "\n",
        "from sklearn.metrics import roc_curve,roc_auc_score"
      ],
      "metadata": {
        "id": "WlMBnU3VK7WQ"
      },
      "execution_count": null,
      "outputs": []
    },
    {
      "cell_type": "code",
      "source": [
        "accuracy_score(y_test,y)\n"
      ],
      "metadata": {
        "id": "lKmG9xtMLE-R"
      },
      "execution_count": null,
      "outputs": []
    },
    {
      "cell_type": "code",
      "source": [
        "roc_auc_score(y_test,y)"
      ],
      "metadata": {
        "id": "tTPtkLBGLLDT"
      },
      "execution_count": null,
      "outputs": []
    },
    {
      "cell_type": "code",
      "source": [],
      "metadata": {
        "id": "tNR6v6c0LRFJ"
      },
      "execution_count": null,
      "outputs": []
    }
  ]
}