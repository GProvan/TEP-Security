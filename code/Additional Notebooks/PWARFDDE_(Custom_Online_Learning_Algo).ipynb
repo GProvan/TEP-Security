{
  "nbformat": 4,
  "nbformat_minor": 0,
  "metadata": {
    "colab": {
      "provenance": []
    },
    "kernelspec": {
      "name": "python3",
      "display_name": "Python 3"
    },
    "language_info": {
      "name": "python"
    }
  },
  "cells": [
    {
      "cell_type": "markdown",
      "source": [
        "# Probabilistically Weighted Adaptive Random Forest Drift Detection Ensemble Classification Framework (PWARFDDE)"
      ],
      "metadata": {
        "id": "dEvRVfpQ5jfl"
      }
    },
    {
      "cell_type": "markdown",
      "source": [
        "## The Problem of Batch Learning for NIDS\n",
        "Concept drift means that the statistical properties of the target variable, which the model is trying to predict, change over time in unforeseen ways. This causes problems because the predictions become less accurate as time passes.\n",
        "\n",
        "This is a pressing issue in the sphere of Intrusion Detection Systems and is obvious when examining our offline machine learning models. \n",
        "\n",
        "In traditional batch learning approaches, data is accumulated over a period of time. The machine learning model is then trained with this accumulated data from time to time in batches. It is the direct opposite of online learning because the model is unable to learn incrementally from a stream of live data. In batch learning, the machine learning algorithm updates its parameters only after consuming batches of new data.\n",
        "‍\n",
        "The fact that models are trained with large batches of accumulated data means that more time and resources such as CPU, memory space, and disk input/output are needed. It also takes longer to push models to production because this can only be done at certain intervals based on the performance of the model after being trained with new data.\n",
        "‍\n",
        "If a model that has been trained using batch learning needs to learn about new data, it must be retrained using the new dataset. \n",
        "\n",
        "While it is often a robust approach, when the data is changing constantly and quickly, this approach fails to adapt to the new properties of the data at a rate that leads to satisfactory models. As such on the NSL-KDD dataset, as the dataset was pre-split. Meaning we didnt have to train test split, there were underlying properties to the test set that we had no exposure too. As such it was impossible for our models to learn these nuisances and thus the accuracy for both Deep Learning and Classical approaches struggled to break the 80% accuracy barrier. \n",
        "\n",
        "While the 80% accuracy, in theory isnt too unacceptable, the problem lies in the Type I and Type II error distributions for these approaches. All the batch learning approaches suffered from a high rate of Type II. In the case of NIDS (Network intrusion Detection Systems), Type I error (false positive). A false positive state is when the NIDS identifies an activity as an attack but the activity is acceptable behavior. A false positive is a false alarm. Type II (false negative) is the most serious and dangerous state. This is when the IDS identifies an activity as acceptable when the activity is actually an attack. That is, a false negative is when the IDS fails to catch an attack. This is the most dangerous state since the security professional has no idea that an attack took place. False positives, on the other hand, are an inconvenience at best and can cause significant issues. However, with the right amount of overhead, false positives can be successfully adjudicated; false negatives cannot.\n",
        "\n",
        "Thus it is absolute vital that we reduce Type II error as much as possible."
      ],
      "metadata": {
        "id": "xyCTQFm-5mr9"
      }
    },
    {
      "cell_type": "markdown",
      "source": [
        "## Setup "
      ],
      "metadata": {
        "id": "dZzEaZgzA8yO"
      }
    },
    {
      "cell_type": "code",
      "source": [
        "pip install river"
      ],
      "metadata": {
        "colab": {
          "base_uri": "https://localhost:8080/"
        },
        "id": "3x2qIc10BNJl",
        "outputId": "932e24bc-bf72-4b73-8ea5-d7ce11248d9a"
      },
      "execution_count": null,
      "outputs": [
        {
          "output_type": "stream",
          "name": "stdout",
          "text": [
            "Looking in indexes: https://pypi.org/simple, https://us-python.pkg.dev/colab-wheels/public/simple/\n",
            "Collecting river\n",
            "  Downloading river-0.10.1-cp37-cp37m-manylinux_2_5_x86_64.manylinux1_x86_64.manylinux_2_17_x86_64.manylinux2014_x86_64.whl (2.0 MB)\n",
            "\u001b[K     |████████████████████████████████| 2.0 MB 4.8 MB/s \n",
            "\u001b[?25hRequirement already satisfied: numpy>=1.20.0 in /usr/local/lib/python3.7/dist-packages (from river) (1.21.6)\n",
            "Requirement already satisfied: pandas>=1.0.1 in /usr/local/lib/python3.7/dist-packages (from river) (1.3.5)\n",
            "Requirement already satisfied: scipy>=1.4.1 in /usr/local/lib/python3.7/dist-packages (from river) (1.7.3)\n",
            "Requirement already satisfied: pytz>=2017.3 in /usr/local/lib/python3.7/dist-packages (from pandas>=1.0.1->river) (2022.4)\n",
            "Requirement already satisfied: python-dateutil>=2.7.3 in /usr/local/lib/python3.7/dist-packages (from pandas>=1.0.1->river) (2.8.2)\n",
            "Requirement already satisfied: six>=1.5 in /usr/local/lib/python3.7/dist-packages (from python-dateutil>=2.7.3->pandas>=1.0.1->river) (1.15.0)\n",
            "Installing collected packages: river\n",
            "Successfully installed river-0.10.1\n"
          ]
        }
      ]
    },
    {
      "cell_type": "code",
      "source": [
        "import seaborn as sns\n",
        "from sklearn.preprocessing import OneHotEncoder\n",
        "from sklearn.preprocessing import RobustScaler, StandardScaler\n",
        "\n",
        "import tensorflow as tf\n",
        "\n",
        "import numpy as np\n",
        "import pandas as pd\n",
        "import warnings\n",
        "import matplotlib.pyplot as plt\n",
        "import seaborn as sns\n",
        "\n",
        "\n",
        "from sklearn.decomposition import PCA\n",
        "from sklearn import tree\n",
        "from sklearn.naive_bayes import GaussianNB\n",
        "from sklearn.linear_model import LogisticRegression\n",
        "from sklearn.neighbors import KNeighborsClassifier\n",
        "\n",
        "from sklearn.tree import DecisionTreeClassifier\n",
        "from sklearn.preprocessing import RobustScaler\n",
        "from sklearn.ensemble import RandomForestClassifier\n",
        "from river.drift import DDM, ADWIN,EDDM,HDDM_A,HDDM_W,KSWIN,PageHinkley\n",
        "from sklearn.model_selection import train_test_split\n",
        "from sklearn import svm\n",
        "from sklearn.neighbors import KNeighborsClassifier\n",
        "from sklearn.model_selection import RepeatedKFold\n",
        "from sklearn.pipeline import Pipeline\n",
        "from sklearn.metrics import classification_report\n",
        "from xgboost import XGBClassifier\n",
        "from lightgbm import LGBMClassifier\n",
        "from sklearn import metrics\n",
        "\n",
        "pd.set_option('display.max_columns',None)\n",
        "warnings.filterwarnings('ignore')\n",
        "from sklearn.metrics import roc_curve,accuracy_score,f1_score,auc,confusion_matrix,roc_auc_score,plot_confusion_matrix\n",
        "%matplotlib inline \n",
        "from river import metrics\n",
        "from river import stream\n",
        "from river import tree,neighbors,naive_bayes,ensemble,linear_model\n",
        "from river.drift import DDM, ADWIN\n",
        "import pandas as pd\n",
        "import numpy as np\n",
        "import matplotlib.pyplot as plt\n",
        "import seaborn as sns\n",
        "from sklearn.model_selection import train_test_split\n",
        "from sklearn.metrics import classification_report,confusion_matrix,accuracy_score, precision_score, recall_score, f1_score\n",
        "import lightgbm as lgb\n",
        "import time"
      ],
      "metadata": {
        "id": "8SXBojj3BJVd"
      },
      "execution_count": null,
      "outputs": []
    },
    {
      "cell_type": "code",
      "source": [
        "def quick_report(y_test_qr, y_pred_qr):\n",
        "    print(\"Accuracy: \"+ str(accuracy_score(y_test_qr, y_pred_qr)))\n",
        "    print(classification_report(y_test_qr, y_pred_qr))"
      ],
      "metadata": {
        "id": "LrBf529qEdQs"
      },
      "execution_count": null,
      "outputs": []
    },
    {
      "cell_type": "code",
      "source": [
        "# unzip our pre processed data (ie x_train, y_train ... etc.)\n",
        "# Works for Google Collab, have not tried for jupyter notebook (will probably need specific path)\n",
        "!unzip /content/Processed_Data.zip"
      ],
      "metadata": {
        "colab": {
          "base_uri": "https://localhost:8080/"
        },
        "id": "HmyQi05_E0wE",
        "outputId": "6d24172e-98a0-4abb-9c8d-3ca9a305e0af"
      },
      "execution_count": null,
      "outputs": [
        {
          "output_type": "stream",
          "name": "stdout",
          "text": [
            "Archive:  /content/Processed_Data.zip\n",
            "   creating: Processed_Data/\n",
            "  inflating: Processed_Data/x_train.csv  \n",
            "  inflating: __MACOSX/Processed_Data/._x_train.csv  \n",
            "  inflating: Processed_Data/y_train.csv  \n",
            "  inflating: __MACOSX/Processed_Data/._y_train.csv  \n",
            "  inflating: Processed_Data/y_test.csv  \n",
            "  inflating: __MACOSX/Processed_Data/._y_test.csv  \n",
            "  inflating: Processed_Data/x_test.csv  \n",
            "  inflating: __MACOSX/Processed_Data/._x_test.csv  \n"
          ]
        }
      ]
    },
    {
      "cell_type": "code",
      "source": [
        "from numpy import loadtxt\n",
        "def load_preprocessed_data(path):\n",
        "  x_train = loadtxt(\"{}/x_train.csv\".format(path), delimiter=',')\n",
        "  y_train = loadtxt(\"{}/y_train.csv\".format(path), delimiter=',')\n",
        "  x_test  = loadtxt(\"{}/x_test.csv\".format(path), delimiter=',')\n",
        "  y_test  = loadtxt(\"{}/y_test.csv\".format(path), delimiter=',')\n",
        "  return x_train, y_train, x_test, y_test\n",
        "\n",
        "x_train, y_train, x_test, y_test = load_preprocessed_data('/content/Processed_Data')\n",
        "# reduced data size for faster training / predictions for testing \n",
        "x_train_reduced = x_train[0:1000,:]\n",
        "y_train_reduced = y_train[0:1000]\n",
        "x_test_reduced = x_test[0:1000,:]\n",
        "y_test_reduced = y_test[0:1000]"
      ],
      "metadata": {
        "id": "cbGKCN6oFIzZ"
      },
      "execution_count": null,
      "outputs": []
    },
    {
      "cell_type": "markdown",
      "source": [
        "## Proposed Approach based on Research"
      ],
      "metadata": {
        "id": "bbZSmnVfyPTL"
      }
    },
    {
      "cell_type": "markdown",
      "source": [
        "### Model based on the work done in the following Papers\n",
        "[Adaptive random forests for evolving data stream classification](https://link.springer.com/article/10.1007/s10994-017-5642-8)\n",
        "\n",
        "[A Machine Learning Approach to Brain Tumors Segmentation Using Adaptive Random Forest Algorithm](https://ieeexplore.ieee.org/abstract/document/8735072?casa_token=335DFkHuV0YAAAAA:HzRCbruNEcLQ0d6VYlV_BrZJTKW-DHv8ofBmlmilPHDAFddsH9nRSvrdh6lUrO0gAF-Ga8LX6A)\n",
        "\n",
        "[Anomalies Detection Using Isolation in Concept-Drifting Data Streams](https://www.mdpi.com/2073-431X/10/1/13)\n",
        "\n",
        "[Stream-based Machine Learning for Network Security and Anomaly Detection](https://dl.acm.org/doi/abs/10.1145/3229607.3229612)\n",
        "\n",
        "[Ensemble Methods in Machine Learning](https://link.springer.com/chapter/10.1007/3-540-45014-9_1)\n",
        "\n",
        "[Weighted ensemble of statistical models](https://www.sciencedirect.com/science/article/pii/S0169207019301190?casa_token=nR4Gh0sXnYoAAAAA:YVVVCGeJ-FWdVivJQDTilmw8K5Mg4zxKA-RhvZaEwlesszRVmowQcBaooOiU8Cd-6NQv1kvf)\n",
        "\n",
        "[Fast Unsupervised Online Drift Detection Using Incremental Kolmogorov-Smirnov Test](https://dl.acm.org/doi/abs/10.1145/2939672.2939836?casa_token=okL37GZo3OUAAAAA:YszvO8XEMu_0QSatSzOzQDWLclvi_fTEF2_V4sCAJabCvD4W6sTyFmMRDJkUPkrGDPwx7UbGp7_V)\n",
        "\n",
        "[Comparative Evaluation of the Supervised Machine Learning Classification Methods and the Concept Drift Detection Methods in the Financial Business Problems](https://link.springer.com/chapter/10.1007/978-3-030-75418-1_13)\n",
        "\n",
        "[Lightweight adaptive Random-Forest for IoT rule generation and execution](https://www.sciencedirect.com/science/article/pii/S2214212616302332?casa_token=Ldhh0AONnocAAAAA:X7gJlkJn1jFLn97Wzhr8533w7UkzsmMOML0M8Ojx1mZ0Q1YDC8Du4WcC8HmRoq3dfivL7jaa)\n",
        "\n",
        "[A Multi-Stage Automated Online Network Data Stream Analytics Framework for IIoT Systems](https://arxiv.org/abs/2210.01985)\n",
        "\n",
        "[Learning with Drift Detection](https://link.springer.com/chapter/10.1007/978-3-540-28645-5_29)\n",
        "\n",
        "[Online Ensemble Using Adaptive Windowing for Data Streams with Concept Drift](https://journals.sagepub.com/doi/full/10.1155/2016/4218973)\n",
        "\n",
        "[Early Drift Detection Method](https://d1wqtxts1xzle7.cloudfront.net/48905428/Early_Drift_Detection_Method_20160917-1085-1m513qn-with-cover-page-v2.pdf?Expires=1665862560&Signature=aEtMrhX7j8SI~-akhnqouNvDeT1cLfY72heLVbA21MXITtkVf0DWG0oNtIiMANQLlQtVbd5s~a0tna~mA1TCPmm8VHA5yg3XPJp4mxRTlug3LzJ-BcHhlnGZbqgHiabRvbDMIuaElDC9dEHFOISvWHC2rzzh3gibvQdKFLH72wg5bZ2qKY1icOw3fIrP~Mp4e8ArPP21VIuUyL3ksYkDDmn14LMG95vT-nRlA85-E6Rp4NsNWdjGPh3h12X9oSRxsQ-~2leOLnt~4TCfUUIMVK4KbEDGys5xrMddjHooOEjRJSeEwb3xzqybPh0vbnwQXNhfIWw~ybxcva6RGDpbMQ__&Key-Pair-Id=APKAJLOHF5GGSLRBV4ZA)\n",
        "\n",
        "[Streaming Random Patches for Evolving Data Stream Classification](https://ieeexplore.ieee.org/document/8970784)\n",
        "\n",
        "[PWPAE: An Ensemble Framework for Concept Drift Adaptation in IoT Data Streams](https://ieeexplore.ieee.org/document/9685338)\n",
        "\n",
        "[Learning from Time-Changing Data with Adaptive Windowing](https://epubs.siam.org/doi/abs/10.1137/1.9781611972771.42)\n",
        "\n",
        "[Self-Adaptive Windowing Approach for Handling Complex Concept Drift](https://link.springer.com/article/10.1007/s12559-015-9341-0)\n",
        "\n",
        "[A Lightweight Concept Drift Detection and Adaptation Framework for IoT Data Streams](https://ieeexplore.ieee.org/document/9427288)"
      ],
      "metadata": {
        "id": "gngIpX4gyWps"
      }
    },
    {
      "cell_type": "markdown",
      "source": [
        "### Proposed Structure\n",
        "- Various Ensemble Adaptive Random Forest Classifiers are trained, each stacked with a different drift detection algorithm. \n",
        "- These models are trained using a data stream / online machine learning approach. (data is passed point by point)\n",
        "- Once the models are trained they are then used to predict the test data. \n",
        "- The test data is also streamed. \n",
        "-  Several variables need to be tracked for each pass, they include; <br>\n",
        "    - Accuracy of ensemble model (stacked)\n",
        "    - Accuracy of each individual ensemble method\n",
        "    - Error rate for each model and overall model (used for weighting)\n",
        "    - The predicted class and probability from each model \n",
        "- For each pass the following will occur; <br>\n",
        "    1. Each of the models will predict the ith target \n",
        "    2. The prediction is compared vs the true value and the accuracy for each model is updating accordingly \n",
        "    3. We calculate a new error rate based on the accuracy of the model (1 - accuracy)\n",
        "    4. We calculate the accumalative error rate\n",
        "    5. We calculate the weighting for each model ((1 - model error) / total error) \n",
        "    6. For each model we get the probability of the ith target belonging to each class (we are assuming binary classification) \n",
        "    7. The total probability is calculated for each class using weight * model probability\n",
        "    8. The ensemble model will classify the target simply based on the larger probabilty\n",
        "    9. Update the ensemble accuracy \n",
        "    10. Repeat until we have worked through entire data stream\n",
        "\n",
        "#### Misc / Extra \n",
        "- Tracking various variables so we can visualise the training and accuracy (e.g. So we can utilize our custom classification Report Functions)\n",
        "- Build in a data pre processing pipeline to the overall model structure. \n",
        "    - By doing this it will allow the ability to simply feedback a raw data set and specify the target and the model will do the rest. \n",
        "    - Will need imputation methods for both categorical and numeric\n",
        "    - Will need encoding for categorical \n",
        "    - Will need scaling for numeric \n",
        "    - Additional features such as feature selection and dimension reduction techniques could be considered.\n",
        "    - Given the nature of the problem, will need to consider imbalanced data sets and techniques to combat this such as Over/under sampling/ SMOTE etc.\n",
        "    - Potential to expand to multi class problems?? - Will need to rework weighting and ensemble classification approach but definitely doable"
      ],
      "metadata": {
        "id": "Tv4kdey5x5iY"
      }
    },
    {
      "cell_type": "markdown",
      "source": [
        "### Model"
      ],
      "metadata": {
        "id": "MtlnMysuB1qh"
      }
    },
    {
      "cell_type": "markdown",
      "source": [
        "#### Analysis Functions"
      ],
      "metadata": {
        "id": "5qZKE2wdDHcI"
      }
    },
    {
      "cell_type": "code",
      "source": [
        "# Define a figure function that shows the real-time accuracy changes\n",
        "def accuracy_plot(samples, real_time_accuracy, model_name, dataset_name):\n",
        "    plt.rcParams.update({'font.size': 15})\n",
        "    plt.figure(1,figsize=(10,6)) \n",
        "    sns.set_style(\"whitegrid\")\n",
        "    plt.clf() \n",
        "    plt.plot(samples,real_time_accuracy,'-r',label='Avg Accuracy: %.2f%%'%(real_time_accuracy[-1]))\n",
        "    plt.legend(loc='best')\n",
        "    plt.title(model_name+' on ' + dataset_name, fontsize=15)\n",
        "    plt.xlabel('Number of samples')\n",
        "    plt.ylabel('Accuracy (%)')\n",
        "    plt.draw()"
      ],
      "metadata": {
        "id": "FZCMv6dADK0x"
      },
      "execution_count": null,
      "outputs": []
    },
    {
      "cell_type": "code",
      "source": [
        "pip install scikit-plot"
      ],
      "metadata": {
        "colab": {
          "base_uri": "https://localhost:8080/"
        },
        "id": "wHJh-GwIhwuy",
        "outputId": "b262c4c6-2225-40a6-b742-84fc6dfa6ff0"
      },
      "execution_count": null,
      "outputs": [
        {
          "output_type": "stream",
          "name": "stdout",
          "text": [
            "Looking in indexes: https://pypi.org/simple, https://us-python.pkg.dev/colab-wheels/public/simple/\n",
            "Collecting scikit-plot\n",
            "  Downloading scikit_plot-0.3.7-py3-none-any.whl (33 kB)\n",
            "Requirement already satisfied: matplotlib>=1.4.0 in /usr/local/lib/python3.7/dist-packages (from scikit-plot) (3.2.2)\n",
            "Requirement already satisfied: scipy>=0.9 in /usr/local/lib/python3.7/dist-packages (from scikit-plot) (1.7.3)\n",
            "Requirement already satisfied: joblib>=0.10 in /usr/local/lib/python3.7/dist-packages (from scikit-plot) (1.2.0)\n",
            "Requirement already satisfied: scikit-learn>=0.18 in /usr/local/lib/python3.7/dist-packages (from scikit-plot) (1.0.2)\n",
            "Requirement already satisfied: python-dateutil>=2.1 in /usr/local/lib/python3.7/dist-packages (from matplotlib>=1.4.0->scikit-plot) (2.8.2)\n",
            "Requirement already satisfied: numpy>=1.11 in /usr/local/lib/python3.7/dist-packages (from matplotlib>=1.4.0->scikit-plot) (1.21.6)\n",
            "Requirement already satisfied: kiwisolver>=1.0.1 in /usr/local/lib/python3.7/dist-packages (from matplotlib>=1.4.0->scikit-plot) (1.4.4)\n",
            "Requirement already satisfied: cycler>=0.10 in /usr/local/lib/python3.7/dist-packages (from matplotlib>=1.4.0->scikit-plot) (0.11.0)\n",
            "Requirement already satisfied: pyparsing!=2.0.4,!=2.1.2,!=2.1.6,>=2.0.1 in /usr/local/lib/python3.7/dist-packages (from matplotlib>=1.4.0->scikit-plot) (3.0.9)\n",
            "Requirement already satisfied: typing-extensions in /usr/local/lib/python3.7/dist-packages (from kiwisolver>=1.0.1->matplotlib>=1.4.0->scikit-plot) (4.1.1)\n",
            "Requirement already satisfied: six>=1.5 in /usr/local/lib/python3.7/dist-packages (from python-dateutil>=2.1->matplotlib>=1.4.0->scikit-plot) (1.15.0)\n",
            "Requirement already satisfied: threadpoolctl>=2.0.0 in /usr/local/lib/python3.7/dist-packages (from scikit-learn>=0.18->scikit-plot) (3.1.0)\n",
            "Installing collected packages: scikit-plot\n",
            "Successfully installed scikit-plot-0.3.7\n"
          ]
        }
      ]
    },
    {
      "cell_type": "code",
      "source": [
        "import scikitplot as skplt\n",
        "def classification_custom_report(model,y_test_cp,y_pred_cp,x_test_cp,model_type,con_mat=True,class_report= True,metrics = True,\n",
        "                                 roc = True, time_ = True):\n",
        "    print('--------------- MODEL ACCURACY ---------------')\n",
        "    print('\\n')\n",
        "\n",
        "    print(\"Accuracy: \"+ str(accuracy_score(y_test_cp, y_pred_cp)))\n",
        "\n",
        "    cm = confusion_matrix(y_test_cp, y_pred_cp)\n",
        "    if con_mat==True:\n",
        "        print('--------------- CONFUSION MATRIX ---------------')\n",
        "        print('\\n')\n",
        "        cm_matrix = pd.DataFrame(data=cm, columns=['Actual Positive:1', 'Actual Negative:0'], \n",
        "                                     index=['Predict Positive:1', 'Predict Negative:0'])\n",
        "\n",
        "        sns.heatmap(cm_matrix, annot=True, fmt='d', cmap='YlGnBu')\n",
        "        plt.show()\n",
        "\n",
        "        print('\\nTrue Positives(TP) = ', cm[0,0])\n",
        "\n",
        "        print('\\nTrue Negatives(TN) = ', cm[1,1])\n",
        "\n",
        "        print('\\nFalse Positives(FP) (Type I Error) = ', cm[0,1])\n",
        "\n",
        "        print('\\nFalse Negatives(FN) (Type II Error) = ', cm[1,0])\n",
        "        \n",
        "    if class_report==True:\n",
        "\n",
        "        print('\\n')\n",
        "        print('--------------- CLASSIFICATION REPORT ---------------')\n",
        "        print('\\n')\n",
        "\n",
        "        print(classification_report(y_test_cp, y_pred_cp))\n",
        "    \n",
        "    if metrics==True:\n",
        "        \n",
        "        print('\\n')\n",
        "        print('--------------- PERFORMANCE METRICS ---------------')\n",
        "        print('\\n')\n",
        "\n",
        "        TP = cm[0,0]\n",
        "        TN = cm[1,1]\n",
        "        FP = cm[0,1]\n",
        "        FN = cm[1,0]\n",
        "\n",
        "        classification_accuracy = (TP + TN) / float(TP + TN + FP + FN)\n",
        "        print('Classification accuracy : {0:0.4f}'.format(classification_accuracy))\n",
        "\n",
        "        # print classification error\n",
        "\n",
        "        classification_error = (FP + FN) / float(TP + TN + FP + FN)\n",
        "\n",
        "        print('Classification error : {0:0.4f}'.format(classification_error))\n",
        "\n",
        "        # print precision score\n",
        "\n",
        "        precision = TP / float(TP + FP)\n",
        "\n",
        "\n",
        "        print('Precision : {0:0.4f}'.format(precision))\n",
        "\n",
        "        recall = TP / float(TP + FN)\n",
        "\n",
        "        print('Recall or Sensitivity : {0:0.4f}'.format(recall))\n",
        "\n",
        "        false_positive_rate = FP / float(FP + TN)\n",
        "        print('False Positive Rate : {0:0.4f}'.format(false_positive_rate))\n",
        "        specificity = TN / (TN + FP)\n",
        "        print('Specificity : {0:0.4f}'.format(specificity))\n",
        "    \n",
        "    if roc ==True:\n",
        "        if model_type==\"Classical\":\n",
        "            print('\\n')\n",
        "            print('----------------- ROC - AUC Curve -----------------')\n",
        "            print('\\n')\n",
        "\n",
        "            y_true = y_test # ground truth label\n",
        "            y_probas = model.predict_proba(x_test_cp) # predicted probabilities generated by sklearn classifier\n",
        "            plt.figure(1,figsize=(8,5)) \n",
        "            skplt.metrics.plot_roc(y_true, y_probas, figsize=(16,8), title_fontsize=25, text_fontsize=16, cmap='plasma')\n",
        "            plt.grid(False)\n",
        "            plt.show()\n",
        "            score = roc_auc_score(y_test,model.predict(x_test_cp))\n",
        "            print(\"Overall AUC: {:.3f}\" .format(score))\n",
        "        elif model_type==\"Deep\":\n",
        "\n",
        "        \n",
        "            print('\\n')\n",
        "            print('----------------- ROC - AUC Curve -----------------')\n",
        "            print('\\n')\n",
        "            y_pred_keras = model.predict(x_test_cp).ravel()\n",
        "            fpr_keras, tpr_keras, thresholds_keras = roc_curve(y_test_cp, y_pred_cp)\n",
        "            fpr_rf, tpr_rf, thresholds_rf = roc_curve(y_test_cp, y_pred_cp)\n",
        "            auc_rf = auc(fpr_rf, tpr_rf)\n",
        "            auc_keras = auc(fpr_keras, tpr_keras)\n",
        "\n",
        "\n",
        "            plt.figure(1,figsize=(8,5)) \n",
        "            plt.plot([0, 1], [0, 1], 'k--')\n",
        "            plt.plot(fpr_keras, tpr_keras, label='Keras (area = {:.3f})'.format(auc_keras))\n",
        "            plt.plot(fpr_rf, tpr_rf, label='RF (area = {:.3f})'.format(auc_rf))\n",
        "            plt.xlabel('False positive rate')\n",
        "            plt.ylabel('True positive rate')\n",
        "            plt.title('ROC curve')\n",
        "            plt.legend(loc='best')\n",
        "            plt.show()\n",
        "        \n",
        "\n",
        "        \n",
        "\n",
        "    if time_ == True:\n",
        "    \n",
        "        print('\\n')\n",
        "        print('----------------- Accuracy Over Time Graph -----------------')\n",
        "        print('\\n')\n",
        "        acc = []\n",
        "        acc_sum = 0\n",
        "        for i in range(0, len(y_test_cp)):\n",
        "            if y_test_cp[i] == y_pred_cp[i]:\n",
        "                acc_sum = acc_sum + 1  \n",
        "            accuracy = acc_sum/(i+1)\n",
        "            acc.append(accuracy)\n",
        "\n",
        "            # Plot the accuracy changes\n",
        "        plt.rcParams.update({'font.size': 20})\n",
        "        plt.figure(1,figsize=(8,5)) \n",
        "        plt.clf() \n",
        "        plt.plot(acc,'-b',label='Accuracy')\n",
        "\n",
        "\n",
        "\n",
        "        plt.legend(loc='best')\n",
        "        plt.title('Accuracy Change', fontsize=20)\n",
        "        plt.xlabel('Timestamp')\n",
        "        plt.ylabel('Accuracy')\n",
        "\n",
        "        plt.draw()\n",
        "\n",
        "    \n",
        "    \n",
        "    \n",
        "# Example of function call\n",
        "# classification_custom_report(rrf,y_test,y_pred,x_test)"
      ],
      "metadata": {
        "id": "ai5FDoQ8Dp8x"
      },
      "execution_count": null,
      "outputs": []
    },
    {
      "cell_type": "code",
      "source": [
        "import scikitplot as skplt\n",
        "from river import metrics\n",
        "def classification_custom_report_ensemble(y_test_cp,y_pred_cp,x_test_cp, data_indices, real_time_acc):\n",
        "    print('--------------- MODEL ACCURACY ---------------')\n",
        "    print('\\n')\n",
        "\n",
        "    print(\"Accuracy: \"+ str(accuracy_score(y_test_cp, y_pred_cp)))\n",
        "\n",
        "    cm = confusion_matrix(y_test_cp, y_pred_cp)\n",
        "  \n",
        "    print('--------------- CONFUSION MATRIX ---------------')\n",
        "    print('\\n')\n",
        "    cm_matrix = pd.DataFrame(data=cm, columns=['Actual Positive:1', 'Actual Negative:0'], \n",
        "                                  index=['Predict Positive:1', 'Predict Negative:0'])\n",
        "\n",
        "    sns.heatmap(cm_matrix, annot=True, fmt='d', cmap='YlGnBu')\n",
        "    plt.show()\n",
        "\n",
        "    print('\\nTrue Positives(TP) = ', cm[0,0])\n",
        "\n",
        "    print('\\nTrue Negatives(TN) = ', cm[1,1])\n",
        "\n",
        "    print('\\nFalse Positives(FP) (Type I Error) = ', cm[0,1])\n",
        "\n",
        "    print('\\nFalse Negatives(FN) (Type II Error) = ', cm[1,0])\n",
        "    \n",
        "\n",
        "\n",
        "    print('\\n')\n",
        "    print('--------------- CLASSIFICATION REPORT ---------------')\n",
        "    print('\\n')\n",
        "\n",
        "    print(classification_report(y_test_cp, y_pred_cp))\n",
        "\n",
        "\n",
        "    \n",
        "    print('\\n')\n",
        "    print('--------------- PERFORMANCE METRICS ---------------')\n",
        "    print('\\n')\n",
        "\n",
        "    TP = cm[0,0]\n",
        "    TN = cm[1,1]\n",
        "    FP = cm[0,1]\n",
        "    FN = cm[1,0]\n",
        "\n",
        "    classification_accuracy = (TP + TN) / float(TP + TN + FP + FN)\n",
        "    print('Classification accuracy : {0:0.4f}'.format(classification_accuracy))\n",
        "\n",
        "    # print classification error\n",
        "\n",
        "    classification_error = (FP + FN) / float(TP + TN + FP + FN)\n",
        "\n",
        "    print('Classification error : {0:0.4f}'.format(classification_error))\n",
        "\n",
        "    # print precision score\n",
        "\n",
        "    precision = TP / float(TP + FP)\n",
        "\n",
        "\n",
        "    print('Precision : {0:0.4f}'.format(precision))\n",
        "\n",
        "    recall = TP / float(TP + FN)\n",
        "\n",
        "    print('Recall or Sensitivity : {0:0.4f}'.format(recall))\n",
        "\n",
        "    false_positive_rate = FP / float(FP + TN)\n",
        "    print('False Positive Rate (Type I Error): {0:0.4f}'.format(false_positive_rate)) \n",
        "    false_negative_rate = FN / float(FN + TP)\n",
        "    print('False Negative Rate (Type II Error): {0:0.4f}'.format(false_negative_rate))\n",
        "    specificity = TN / (TN + FP)\n",
        "    print('Specificity : {0:0.4f}'.format(specificity))\n",
        "    metric_en = metrics.ROCAUC(n_thresholds=20)\n",
        "\n",
        "    for yt, yp in zip(y_test_cp, y_pred_cp):\n",
        "      metric_en = metric_en.update(yt, yp)\n",
        "    print(metric_en)\n",
        "\n",
        "    print('\\n')\n",
        "    print('----------------- Accuracy Over Time Graph -----------------')\n",
        "    print('\\n')\n",
        "\n",
        "    accuracy_plot(data_indices, real_time_acc,\"WPARFE\", 'NSL-KDD')\n",
        "\n",
        "    \n",
        "\n",
        "\n",
        "    \n",
        "\n",
        "        \n",
        "\n",
        "    \n",
        "    \n",
        "    \n",
        "# Example of function call\n",
        "# classification_custom_report(rrf,y_test,y_pred,x_test)"
      ],
      "metadata": {
        "id": "RXJSkz5hojT4"
      },
      "execution_count": null,
      "outputs": []
    },
    {
      "cell_type": "markdown",
      "source": [
        "#### Functions used in Algorithm"
      ],
      "metadata": {
        "id": "I58TTHl4B62k"
      }
    },
    {
      "cell_type": "code",
      "source": [
        "def stream_ensembled_model(X_train, y_train,k_train):\n",
        "  '''\n",
        "  Function to train the seperate models that make up ensemble model\n",
        "  param X_train: Training data for model containing the features -> NumPy Array\n",
        "  param y_train: Training data for model containing the target -> NumPy Array\n",
        "  return: Trained Models\n",
        "  '''\n",
        "  model1 = ensemble.AdaptiveRandomForestClassifier(n_models = 3, drift_detector = ADWIN(),warning_detector=ADWIN())\n",
        "  model2 = ensemble.AdaptiveRandomForestClassifier(n_models = 3, drift_detector = DDM(),warning_detector=DDM())# SRP-ADWIN\n",
        "  model3 = ensemble.AdaptiveRandomForestClassifier(n_models = 3, drift_detector = KSWIN(),warning_detector=KSWIN())\n",
        "  selector1 = feature_selection.VarianceThreshold(threshold = 0.1)\n",
        "  selector2 = feature_selection.SelectKBest(similarity=stats.PearsonCorr(),k=k_train)\n",
        "  for xi1, yi1 in stream.iter_array(X_train, y_train):\n",
        "    xi1 = selector1.transform_one(xi1)\n",
        "    xi1 = selector2.transform_one(xi1)\n",
        "    model1.learn_one(xi1,yi1)\n",
        "    model2.learn_one(xi1,yi1)\n",
        "    model3.learn_one(xi1,yi1)\n",
        "  return model1, model2, model3\n",
        "  \n",
        "\n",
        "def predict_stream(model, xi,yi):\n",
        "  '''\n",
        "  Function to predict target for data stream\n",
        "  param xi: The ith row of features\n",
        "  param yi: The ith target\n",
        "  return: Updated model, the predicted class and the probability predicted for that class\n",
        "  '''\n",
        "  y_pred= model.predict_one(xi) # get classification prediction (i.e. 0 or 1)\n",
        "  y_prob= model.predict_proba_one(xi) # get the probability (model confidence in prediction)\n",
        "  model.learn_one(xi,yi) # learn on data sample\n",
        "  return model, y_pred,y_prob\n",
        "\n",
        "  \n",
        "\n",
        "def update_metric(metric, y_pred,yi):\n",
        "  '''\n",
        "  Function to update our chosen metric (Accuracy)\n",
        "  param yi: The ith target\n",
        "  param y_pred: The predicted class\n",
        "  return: updated Accuracy\n",
        "  '''\n",
        "  metric = metric.update(yi, y_pred) # update metric with new results\n",
        "  return metric\n",
        "\n",
        "def calculate_error_rate(metric):\n",
        "  '''\n",
        "  Function to calculate error rate for model\n",
        "  param metric: Current Accuracy of model\n",
        "  return: Current Error Rate\n",
        "  '''\n",
        "  error_rate = 1-metric.get()\n",
        "  return error_rate\n",
        "\n",
        "def calculate_overall_error_rate(epsilon, e1,e2,e3):\n",
        "  '''\n",
        "  Function to calculate the ensemble error rate\n",
        "  param epsilon: Arbitrary small value to avoid division by 0 error\n",
        "  param e1: Error for Model 1 \n",
        "  param e2: Error for Model 2\n",
        "  param e3: Error for Model 3 \n",
        "  return: Current Overall Error Rate\n",
        "  '''\n",
        "  error1 =  1/(e1+epsilon)\n",
        "  error2 =  1/(e2+epsilon)\n",
        "  error3 =  1/(e3+epsilon)\n",
        "  overall_error = error1 + error2 + error3\n",
        "  return overall_error\n",
        "\n",
        "\n",
        "\n",
        "def calculate_weights(epsilon,overall_error, error):\n",
        "  '''\n",
        "  Function to calculate weighting for each model \n",
        "  Formula: w = (1/ model error + epsilon) / overall error\n",
        "  param epsilon: Arbitrary small value to avoid division by 0 error\n",
        "  param error: Error for Model\n",
        "  return: Weighting for Model\n",
        "  '''\n",
        "  weight = 1/(error + epsilon)/overall_error\n",
        "  return weight\n",
        "\n",
        "\n",
        "def model_classify(y_pred, y_prob):\n",
        "  '''\n",
        "  Function to classify the ith target\n",
        "  param y_pred: The predicted class\n",
        "  param y_prob: The probability predicted for that class\n",
        "  return: Probability that current target belongs to class 0/1\n",
        "  '''\n",
        "  if y_pred==1:\n",
        "    y_prob_equals_0 = 1-y_prob[1]\n",
        "    y_prob_equals_1 = y_prob[1]\n",
        "  else:\n",
        "    y_prob_equals_0 = y_prob[0]\n",
        "    y_prob_equals_1 = 1- y_prob[0]\n",
        "  return y_prob_equals_0, y_prob_equals_1\n",
        "\n",
        "\n",
        "def ensemble_classify(y_prob_equals_0, y_prob_equals_1):\n",
        "  '''\n",
        "  Function to classify the ith target\n",
        "  param y_prob_equals_0: The total probability that sample is class 0\n",
        "  param y_prob_equals_1: The total probability that sample is class 1\n",
        "  return: The predicted class and the probability predicted for that class\n",
        "  '''\n",
        "  if y_prob_equals_0 > y_prob_equals_1:\n",
        "    y_pred = 0\n",
        "    y_prob = y_prob_equals_0\n",
        "  else:\n",
        "    y_pred = 1\n",
        "    y_prob = y_prob_equals_1\n",
        "\n",
        "  return y_pred, y_prob\n",
        "  \n",
        "\n",
        "def summary_stats(yt,yp):\n",
        "  print(\"Accuracy: \"+str(round(accuracy_score(yt,yp),4)*100)+\"%\")\n",
        "  print(\"Precision: \"+str(round(precision_score(yt,yp),4)*100)+\"%\")\n",
        "  print(\"Recall: \"+str(round(recall_score(yt,yp),4)*100)+\"%\")\n",
        "  print(\"F1-score: \"+str(round(f1_score(yt,yp),4)*100)+\"%\")\n",
        "\n",
        "\n",
        "def quick_report(y_test_qr, y_pred_qr):\n",
        "    print(\"Accuracy: \"+ str(accuracy_score(y_test_qr, y_pred_qr)))\n",
        "    print(classification_report(y_test_qr, y_pred_qr))\n"
      ],
      "metadata": {
        "id": "RJPKCWIV9xbj"
      },
      "execution_count": null,
      "outputs": []
    },
    {
      "cell_type": "markdown",
      "source": [
        "#### Weighted Probability Adaptive Forest Ensemble Classifer Algorithm "
      ],
      "metadata": {
        "id": "EdqFEq5SCLaT"
      }
    },
    {
      "cell_type": "code",
      "source": [
        "\n",
        "# Weighted Probability Adaptive Forest Ensemble Classifer Model\n",
        "def WPARFE(X_train, y_train, X_test, y_test,k_train,k_test):\n",
        "  # --------------- Algorithm Set Up --------------- #\n",
        "\n",
        "  # declare variables\n",
        "  metric_overall = metrics.Accuracy() # track overall Accuracy\n",
        "  metric_adwin = metrics.Accuracy() # track adwin model Accuracy\n",
        "  metric_ddm = metrics.Accuracy() # track ddm model Accuracy\n",
        "  metric_kswin = metrics.Accuracy() # track kswin model Accuracy\n",
        "  i = 0 # counter\n",
        "  datapoints = [] # number of data points\n",
        "  real_time_accuracy = [] # track accuracy for plotting\n",
        "  y_true = [] # keep track of the actual class\n",
        "  y_predictions = [] # keep track of the predicted class\n",
        "\n",
        "  # --------------- Algorithm Training --------------- #\n",
        "  \n",
        "\n",
        "  # Call the Training Function\n",
        "  model_adwin, model_ddm, model_kswin = stream_ensembled_model(X_train, y_train,k_train)\n",
        "\n",
        "  # --------------- Algorithm Prediction --------------- #\n",
        "  selector1 = feature_selection.VarianceThreshold(threshold = 0.1)\n",
        "  selector2 = feature_selection.SelectKBest(similarity=stats.PearsonCorr(),k=k_test)\n",
        "  for xi, yi in stream.iter_array(X_test, y_test):\n",
        "    xi = selector1.transform_one(xi)\n",
        "    xi = selector2.transform_one(xi)\n",
        "    # Predict current stream of data for each model in ensemble\n",
        "    model_adwin, y_pred_adwin, y_prob_adwin = predict_stream(model_adwin, xi,yi)\n",
        "    model_ddm, y_pred_ddm, y_prob_ddm = predict_stream(model_ddm, xi,yi)\n",
        "    model_kswin, y_pred_kswin, y_prob_kswin = predict_stream(model_kswin, xi,yi)\n",
        "\n",
        "    # update the accuracy for each model based on prediction\n",
        "    metric_adwin =  update_metric(metric_adwin, y_pred_adwin, yi)\n",
        "    metric_ddm =  update_metric(metric_ddm, y_pred_ddm, yi)\n",
        "    metric_ddm =  update_metric(metric_ddm, y_pred_ddm, yi)\n",
        "\n",
        "    # calculate the error rate for each model\n",
        "    error_adwin = calculate_error_rate(metric_adwin)\n",
        "    error_ddm = calculate_error_rate(metric_ddm)\n",
        "    error_kswin = calculate_error_rate(metric_kswin)\n",
        "\n",
        "    # calculate the overall error rate\n",
        "    error_overall = calculate_overall_error_rate(0.0001, error_adwin, error_ddm, error_kswin)\n",
        "\n",
        "    # calculate the weight for each model\n",
        "    weight_adwin = calculate_weights(0.0001,error_overall, error_adwin)\n",
        "    weight_ddm = calculate_weights(0.0001,error_overall, error_ddm)\n",
        "    weight_kswin = calculate_weights(0.0001,error_overall, error_kswin)\n",
        "\n",
        "    # calculateb the probability the ith target belongs to Class 0/1 for each model\n",
        "    adwin_y_prob_equals_0, adwin_y_prob_equals_1 = model_classify(y_pred_adwin, y_prob_adwin)\n",
        "    ddm_y_prob_equals_0, ddm_y_prob_equals_1     = model_classify(y_pred_ddm, y_prob_ddm)\n",
        "    kswin_y_prob_equals_0, kswin_y_prob_equals_1 = model_classify(y_pred_kswin, y_prob_kswin)\n",
        "\n",
        "    # Total probability the ith target belongs to Class 0/1\n",
        "    y_prob_equals_0 = (weight_adwin * adwin_y_prob_equals_0) + (weight_ddm * ddm_y_prob_equals_0) + (weight_kswin * kswin_y_prob_equals_0) \n",
        "    y_prob_equals_1 = (weight_adwin * adwin_y_prob_equals_1) + (weight_ddm * ddm_y_prob_equals_1) + (weight_kswin * kswin_y_prob_equals_1) \n",
        "\n",
        "    # Use weighted probabilities to predict class for target\n",
        "    y_pred, y_prob = ensemble_classify(y_prob_equals_0, y_prob_equals_1)\n",
        "\n",
        "    # Update the overall model accuracy based on prediction\n",
        "    metric_overall = update_metric(metric_overall, y_pred,yi) \n",
        "\n",
        "     # --------------- Misc Variables for Plotting --------------- #\n",
        "\n",
        "    # add counter (used for plotting)\n",
        "    datapoints.append(i)\n",
        "    # add accuracy on current pass (used for plotting)\n",
        "    real_time_accuracy.append(metric_overall.get()*100)\n",
        "    # add the actual class of yi\n",
        "    y_true.append(yi)\n",
        "    # add the predicted class of yi \n",
        "    y_predictions.append(y_pred)\n",
        "    i+=1\n",
        "\n",
        "  # Call Summary Statistics for Models - needs work\n",
        "  summary_stats(y_true,y_predictions)\n",
        "\n",
        "  return datapoints, real_time_accuracy, y_predictions\n",
        "  "
      ],
      "metadata": {
        "id": "Kow3UKbCCSPw"
      },
      "execution_count": null,
      "outputs": []
    },
    {
      "cell_type": "code",
      "source": [
        "%%time\n",
        "a,b,c = WPARFE(x_train_reduced, y_train_reduced, x_test, y_test,10,15)"
      ],
      "metadata": {
        "colab": {
          "base_uri": "https://localhost:8080/"
        },
        "id": "7vOTP9d57KqV",
        "outputId": "ccada8f3-153a-4d0a-830d-c17f790274f1"
      },
      "execution_count": null,
      "outputs": [
        {
          "output_type": "stream",
          "name": "stdout",
          "text": [
            "Accuracy: 96.36%\n",
            "Precision: 96.28999999999999%\n",
            "Recall: 97.36%\n",
            "F1-score: 96.82%\n",
            "CPU times: user 2min 8s, sys: 681 ms, total: 2min 9s\n",
            "Wall time: 2min 13s\n"
          ]
        }
      ]
    },
    {
      "cell_type": "markdown",
      "source": [
        "##### Algorithm Split into Training and Predicting"
      ],
      "metadata": {
        "id": "qsN3FiJdCZEs"
      }
    },
    {
      "cell_type": "markdown",
      "source": [
        "###### Train"
      ],
      "metadata": {
        "id": "vHCkqFb1Cp7A"
      }
    },
    {
      "cell_type": "code",
      "source": [],
      "metadata": {
        "id": "CoBzyjdlztP7"
      },
      "execution_count": null,
      "outputs": []
    },
    {
      "cell_type": "code",
      "source": [
        "from river import stats\n",
        "from river import feature_selection\n",
        "def WPARFE_train(X_train, y_train):\n",
        "  model1 = ensemble.AdaptiveRandomForestClassifier(n_models = 3, drift_detector = ADWIN(),warning_detector=ADWIN(),seed=42)\n",
        "  model2 = ensemble.AdaptiveRandomForestClassifier(n_models = 3, drift_detector = DDM(),warning_detector=DDM(),seed=42)\n",
        "  model3 = ensemble.AdaptiveRandomForestClassifier(n_models = 3, drift_detector = KSWIN(),warning_detector=KSWIN(),seed=42)\n",
        "  selector1 = feature_selection.VarianceThreshold(threshold = 0.1)\n",
        "  selector2 = feature_selection.SelectKBest(similarity=stats.PearsonCorr(),k=15)\n",
        "  for xi1, yi1 in stream.iter_array(X_train, y_train):\n",
        "    xi1 = selector1.transform_one(xi1)\n",
        "    xi1 = selector2.transform_one(xi1)\n",
        "    model1.learn_one(xi1,yi1)\n",
        "    model2.learn_one(xi1,yi1)\n",
        "    model3.learn_one(xi1,yi1)\n",
        "  return model1, model2, model3\n",
        "\n"
      ],
      "metadata": {
        "id": "VCM4xq_rCiaE"
      },
      "execution_count": null,
      "outputs": []
    },
    {
      "cell_type": "code",
      "source": [
        "%%time\n",
        "model_adwin, model_ddm, model_kswin = WPARFE_train(x_train_reduced, y_train_reduced)"
      ],
      "metadata": {
        "id": "U9CFfYhQjVTa",
        "colab": {
          "base_uri": "https://localhost:8080/"
        },
        "outputId": "304712f4-d866-4c53-821a-6402c1513e5e"
      },
      "execution_count": null,
      "outputs": [
        {
          "output_type": "stream",
          "name": "stdout",
          "text": [
            "CPU times: user 6.71 s, sys: 48.2 ms, total: 6.76 s\n",
            "Wall time: 6.76 s\n"
          ]
        }
      ]
    },
    {
      "cell_type": "markdown",
      "source": [
        "###### Predict"
      ],
      "metadata": {
        "id": "08i_pHr0Cs8v"
      }
    },
    {
      "cell_type": "code",
      "source": [
        "from river import feature_selection\n",
        "def PWARFE_predict(X_test, y_test, model1,model2, model3):\n",
        "  metric_overall = metrics.Accuracy()\n",
        "  metric_adwin = metrics.Accuracy()\n",
        "  metric_ddm = metrics.Accuracy()\n",
        "  metric_kswin = metrics.Accuracy()\n",
        "\n",
        "  i = 0\n",
        "  datapoints = []\n",
        "  real_time_accuracy = []\n",
        "  y_true = []\n",
        "  y_predictions = []\n",
        "  model_adwin = model1 \n",
        "  model_ddm = model2\n",
        "  model_kswin = model3\n",
        "\n",
        "  selector1 = feature_selection.VarianceThreshold(threshold = 0.1)\n",
        "  selector2 = feature_selection.SelectKBest(similarity=stats.PearsonCorr(),k=15)\n",
        "  for xi, yi in stream.iter_array(X_test, y_test):\n",
        "    xi = selector1.transform_one(xi)\n",
        "    xi = selector2.transform_one(xi)\n",
        "    model_adwin, y_pred_adwin, y_prob_adwin = predict_stream(model_adwin, xi,yi)\n",
        "    model_ddm, y_pred_ddm, y_prob_ddm = predict_stream(model_ddm, xi,yi)\n",
        "    model_kswin, y_pred_kswin, y_prob_kswin = predict_stream(model_kswin, xi,yi)\n",
        "    \n",
        "\n",
        "    metric_adwin =  update_metric(metric_adwin, y_pred_adwin, yi)\n",
        "    metric_ddm =  update_metric(metric_ddm, y_pred_ddm, yi)\n",
        "    metric_kswin =  update_metric(metric_kswin, y_pred_kswin, yi)\n",
        "    \n",
        "\n",
        "    error_adwin = calculate_error_rate(metric_adwin)\n",
        "    error_ddm = calculate_error_rate(metric_ddm)\n",
        "    error_kswin = calculate_error_rate(metric_kswin)\n",
        "\n",
        "\n",
        "    error_overall = calculate_overall_error_rate(0.0001, error_adwin, error_ddm, error_kswin)\n",
        "\n",
        "    weight_adwin = calculate_weights(0.0001,error_overall, error_adwin)\n",
        "    weight_ddm = calculate_weights(0.0001,error_overall, error_ddm)\n",
        "    weight_kswin = calculate_weights(0.0001,error_overall, error_kswin)\n",
        "    \n",
        "\n",
        "    adwin_y_prob_equals_0, adwin_y_prob_equals_1 = model_classify(y_pred_adwin, y_prob_adwin)\n",
        "    ddm_y_prob_equals_0, ddm_y_prob_equals_1     = model_classify(y_pred_ddm, y_prob_ddm)\n",
        "    kswin_y_prob_equals_0, kswin_y_prob_equals_1 = model_classify(y_pred_kswin, y_prob_kswin)\n",
        "   \n",
        "    y_prob_equals_0 = (weight_adwin * adwin_y_prob_equals_0) + (weight_ddm * ddm_y_prob_equals_0) + (weight_kswin * kswin_y_prob_equals_0)  \n",
        "    y_prob_equals_1 = (weight_adwin * adwin_y_prob_equals_1) + (weight_ddm * ddm_y_prob_equals_1) + (weight_kswin * kswin_y_prob_equals_1) \n",
        "\n",
        "    y_pred, y_prob = ensemble_classify(y_prob_equals_0, y_prob_equals_1)\n",
        "\n",
        "    metric_overall = update_metric(metric_overall, y_pred,yi) \n",
        "\n",
        "    datapoints.append(i)\n",
        "    real_time_accuracy.append(metric_overall.get()*100)\n",
        "    y_true.append(yi)\n",
        "    y_predictions.append(y_pred)\n",
        "    i+=1\n",
        "\n",
        "  summary_stats(y_true,y_predictions)\n",
        "\n",
        "  return datapoints, real_time_accuracy, y_predictions\n"
      ],
      "metadata": {
        "id": "6d18HUcaCngs"
      },
      "execution_count": null,
      "outputs": []
    },
    {
      "cell_type": "code",
      "source": [
        "%%time\n",
        "data_indices, real_time_acc, y_pred_PWARFE = PWARFE_predict(x_test, y_test, model_adwin, model_ddm, model_kswin)"
      ],
      "metadata": {
        "colab": {
          "base_uri": "https://localhost:8080/"
        },
        "id": "ub4q35bxjelC",
        "outputId": "958a1cf4-10d9-4eed-f5a7-bfaff7ce3f0b"
      },
      "execution_count": null,
      "outputs": [
        {
          "output_type": "stream",
          "name": "stdout",
          "text": [
            "Accuracy: 97.00999999999999%\n",
            "Precision: 96.86%\n",
            "Recall: 97.92999999999999%\n",
            "F1-score: 97.39%\n",
            "CPU times: user 3min 26s, sys: 995 ms, total: 3min 27s\n",
            "Wall time: 3min 28s\n"
          ]
        }
      ]
    },
    {
      "cell_type": "code",
      "source": [
        "accuracy_plot(data_indices, real_time_acc,\"WPARFE\", 'NSL-KDD')"
      ],
      "metadata": {
        "colab": {
          "base_uri": "https://localhost:8080/",
          "height": 416
        },
        "id": "aJV3g8G4mm-v",
        "outputId": "d91edfbe-c074-4b5b-b016-69d9d3c6d13f"
      },
      "execution_count": null,
      "outputs": [
        {
          "output_type": "display_data",
          "data": {
            "text/plain": [
              "<Figure size 720x432 with 1 Axes>"
            ],
            "image/png": "[encoded data removed]"
          },
          "metadata": {
            "needs_background": "light"
          }
        }
      ]
    },
    {
      "cell_type": "code",
      "source": [
        "import pickle\n",
        "def save_model(model,model_name):\n",
        "  '''\n",
        "  Function to save our trained classical machine learning models\n",
        "  :param model: The trained machine learning model\n",
        "  :param filename: The filepath where we want to save the model\n",
        "  '''\n",
        "  pkl_filename = \"{}.pkl\".format(model_name)\n",
        "  with open(pkl_filename, 'wb') as file:\n",
        "      pickle.dump(model, file)\n",
        "\n",
        "\n",
        "def open_dumped_cross_validation(filename):\n",
        "    file = open(filename, \"rb\")\n",
        "    output = pickle.load(file)\n",
        "    return output\n"
      ],
      "metadata": {
        "id": "c4ZkBt5mh_oM"
      },
      "execution_count": null,
      "outputs": []
    },
    {
      "cell_type": "code",
      "source": [
        "save_model(model_adwin, \"model_adwin_v1_97\")\n",
        "save_model(model_ddm, \"model_ddm_v1_97\")\n",
        "save_model(model_kswin, \"model_kswin_v1_97\")"
      ],
      "metadata": {
        "id": "sxwwXxG7irTJ"
      },
      "execution_count": null,
      "outputs": []
    },
    {
      "cell_type": "code",
      "source": [
        "\n",
        "classification_custom_report_ensemble(y_test,y_pred_WPARFE,x_test, data_indices, real_time_acc)"
      ],
      "metadata": {
        "colab": {
          "base_uri": "https://localhost:8080/",
          "height": 1000
        },
        "id": "5-d8cInonn0u",
        "outputId": "c86dade3-e7e3-4482-bc8e-5cd29716d622"
      },
      "execution_count": null,
      "outputs": [
        {
          "output_type": "stream",
          "name": "stdout",
          "text": [
            "--------------- MODEL ACCURACY ---------------\n",
            "\n",
            "\n",
            "Accuracy: 0.9608765081618169\n",
            "--------------- CONFUSION MATRIX ---------------\n",
            "\n",
            "\n"
          ]
        },
        {
          "output_type": "display_data",
          "data": {
            "text/plain": [
              "<Figure size 432x288 with 2 Axes>"
            ],
            "image/png": "[encoded data removed]"
          },
          "metadata": {}
        },
        {
          "output_type": "stream",
          "name": "stdout",
          "text": [
            "\n",
            "True Positives(TP) =  9243\n",
            "\n",
            "True Negatives(TN) =  12419\n",
            "\n",
            "False Positives(FP) (Type I Error) =  468\n",
            "\n",
            "False Negatives(FN) (Type II Error) =  414\n",
            "\n",
            "\n",
            "--------------- CLASSIFICATION REPORT ---------------\n",
            "\n",
            "\n",
            "              precision    recall  f1-score   support\n",
            "\n",
            "         0.0       0.96      0.95      0.95      9711\n",
            "         1.0       0.96      0.97      0.97     12833\n",
            "\n",
            "    accuracy                           0.96     22544\n",
            "   macro avg       0.96      0.96      0.96     22544\n",
            "weighted avg       0.96      0.96      0.96     22544\n",
            "\n",
            "\n",
            "\n",
            "--------------- PERFORMANCE METRICS ---------------\n",
            "\n",
            "\n",
            "Classification accuracy : 0.9609\n",
            "Classification error : 0.0391\n",
            "Precision : 0.9518\n",
            "Recall or Sensitivity : 0.9571\n",
            "False Positive Rate (Type I Error): 0.0363\n",
            "False Negative Rate (Type II Error): 0.0429\n",
            "Specificity : 0.9637\n",
            "ROCAUC: 95.98%\n",
            "\n",
            "\n",
            "----------------- Accuracy Over Time Graph -----------------\n",
            "\n",
            "\n"
          ]
        },
        {
          "output_type": "display_data",
          "data": {
            "text/plain": [
              "<Figure size 720x432 with 1 Axes>"
            ],
            "image/png": "[encoded data removed]"
          },
          "metadata": {}
        }
      ]
    }
  ]
}